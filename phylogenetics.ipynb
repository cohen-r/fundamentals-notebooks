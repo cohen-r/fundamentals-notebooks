{
 "cells": [
  {
   "cell_type": "markdown",
   "id": "538b53de",
   "metadata": {},
   "source": [
    "# Welcome to the Phylogenetics Jupyter Notebook!"
   ]
  },
  {
   "cell_type": "markdown",
   "id": "aa25c28e",
   "metadata": {},
   "source": [
    "### You have been learning about phylogenetics over the past few weeks: looking at phylogenetic trees and thinking about how we can understand evolutionary relationships. Due to advances in sequencing technology, a lot of current phylogenetics work is characterized by *enormous* datasets, meaning that a lot of work we do in the field is *computational*.\n",
    "\n",
    "### Along with dealing with large datasets, computational work has allowed us to develop ways to simulate evolution. This notebook is meant to introduce you to very simple evolutionary simulations, so that you can visualize some of the concepts we've been talking about in class. "
   ]
  },
  {
   "cell_type": "markdown",
   "id": "15d8e783",
   "metadata": {},
   "source": [
    "<div class=\"alert alert-success\">\n",
    "<b>Learning objectives</b>\n",
    "<br />1. Understand what a jupyter notebook is and how to run code in jupyter notebook cells\n",
    "<br />2. Review key terms in phylogenetics\n",
    "<br />3. Become familiar with toytree and ipcoal as tools for learning phylogenetics\n",
    "<br />4. Understand the species tree/gene tree problem and incomplete lineage sorting       \n",
    "<div>"
   ]
  },
  {
   "cell_type": "markdown",
   "id": "bdf5017a",
   "metadata": {},
   "source": [
    "## First, what is a jupyter notebook?"
   ]
  },
  {
   "cell_type": "markdown",
   "id": "98a3ab35",
   "metadata": {},
   "source": [
    "Jupyter notebooks are interactive way of running and visualizing different coding languages (typically python) through a web-browser. They are a tool that can be use to develop and share code, and can be a really nice teaching tool as well! Here is a mini tutorial on how they work"
   ]
  },
  {
   "cell_type": "markdown",
   "id": "c5e99aca",
   "metadata": {},
   "source": [
    "Each block of code is contained within a **cell** which are run individually. Double click on this text, and you'll see it change. This is a Markdown cell, which allows me to make this nicely formatted text! Press cmd + enter on Mac or ctrl + enter on PC to run this cell. Below is a **code cell**, instead of text it contains code that can be run. Run the code cell below to see what happens:"
   ]
  },
  {
   "cell_type": "code",
   "execution_count": 5,
   "id": "092ef311",
   "metadata": {},
   "outputs": [
    {
     "name": "stdout",
     "output_type": "stream",
     "text": [
      "3\n"
     ]
    }
   ],
   "source": [
    "# store value to the variable x\n",
    "x = 3\n",
    "\n",
    "# print the variable x\n",
    "print(x)"
   ]
  },
  {
   "cell_type": "markdown",
   "id": "a6f11f34",
   "metadata": {},
   "source": [
    "## Now that you're acquainted with jupyter notebooks, lets do some phylogenetics!"
   ]
  },
  {
   "cell_type": "markdown",
   "id": "33110967",
   "metadata": {},
   "source": [
    "First, I'm going to import two packages that we will use to visualize and simulate evolutionary trees. **Toytree** helps us visualize the trees and **ipcoal** uses a coalescent model to simulate data."
   ]
  },
  {
   "cell_type": "code",
   "execution_count": 1,
   "id": "fa92f497",
   "metadata": {},
   "outputs": [],
   "source": [
    "import ipcoal\n",
    "import toytree"
   ]
  },
  {
   "cell_type": "markdown",
   "id": "00cbebfb",
   "metadata": {},
   "source": [
    "Great! Now that **toytree** and **ipcoal** are imported, we can start to do some phylogenetics! Let's start by generating a random tree with 8 tips. Don't worry so much about what the code is doing here, just run the code cell below to see the tree."
   ]
  },
  {
   "cell_type": "code",
   "execution_count": 10,
   "id": "9d520810",
   "metadata": {},
   "outputs": [
    {
     "data": {
      "text/html": [
       "<div class=\"toyplot\" id=\"t00f0cfccc0cb4ab79585ff12d1e31496\" style=\"text-align:center\"><svg class=\"toyplot-canvas-Canvas\" xmlns:toyplot=\"http://www.sandia.gov/toyplot\" xmlns:xlink=\"http://www.w3.org/1999/xlink\" xmlns=\"http://www.w3.org/2000/svg\" width=\"260.0px\" height=\"275.0px\" viewBox=\"0 0 260.0 275.0\" preserveAspectRatio=\"xMidYMid meet\" style=\"background-color:transparent;border-color:#292724;border-style:none;border-width:1.0;fill:rgb(16.1%,15.3%,14.1%);fill-opacity:1.0;font-family:Helvetica;font-size:12px;opacity:1.0;stroke:rgb(16.1%,15.3%,14.1%);stroke-opacity:1.0;stroke-width:1.0\" id=\"tced5ca63233f4ed189d1ea2b3a69f1e0\"><g class=\"toyplot-coordinates-Cartesian\" id=\"t6bd007f49ef046b7ac17d7636d65d694\"><clipPath id=\"tae0bae7aa15f4d62a90ae8b3ead921ad\"><rect x=\"30.0\" y=\"30.0\" width=\"200.0\" height=\"215.0\"></rect></clipPath><g clip-path=\"url(#tae0bae7aa15f4d62a90ae8b3ead921ad)\"><g class=\"toytree-mark-Toytree\" id=\"t4b96cda513474ec0ba440d0c9f668e47\"><g class=\"toytree-Edges\" style=\"fill:none;stroke:rgb(14.9%,14.9%,14.9%);stroke-linecap:round;stroke-opacity:1;stroke-width:2\"><path d=\"M 62.4 130.8 L 62.4 81.5 L 95.4 81.5\" id=\"14,13\"></path><path d=\"M 62.4 130.8 L 62.4 180.2 L 128.5 180.2\" id=\"14,12\"></path><path d=\"M 95.4 81.5 L 95.4 100.2 L 128.5 100.2\" id=\"13,11\"></path><path d=\"M 128.5 180.2 L 128.5 158.8 L 161.5 158.8\" id=\"12,10\"></path><path d=\"M 128.5 180.2 L 128.5 201.5 L 161.5 201.5\" id=\"12,9\"></path><path d=\"M 128.5 100.2 L 128.5 116.2 L 161.5 116.2\" id=\"11,8\"></path><path d=\"M 95.4 81.5 L 95.4 62.8 L 194.6 62.8\" id=\"13,7\"></path><path d=\"M 128.5 100.2 L 128.5 84.1 L 194.6 84.1\" id=\"11,6\"></path><path d=\"M 161.5 116.2 L 161.5 105.5 L 194.6 105.5\" id=\"8,5\"></path><path d=\"M 161.5 116.2 L 161.5 126.8 L 194.6 126.8\" id=\"8,4\"></path><path d=\"M 161.5 158.8 L 161.5 148.2 L 194.6 148.2\" id=\"10,3\"></path><path d=\"M 161.5 158.8 L 161.5 169.5 L 194.6 169.5\" id=\"10,2\"></path><path d=\"M 161.5 201.5 L 161.5 190.9 L 194.6 190.9\" id=\"9,1\"></path><path d=\"M 161.5 201.5 L 161.5 212.2 L 194.6 212.2\" id=\"9,0\"></path></g><g class=\"toytree-Nodes\" style=\"fill:rgb(82.7%,82.7%,82.7%);fill-opacity:1.0;stroke:rgb(14.9%,14.9%,14.9%);stroke-opacity:1.0;stroke-width:1.5\"><g id=\"node-0\" transform=\"translate(194.577,212.195)\"><circle r=\"7.5\"></circle></g><g id=\"node-1\" transform=\"translate(194.577,190.854)\"><circle r=\"7.5\"></circle></g><g id=\"node-2\" transform=\"translate(194.577,169.512)\"><circle r=\"7.5\"></circle></g><g id=\"node-3\" transform=\"translate(194.577,148.171)\"><circle r=\"7.5\"></circle></g><g id=\"node-4\" transform=\"translate(194.577,126.829)\"><circle r=\"7.5\"></circle></g><g id=\"node-5\" transform=\"translate(194.577,105.488)\"><circle r=\"7.5\"></circle></g><g id=\"node-6\" transform=\"translate(194.577,84.146)\"><circle r=\"7.5\"></circle></g><g id=\"node-7\" transform=\"translate(194.577,62.805)\"><circle r=\"7.5\"></circle></g><g id=\"node-8\" transform=\"translate(161.530,116.159)\"><circle r=\"7.5\"></circle></g><g id=\"node-9\" transform=\"translate(161.530,201.524)\"><circle r=\"7.5\"></circle></g><g id=\"node-10\" transform=\"translate(161.530,158.841)\"><circle r=\"7.5\"></circle></g><g id=\"node-11\" transform=\"translate(128.484,100.152)\"><circle r=\"7.5\"></circle></g><g id=\"node-12\" transform=\"translate(128.484,180.183)\"><circle r=\"7.5\"></circle></g><g id=\"node-13\" transform=\"translate(95.438,81.479)\"><circle r=\"7.5\"></circle></g><g id=\"node-14\" transform=\"translate(62.392,130.831)\"><circle r=\"7.5\"></circle></g></g><g class=\"toytree-NodeLabels\" style=\"fill:rgb(14.9%,14.9%,14.9%);fill-opacity:1.0;font-size:9px;stroke:none\"><g transform=\"translate(192.07,214.49)\"><text>0</text></g><g transform=\"translate(192.07,193.15)\"><text>1</text></g><g transform=\"translate(192.07,171.81)\"><text>2</text></g><g transform=\"translate(192.07,150.47)\"><text>3</text></g><g transform=\"translate(192.07,129.13)\"><text>4</text></g><g transform=\"translate(192.07,107.79)\"><text>5</text></g><g transform=\"translate(192.07,86.45)\"><text>6</text></g><g transform=\"translate(192.07,65.10)\"><text>7</text></g><g transform=\"translate(159.03,118.46)\"><text>8</text></g><g transform=\"translate(159.03,203.82)\"><text>9</text></g><g transform=\"translate(156.53,161.14)\"><text>10</text></g><g transform=\"translate(123.48,102.45)\"><text>11</text></g><g transform=\"translate(123.48,182.48)\"><text>12</text></g><g transform=\"translate(90.43,83.78)\"><text>13</text></g><g transform=\"translate(57.39,133.13)\"><text>14</text></g></g><g class=\"toytree-TipLabels\" style=\"fill:rgb(14.9%,14.9%,14.9%);fill-opacity:1.0;font-family:helvetica;font-size:11px;font-weight:normal;stroke:none;white-space:pre\"><g transform=\"translate(194.58,212.20)rotate(0)\"><text x=\"15.00\" y=\"2.81\" style=\"\">r0</text></g><g transform=\"translate(194.58,190.85)rotate(0)\"><text x=\"15.00\" y=\"2.81\" style=\"\">r1</text></g><g transform=\"translate(194.58,169.51)rotate(0)\"><text x=\"15.00\" y=\"2.81\" style=\"\">r2</text></g><g transform=\"translate(194.58,148.17)rotate(0)\"><text x=\"15.00\" y=\"2.81\" style=\"\">r3</text></g><g transform=\"translate(194.58,126.83)rotate(0)\"><text x=\"15.00\" y=\"2.81\" style=\"\">r4</text></g><g transform=\"translate(194.58,105.49)rotate(0)\"><text x=\"15.00\" y=\"2.81\" style=\"\">r5</text></g><g transform=\"translate(194.58,84.15)rotate(0)\"><text x=\"15.00\" y=\"2.81\" style=\"\">r6</text></g><g transform=\"translate(194.58,62.80)rotate(0)\"><text x=\"15.00\" y=\"2.81\" style=\"\">r7</text></g></g></g></g></g></svg><div class=\"toyplot-behavior\"><script>(function()\n",
       "{\n",
       "var modules={};\n",
       "})();</script></div></div>"
      ]
     },
     "metadata": {},
     "output_type": "display_data"
    }
   ],
   "source": [
    "# generate a random tree with 8 tips and height of 1M generations\n",
    "tree1 = toytree.rtree.unittree(8, treeheight=1e6, seed=123)\n",
    "# draw tree showing idx labels\n",
    "tree1.draw(tree_style='s');"
   ]
  },
  {
   "cell_type": "markdown",
   "id": "04ac530a",
   "metadata": {},
   "source": [
    "Now let's review some terminology. Fill in the answers to these questions by double-clicking this markdown cell and replacing the **blank** with the correct term:\n",
    "1. r0-r7 are called the **blank** on this tree\n",
    "2. r2 and r3 are **blank** to each other\n",
    "3. r0, r1, r2, and r3 are considered a **blank** group\n",
    "4. r0, r1, r4, and r5 are considered a **blank** group\n",
    "5. the specific arrangment of the tips of the tree is referred to as the **blank** of the tree\n",
    "6. Node 14 has a special name. It is the **blank**."
   ]
  },
  {
   "cell_type": "markdown",
   "id": "bd52acd4",
   "metadata": {},
   "source": [
    "## Visualizing the Gene Tree/Species Tree Problem"
   ]
  },
  {
   "cell_type": "markdown",
   "id": "d22cf08e",
   "metadata": {},
   "source": [
    "As you learned in lecture, gene trees don't always match the species tree. What does this look like? Let's use the tree above as our species tree. "
   ]
  },
  {
   "cell_type": "code",
   "execution_count": 3,
   "id": "d469569d",
   "metadata": {},
   "outputs": [
    {
     "ename": "AttributeError",
     "evalue": "'ToyTree' object has no attribute 'set_node_data'",
     "output_type": "error",
     "traceback": [
      "\u001b[0;31m---------------------------------------------------------------------------\u001b[0m",
      "\u001b[0;31mAttributeError\u001b[0m                            Traceback (most recent call last)",
      "\u001b[0;32m/var/folders/gw/pf3npx0x6nl4l88h1b1v305c0000gn/T/ipykernel_37783/3846809340.py\u001b[0m in \u001b[0;36m<module>\u001b[0;34m\u001b[0m\n\u001b[0;32m----> 1\u001b[0;31m \u001b[0mmodel1\u001b[0m \u001b[0;34m=\u001b[0m \u001b[0mipcoal\u001b[0m\u001b[0;34m.\u001b[0m\u001b[0mModel\u001b[0m\u001b[0;34m(\u001b[0m\u001b[0mtree\u001b[0m\u001b[0;34m=\u001b[0m\u001b[0mtree1\u001b[0m\u001b[0;34m,\u001b[0m \u001b[0mNe\u001b[0m\u001b[0;34m=\u001b[0m\u001b[0;36m1e5\u001b[0m\u001b[0;34m)\u001b[0m\u001b[0;34m\u001b[0m\u001b[0;34m\u001b[0m\u001b[0m\n\u001b[0m\u001b[1;32m      2\u001b[0m \u001b[0mmodel1\u001b[0m\u001b[0;34m.\u001b[0m\u001b[0msim_trees\u001b[0m\u001b[0;34m(\u001b[0m\u001b[0mnloci\u001b[0m\u001b[0;34m=\u001b[0m\u001b[0;36m10\u001b[0m\u001b[0;34m,\u001b[0m \u001b[0mnsites\u001b[0m\u001b[0;34m=\u001b[0m\u001b[0;36m1\u001b[0m\u001b[0;34m)\u001b[0m\u001b[0;34m\u001b[0m\u001b[0;34m\u001b[0m\u001b[0m\n",
      "\u001b[0;32m~/github/fundamentals-notebooks/ipcoal/ipcoal/Model.py\u001b[0m in \u001b[0;36m__init__\u001b[0;34m(self, tree, Ne, admixture_edges, nsamples, mut, recomb, subst_model, seed_trees, seed_mutations, **kwargs)\u001b[0m\n\u001b[1;32m    155\u001b[0m         \u001b[0;31m# set Ne to all nodes of self.tree\u001b[0m\u001b[0;34m\u001b[0m\u001b[0;34m\u001b[0m\u001b[0m\n\u001b[1;32m    156\u001b[0m         \u001b[0mself\u001b[0m\u001b[0;34m.\u001b[0m\u001b[0mneff\u001b[0m\u001b[0;34m:\u001b[0m \u001b[0mint\u001b[0m \u001b[0;34m=\u001b[0m \u001b[0;32mNone\u001b[0m\u001b[0;34m\u001b[0m\u001b[0;34m\u001b[0m\u001b[0m\n\u001b[0;32m--> 157\u001b[0;31m         \u001b[0mself\u001b[0m\u001b[0;34m.\u001b[0m\u001b[0m_set_neff\u001b[0m\u001b[0;34m(\u001b[0m\u001b[0mNe\u001b[0m\u001b[0;34m)\u001b[0m\u001b[0;34m\u001b[0m\u001b[0;34m\u001b[0m\u001b[0m\n\u001b[0m\u001b[1;32m    158\u001b[0m \u001b[0;34m\u001b[0m\u001b[0m\n\u001b[1;32m    159\u001b[0m         \u001b[0;31m# set tip names for samples to relabel tree and seqs\u001b[0m\u001b[0;34m\u001b[0m\u001b[0;34m\u001b[0m\u001b[0m\n",
      "\u001b[0;32m~/github/fundamentals-notebooks/ipcoal/ipcoal/Model.py\u001b[0m in \u001b[0;36m_set_neff\u001b[0;34m(self, neff)\u001b[0m\n\u001b[1;32m    363\u001b[0m             \u001b[0mself\u001b[0m\u001b[0;34m.\u001b[0m\u001b[0mneff\u001b[0m \u001b[0;34m=\u001b[0m \u001b[0mmax\u001b[0m\u001b[0;34m(\u001b[0m\u001b[0mnode_neffs\u001b[0m\u001b[0;34m)\u001b[0m\u001b[0;34m\u001b[0m\u001b[0;34m\u001b[0m\u001b[0m\n\u001b[1;32m    364\u001b[0m         \u001b[0;32melse\u001b[0m\u001b[0;34m:\u001b[0m\u001b[0;34m\u001b[0m\u001b[0;34m\u001b[0m\u001b[0m\n\u001b[0;32m--> 365\u001b[0;31m             \u001b[0mself\u001b[0m\u001b[0;34m.\u001b[0m\u001b[0mtree\u001b[0m \u001b[0;34m=\u001b[0m \u001b[0mself\u001b[0m\u001b[0;34m.\u001b[0m\u001b[0mtree\u001b[0m\u001b[0;34m.\u001b[0m\u001b[0mset_node_data\u001b[0m\u001b[0;34m(\u001b[0m\u001b[0;34m\"Ne\"\u001b[0m\u001b[0;34m,\u001b[0m \u001b[0mdefault\u001b[0m\u001b[0;34m=\u001b[0m\u001b[0mneff\u001b[0m\u001b[0;34m)\u001b[0m\u001b[0;34m\u001b[0m\u001b[0;34m\u001b[0m\u001b[0m\n\u001b[0m\u001b[1;32m    366\u001b[0m \u001b[0;34m\u001b[0m\u001b[0m\n\u001b[1;32m    367\u001b[0m     \u001b[0;32mdef\u001b[0m \u001b[0m_get_migration\u001b[0m\u001b[0;34m(\u001b[0m\u001b[0mself\u001b[0m\u001b[0;34m)\u001b[0m\u001b[0;34m:\u001b[0m\u001b[0;34m\u001b[0m\u001b[0;34m\u001b[0m\u001b[0m\n",
      "\u001b[0;31mAttributeError\u001b[0m: 'ToyTree' object has no attribute 'set_node_data'"
     ]
    }
   ],
   "source": [
    "model1 = ipcoal.Model(tree=tree1, Ne=1e5)\n",
    "model1.sim_trees(nloci=10, nsites=1)"
   ]
  },
  {
   "cell_type": "code",
   "execution_count": null,
   "id": "e6ff2051",
   "metadata": {},
   "outputs": [],
   "source": [
    "# a dictionary of arguments to style the drawings\n",
    "kwargs = {\n",
    "    \"ts\": \"c\",\n",
    "    \"tip_labels\": True,\n",
    "    \"shared_axis\": True,\n",
    "    \"width\": 600,\n",
    "    \"height\": 200,\n",
    "    \"node_sizes\": 6,\n",
    "}\n",
    "\n",
    "# draw a grid of trees from model 1\n",
    "toytree.mtree(model1.df.genealogy).draw_tree_grid(**kwargs);"
   ]
  },
  {
   "cell_type": "markdown",
   "id": "ec2d53f4",
   "metadata": {},
   "source": [
    "Let's look at that species tree again:"
   ]
  },
  {
   "cell_type": "code",
   "execution_count": 16,
   "id": "58a36ac7",
   "metadata": {},
   "outputs": [
    {
     "data": {
      "text/html": [
       "<div class=\"toyplot\" id=\"te6398b90da7049da9ba516804474d92f\" style=\"text-align:center\"><svg class=\"toyplot-canvas-Canvas\" xmlns:toyplot=\"http://www.sandia.gov/toyplot\" xmlns:xlink=\"http://www.w3.org/1999/xlink\" xmlns=\"http://www.w3.org/2000/svg\" width=\"260.0px\" height=\"275.0px\" viewBox=\"0 0 260.0 275.0\" preserveAspectRatio=\"xMidYMid meet\" style=\"background-color:transparent;border-color:#292724;border-style:none;border-width:1.0;fill:rgb(16.1%,15.3%,14.1%);fill-opacity:1.0;font-family:Helvetica;font-size:12px;opacity:1.0;stroke:rgb(16.1%,15.3%,14.1%);stroke-opacity:1.0;stroke-width:1.0\" id=\"t0fc815754ab540dea1a9941b41ce4d26\"><g class=\"toyplot-coordinates-Cartesian\" id=\"tb19db39c75424d5baf745f9b314c93f2\"><clipPath id=\"t2f2b361755d64b8393e43d768754804f\"><rect x=\"30.0\" y=\"30.0\" width=\"200.0\" height=\"215.0\"></rect></clipPath><g clip-path=\"url(#t2f2b361755d64b8393e43d768754804f)\"><g class=\"toytree-mark-Toytree\" id=\"t1664305e8d644acdb2af809ed514b2d1\"><g class=\"toytree-Edges\" style=\"fill:none;stroke:rgb(14.9%,14.9%,14.9%);stroke-linecap:round;stroke-opacity:1;stroke-width:2\"><path d=\"M 62.4 130.8 L 62.4 81.5 L 95.4 81.5\" id=\"14,13\"></path><path d=\"M 62.4 130.8 L 62.4 180.2 L 128.5 180.2\" id=\"14,12\"></path><path d=\"M 95.4 81.5 L 95.4 100.2 L 128.5 100.2\" id=\"13,11\"></path><path d=\"M 128.5 180.2 L 128.5 158.8 L 161.5 158.8\" id=\"12,10\"></path><path d=\"M 128.5 180.2 L 128.5 201.5 L 161.5 201.5\" id=\"12,9\"></path><path d=\"M 128.5 100.2 L 128.5 116.2 L 161.5 116.2\" id=\"11,8\"></path><path d=\"M 95.4 81.5 L 95.4 62.8 L 194.6 62.8\" id=\"13,7\"></path><path d=\"M 128.5 100.2 L 128.5 84.1 L 194.6 84.1\" id=\"11,6\"></path><path d=\"M 161.5 116.2 L 161.5 105.5 L 194.6 105.5\" id=\"8,5\"></path><path d=\"M 161.5 116.2 L 161.5 126.8 L 194.6 126.8\" id=\"8,4\"></path><path d=\"M 161.5 158.8 L 161.5 148.2 L 194.6 148.2\" id=\"10,3\"></path><path d=\"M 161.5 158.8 L 161.5 169.5 L 194.6 169.5\" id=\"10,2\"></path><path d=\"M 161.5 201.5 L 161.5 190.9 L 194.6 190.9\" id=\"9,1\"></path><path d=\"M 161.5 201.5 L 161.5 212.2 L 194.6 212.2\" id=\"9,0\"></path></g><g class=\"toytree-Nodes\" style=\"fill:rgb(82.7%,82.7%,82.7%);fill-opacity:1.0;stroke:rgb(14.9%,14.9%,14.9%);stroke-opacity:1.0;stroke-width:1.5\"><g id=\"node-0\" transform=\"translate(194.577,212.195)\"><circle r=\"7.5\"></circle></g><g id=\"node-1\" transform=\"translate(194.577,190.854)\"><circle r=\"7.5\"></circle></g><g id=\"node-2\" transform=\"translate(194.577,169.512)\"><circle r=\"7.5\"></circle></g><g id=\"node-3\" transform=\"translate(194.577,148.171)\"><circle r=\"7.5\"></circle></g><g id=\"node-4\" transform=\"translate(194.577,126.829)\"><circle r=\"7.5\"></circle></g><g id=\"node-5\" transform=\"translate(194.577,105.488)\"><circle r=\"7.5\"></circle></g><g id=\"node-6\" transform=\"translate(194.577,84.146)\"><circle r=\"7.5\"></circle></g><g id=\"node-7\" transform=\"translate(194.577,62.805)\"><circle r=\"7.5\"></circle></g><g id=\"node-8\" transform=\"translate(161.530,116.159)\"><circle r=\"7.5\"></circle></g><g id=\"node-9\" transform=\"translate(161.530,201.524)\"><circle r=\"7.5\"></circle></g><g id=\"node-10\" transform=\"translate(161.530,158.841)\"><circle r=\"7.5\"></circle></g><g id=\"node-11\" transform=\"translate(128.484,100.152)\"><circle r=\"7.5\"></circle></g><g id=\"node-12\" transform=\"translate(128.484,180.183)\"><circle r=\"7.5\"></circle></g><g id=\"node-13\" transform=\"translate(95.438,81.479)\"><circle r=\"7.5\"></circle></g><g id=\"node-14\" transform=\"translate(62.392,130.831)\"><circle r=\"7.5\"></circle></g></g><g class=\"toytree-NodeLabels\" style=\"fill:rgb(14.9%,14.9%,14.9%);fill-opacity:1.0;font-size:9px;stroke:none\"><g transform=\"translate(192.07,214.49)\"><text>0</text></g><g transform=\"translate(192.07,193.15)\"><text>1</text></g><g transform=\"translate(192.07,171.81)\"><text>2</text></g><g transform=\"translate(192.07,150.47)\"><text>3</text></g><g transform=\"translate(192.07,129.13)\"><text>4</text></g><g transform=\"translate(192.07,107.79)\"><text>5</text></g><g transform=\"translate(192.07,86.45)\"><text>6</text></g><g transform=\"translate(192.07,65.10)\"><text>7</text></g><g transform=\"translate(159.03,118.46)\"><text>8</text></g><g transform=\"translate(159.03,203.82)\"><text>9</text></g><g transform=\"translate(156.53,161.14)\"><text>10</text></g><g transform=\"translate(123.48,102.45)\"><text>11</text></g><g transform=\"translate(123.48,182.48)\"><text>12</text></g><g transform=\"translate(90.43,83.78)\"><text>13</text></g><g transform=\"translate(57.39,133.13)\"><text>14</text></g></g><g class=\"toytree-TipLabels\" style=\"fill:rgb(14.9%,14.9%,14.9%);fill-opacity:1.0;font-family:helvetica;font-size:11px;font-weight:normal;stroke:none;white-space:pre\"><g transform=\"translate(194.58,212.20)rotate(0)\"><text x=\"15.00\" y=\"2.81\" style=\"\">r0</text></g><g transform=\"translate(194.58,190.85)rotate(0)\"><text x=\"15.00\" y=\"2.81\" style=\"\">r1</text></g><g transform=\"translate(194.58,169.51)rotate(0)\"><text x=\"15.00\" y=\"2.81\" style=\"\">r2</text></g><g transform=\"translate(194.58,148.17)rotate(0)\"><text x=\"15.00\" y=\"2.81\" style=\"\">r3</text></g><g transform=\"translate(194.58,126.83)rotate(0)\"><text x=\"15.00\" y=\"2.81\" style=\"\">r4</text></g><g transform=\"translate(194.58,105.49)rotate(0)\"><text x=\"15.00\" y=\"2.81\" style=\"\">r5</text></g><g transform=\"translate(194.58,84.15)rotate(0)\"><text x=\"15.00\" y=\"2.81\" style=\"\">r6</text></g><g transform=\"translate(194.58,62.80)rotate(0)\"><text x=\"15.00\" y=\"2.81\" style=\"\">r7</text></g></g></g></g></g></svg><div class=\"toyplot-behavior\"><script>(function()\n",
       "{\n",
       "var modules={};\n",
       "})();</script></div></div>"
      ]
     },
     "metadata": {},
     "output_type": "display_data"
    }
   ],
   "source": [
    "tree1.draw(tree_style='s');"
   ]
  },
  {
   "cell_type": "markdown",
   "id": "ccd9714a",
   "metadata": {},
   "source": [
    "What do you notice about the species tree relative to gene trees you simulated? What can you say about their **topologies**? Double click into this markdown cell to respond below:\n",
    "\n",
    "\n",
    "\n",
    "\n",
    "\n",
    "\n"
   ]
  },
  {
   "cell_type": "markdown",
   "id": "dea7b745",
   "metadata": {},
   "source": [
    "## Incomplete Lineage Sorting"
   ]
  },
  {
   "cell_type": "markdown",
   "id": "47189a0f",
   "metadata": {},
   "source": [
    "You probably observed above that the topologies of the gene trees don't always match the species tree. We call this phenomenon **gene tree discordance** and it is the result of **incomplete lineage sorting**: when the evolutionary trajectory of a gene does not match the larger species tree pattern.\n",
    "\n",
    "**Incomplete lineage sorting (ILS)** can make it difficult to resolve species trees (a major goal of a lot of research in Evolutionary Biology!). Simulations can help us understand 1) how ILS will impact how our statistical models resolve phylogenies and 2) which parameters affect ILS, and to what degree. \n",
    "\n",
    "In the following activity you will use simulations to address the second question, looking at how **effective population size (Ne), mutation rate, and admixture** affect ILS & gene tree discordance. Use the same species tree you made above (tree1) to test how differences in each of these parameters affects the degree of gene tree discordance! *Record your observations in the markdown cell at the bottom of the notebook.*"
   ]
  },
  {
   "cell_type": "markdown",
   "id": "6009270a",
   "metadata": {},
   "source": [
    "### Effective Population Size (Ne)\n",
    "Recall that effective population size reflects the number of breeding individuals in a population. I've created two models with different Ne values. Keep the Ne value of model1 constant, but adjust the Ne value of model2. What happens when Ne=1e1? What about 1e10? Play around with different values of Ne and record how gene tree discordance changes. "
   ]
  },
  {
   "cell_type": "code",
   "execution_count": 17,
   "id": "7a7ece4a",
   "metadata": {},
   "outputs": [
    {
     "ename": "AttributeError",
     "evalue": "'ToyTree' object has no attribute 'set_node_data'",
     "output_type": "error",
     "traceback": [
      "\u001b[0;31m---------------------------------------------------------------------------\u001b[0m",
      "\u001b[0;31mAttributeError\u001b[0m                            Traceback (most recent call last)",
      "\u001b[0;32m/var/folders/gw/pf3npx0x6nl4l88h1b1v305c0000gn/T/ipykernel_37783/4214751455.py\u001b[0m in \u001b[0;36m<module>\u001b[0;34m\u001b[0m\n\u001b[1;32m      1\u001b[0m \u001b[0;31m#create two models that differ in Ne\u001b[0m\u001b[0;34m\u001b[0m\u001b[0;34m\u001b[0m\u001b[0m\n\u001b[0;32m----> 2\u001b[0;31m \u001b[0mmodel1\u001b[0m \u001b[0;34m=\u001b[0m \u001b[0mipcoal\u001b[0m\u001b[0;34m.\u001b[0m\u001b[0mModel\u001b[0m\u001b[0;34m(\u001b[0m\u001b[0mtree\u001b[0m\u001b[0;34m=\u001b[0m\u001b[0mtree1\u001b[0m\u001b[0;34m,\u001b[0m \u001b[0mNe\u001b[0m\u001b[0;34m=\u001b[0m\u001b[0;36m1e4\u001b[0m\u001b[0;34m)\u001b[0m\u001b[0;34m\u001b[0m\u001b[0;34m\u001b[0m\u001b[0m\n\u001b[0m\u001b[1;32m      3\u001b[0m \u001b[0mmodel2\u001b[0m \u001b[0;34m=\u001b[0m \u001b[0mipcoal\u001b[0m\u001b[0;34m.\u001b[0m\u001b[0mModel\u001b[0m\u001b[0;34m(\u001b[0m\u001b[0mtree\u001b[0m\u001b[0;34m=\u001b[0m\u001b[0mtree1\u001b[0m\u001b[0;34m,\u001b[0m \u001b[0mNe\u001b[0m\u001b[0;34m=\u001b[0m\u001b[0;36m1e6\u001b[0m\u001b[0;34m)\u001b[0m\u001b[0;34m\u001b[0m\u001b[0;34m\u001b[0m\u001b[0m\n",
      "\u001b[0;32m~/github/fundamentals-notebooks/ipcoal/ipcoal/Model.py\u001b[0m in \u001b[0;36m__init__\u001b[0;34m(self, tree, Ne, admixture_edges, nsamples, mut, recomb, subst_model, seed_trees, seed_mutations, **kwargs)\u001b[0m\n\u001b[1;32m    155\u001b[0m         \u001b[0;31m# set Ne to all nodes of self.tree\u001b[0m\u001b[0;34m\u001b[0m\u001b[0;34m\u001b[0m\u001b[0m\n\u001b[1;32m    156\u001b[0m         \u001b[0mself\u001b[0m\u001b[0;34m.\u001b[0m\u001b[0mneff\u001b[0m\u001b[0;34m:\u001b[0m \u001b[0mint\u001b[0m \u001b[0;34m=\u001b[0m \u001b[0;32mNone\u001b[0m\u001b[0;34m\u001b[0m\u001b[0;34m\u001b[0m\u001b[0m\n\u001b[0;32m--> 157\u001b[0;31m         \u001b[0mself\u001b[0m\u001b[0;34m.\u001b[0m\u001b[0m_set_neff\u001b[0m\u001b[0;34m(\u001b[0m\u001b[0mNe\u001b[0m\u001b[0;34m)\u001b[0m\u001b[0;34m\u001b[0m\u001b[0;34m\u001b[0m\u001b[0m\n\u001b[0m\u001b[1;32m    158\u001b[0m \u001b[0;34m\u001b[0m\u001b[0m\n\u001b[1;32m    159\u001b[0m         \u001b[0;31m# set tip names for samples to relabel tree and seqs\u001b[0m\u001b[0;34m\u001b[0m\u001b[0;34m\u001b[0m\u001b[0m\n",
      "\u001b[0;32m~/github/fundamentals-notebooks/ipcoal/ipcoal/Model.py\u001b[0m in \u001b[0;36m_set_neff\u001b[0;34m(self, neff)\u001b[0m\n\u001b[1;32m    363\u001b[0m             \u001b[0mself\u001b[0m\u001b[0;34m.\u001b[0m\u001b[0mneff\u001b[0m \u001b[0;34m=\u001b[0m \u001b[0mmax\u001b[0m\u001b[0;34m(\u001b[0m\u001b[0mnode_neffs\u001b[0m\u001b[0;34m)\u001b[0m\u001b[0;34m\u001b[0m\u001b[0;34m\u001b[0m\u001b[0m\n\u001b[1;32m    364\u001b[0m         \u001b[0;32melse\u001b[0m\u001b[0;34m:\u001b[0m\u001b[0;34m\u001b[0m\u001b[0;34m\u001b[0m\u001b[0m\n\u001b[0;32m--> 365\u001b[0;31m             \u001b[0mself\u001b[0m\u001b[0;34m.\u001b[0m\u001b[0mtree\u001b[0m \u001b[0;34m=\u001b[0m \u001b[0mself\u001b[0m\u001b[0;34m.\u001b[0m\u001b[0mtree\u001b[0m\u001b[0;34m.\u001b[0m\u001b[0mset_node_data\u001b[0m\u001b[0;34m(\u001b[0m\u001b[0;34m\"Ne\"\u001b[0m\u001b[0;34m,\u001b[0m \u001b[0mdefault\u001b[0m\u001b[0;34m=\u001b[0m\u001b[0mneff\u001b[0m\u001b[0;34m)\u001b[0m\u001b[0;34m\u001b[0m\u001b[0;34m\u001b[0m\u001b[0m\n\u001b[0m\u001b[1;32m    366\u001b[0m \u001b[0;34m\u001b[0m\u001b[0m\n\u001b[1;32m    367\u001b[0m     \u001b[0;32mdef\u001b[0m \u001b[0m_get_migration\u001b[0m\u001b[0;34m(\u001b[0m\u001b[0mself\u001b[0m\u001b[0;34m)\u001b[0m\u001b[0;34m:\u001b[0m\u001b[0;34m\u001b[0m\u001b[0;34m\u001b[0m\u001b[0m\n",
      "\u001b[0;31mAttributeError\u001b[0m: 'ToyTree' object has no attribute 'set_node_data'"
     ]
    }
   ],
   "source": [
    "#create two models\n",
    "model1 = ipcoal.Model(tree=tree1, Ne=1e4)\n",
    "model2 = ipcoal.Model(tree=tree1, Ne=1e6)\n",
    "\n",
    "# simulate n genealogies for each model\n",
    "model1.sim_trees(10)\n",
    "model2.sim_trees(10)\n",
    "\n",
    "#draw the species tree\n",
    "tree1.draw(tree_style='s')\n",
    "# draw a grid of trees from model 1\n",
    "toytree.mtree(model1.df.genealogy).draw_tree_grid(**kwargs);\n",
    "# draw a grid of trees from model 2\n",
    "toytree.mtree(model2.df.genealogy).draw_tree_grid(**kwargs);"
   ]
  },
  {
   "cell_type": "markdown",
   "id": "9d6d819c",
   "metadata": {},
   "source": [
    "### Mutation Rate\n",
    "\n",
    "Now do the same thing for mutation rate. What happens when mutation rate is a lot higher? A lot lower?\n",
    "\n",
    "I've put Ne here so you can test how mutation rate and Ne work together to determine ILS. Does one seem to play a bigger role? Which? Record your observations below. "
   ]
  },
  {
   "cell_type": "code",
   "execution_count": null,
   "id": "49229c37",
   "metadata": {},
   "outputs": [],
   "source": [
    "#create two models\n",
    "model1 = ipcoal.Model(tree=tree1, mut=1e-8, Ne=1e4)\n",
    "model2 = ipcoal.Model(tree=tree1, mut=1e-10, Ne=1e4)\n",
    "\n",
    "# simulate n genealogies for each model\n",
    "model1.sim_trees(10)\n",
    "model2.sim_trees(10)\n",
    "\n",
    "#draw the species tree\n",
    "tree1.draw(tree_style='s')\n",
    "# draw a grid of trees from model 1\n",
    "toytree.mtree(model1.df.genealogy).draw_tree_grid(**kwargs);\n",
    "# draw a grid of trees from model 2\n",
    "toytree.mtree(model2.df.genealogy).draw_tree_grid(**kwargs);"
   ]
  },
  {
   "cell_type": "markdown",
   "id": "8719a4fb",
   "metadata": {},
   "source": [
    "### Admixture\n",
    "\n",
    "Admixture (sometimes called **introgression**) occurs when two species hybridize, passing genes between branches of a species tree. First, let's visualize what admixture looks like:"
   ]
  },
  {
   "cell_type": "code",
   "execution_count": 20,
   "id": "ca5b0f69",
   "metadata": {},
   "outputs": [
    {
     "data": {
      "text/plain": [
       "(<toyplot.canvas.Canvas at 0x13b2ac940>,\n",
       " <toyplot.coordinates.Cartesian at 0x13b0b95e0>,\n",
       " <toytree.Render.ToytreeMark at 0x13b299670>)"
      ]
     },
     "execution_count": 20,
     "metadata": {},
     "output_type": "execute_result"
    },
    {
     "data": {
      "text/html": [
       "<div class=\"toyplot\" id=\"t0cff9b6672e34a569307f0b908dd2858\" style=\"text-align:center\"><svg class=\"toyplot-canvas-Canvas\" xmlns:toyplot=\"http://www.sandia.gov/toyplot\" xmlns:xlink=\"http://www.w3.org/1999/xlink\" xmlns=\"http://www.w3.org/2000/svg\" width=\"260.0px\" height=\"275.0px\" viewBox=\"0 0 260.0 275.0\" preserveAspectRatio=\"xMidYMid meet\" style=\"background-color:transparent;border-color:#292724;border-style:none;border-width:1.0;fill:rgb(16.1%,15.3%,14.1%);fill-opacity:1.0;font-family:Helvetica;font-size:12px;opacity:1.0;stroke:rgb(16.1%,15.3%,14.1%);stroke-opacity:1.0;stroke-width:1.0\" id=\"t63a1f207b4534efa872edbcde8b284cb\"><g class=\"toyplot-coordinates-Cartesian\" id=\"tf381c75ca74540939779ce4953fdb351\"><clipPath id=\"t0942453ef89f4bf292816bfb775a8090\"><rect x=\"30.0\" y=\"30.0\" width=\"200.0\" height=\"215.0\"></rect></clipPath><g clip-path=\"url(#t0942453ef89f4bf292816bfb775a8090)\"><g class=\"toytree-mark-Toytree\" id=\"t7c236b3b7aaa44c0959ab13897622f0f\"><g class=\"toytree-Edges\" style=\"fill:none;stroke:rgb(14.9%,14.9%,14.9%);stroke-linecap:round;stroke-opacity:1;stroke-width:2\"><path d=\"M 62.4 130.8 L 62.4 81.5 L 95.4 81.5\" id=\"14,13\"></path><path d=\"M 62.4 130.8 L 62.4 180.2 L 128.5 180.2\" id=\"14,12\"></path><path d=\"M 95.4 81.5 L 95.4 100.2 L 128.5 100.2\" id=\"13,11\"></path><path d=\"M 128.5 180.2 L 128.5 158.8 L 161.5 158.8\" id=\"12,10\"></path><path d=\"M 128.5 180.2 L 128.5 201.5 L 161.5 201.5\" id=\"12,9\"></path><path d=\"M 128.5 100.2 L 128.5 116.2 L 161.5 116.2\" id=\"11,8\"></path><path d=\"M 95.4 81.5 L 95.4 62.8 L 194.6 62.8\" id=\"13,7\"></path><path d=\"M 128.5 100.2 L 128.5 84.1 L 194.6 84.1\" id=\"11,6\"></path><path d=\"M 161.5 116.2 L 161.5 105.5 L 194.6 105.5\" id=\"8,5\"></path><path d=\"M 161.5 116.2 L 161.5 126.8 L 194.6 126.8\" id=\"8,4\"></path><path d=\"M 161.5 158.8 L 161.5 148.2 L 194.6 148.2\" id=\"10,3\"></path><path d=\"M 161.5 158.8 L 161.5 169.5 L 194.6 169.5\" id=\"10,2\"></path><path d=\"M 161.5 201.5 L 161.5 190.9 L 194.6 190.9\" id=\"9,1\"></path><path d=\"M 161.5 201.5 L 161.5 212.2 L 194.6 212.2\" id=\"9,0\"></path></g><g class=\"toytree-AdmixEdges\" style=\"fill:none;font-size:14px;stroke:rgba(90.6%,54.1%,76.5%,1.000);stroke-linecap:round;stroke-opacity:0.6;stroke-width:5\"><path d=\"M 194.6 148.2 L 178.1 148.2 L 145.0 116.2 L 128.5 116.2\" style=\"stroke:rgb(98.8%,55.3%,38.4%);stroke-opacity:0.7\"></path></g><g class=\"toytree-Nodes\" style=\"fill:rgb(82.7%,82.7%,82.7%);fill-opacity:1.0;stroke:rgb(14.9%,14.9%,14.9%);stroke-opacity:1.0;stroke-width:1.5\"><g id=\"node-0\" transform=\"translate(194.577,212.195)\"><circle r=\"7.5\"></circle></g><g id=\"node-1\" transform=\"translate(194.577,190.854)\"><circle r=\"7.5\"></circle></g><g id=\"node-2\" transform=\"translate(194.577,169.512)\"><circle r=\"7.5\"></circle></g><g id=\"node-3\" transform=\"translate(194.577,148.171)\"><circle r=\"7.5\"></circle></g><g id=\"node-4\" transform=\"translate(194.577,126.829)\"><circle r=\"7.5\"></circle></g><g id=\"node-5\" transform=\"translate(194.577,105.488)\"><circle r=\"7.5\"></circle></g><g id=\"node-6\" transform=\"translate(194.577,84.146)\"><circle r=\"7.5\"></circle></g><g id=\"node-7\" transform=\"translate(194.577,62.805)\"><circle r=\"7.5\"></circle></g><g id=\"node-8\" transform=\"translate(161.530,116.159)\"><circle r=\"7.5\"></circle></g><g id=\"node-9\" transform=\"translate(161.530,201.524)\"><circle r=\"7.5\"></circle></g><g id=\"node-10\" transform=\"translate(161.530,158.841)\"><circle r=\"7.5\"></circle></g><g id=\"node-11\" transform=\"translate(128.484,100.152)\"><circle r=\"7.5\"></circle></g><g id=\"node-12\" transform=\"translate(128.484,180.183)\"><circle r=\"7.5\"></circle></g><g id=\"node-13\" transform=\"translate(95.438,81.479)\"><circle r=\"7.5\"></circle></g><g id=\"node-14\" transform=\"translate(62.392,130.831)\"><circle r=\"7.5\"></circle></g></g><g class=\"toytree-NodeLabels\" style=\"fill:rgb(14.9%,14.9%,14.9%);fill-opacity:1.0;font-size:9px;stroke:none\"><g transform=\"translate(192.07,214.49)\"><text>0</text></g><g transform=\"translate(192.07,193.15)\"><text>1</text></g><g transform=\"translate(192.07,171.81)\"><text>2</text></g><g transform=\"translate(192.07,150.47)\"><text>3</text></g><g transform=\"translate(192.07,129.13)\"><text>4</text></g><g transform=\"translate(192.07,107.79)\"><text>5</text></g><g transform=\"translate(192.07,86.45)\"><text>6</text></g><g transform=\"translate(192.07,65.10)\"><text>7</text></g><g transform=\"translate(159.03,118.46)\"><text>8</text></g><g transform=\"translate(159.03,203.82)\"><text>9</text></g><g transform=\"translate(156.53,161.14)\"><text>10</text></g><g transform=\"translate(123.48,102.45)\"><text>11</text></g><g transform=\"translate(123.48,182.48)\"><text>12</text></g><g transform=\"translate(90.43,83.78)\"><text>13</text></g><g transform=\"translate(57.39,133.13)\"><text>14</text></g></g><g class=\"toytree-TipLabels\" style=\"fill:rgb(14.9%,14.9%,14.9%);fill-opacity:1.0;font-family:helvetica;font-size:11px;font-weight:normal;stroke:none;white-space:pre\"><g transform=\"translate(194.58,212.20)rotate(0)\"><text x=\"15.00\" y=\"2.81\" style=\"\">r0</text></g><g transform=\"translate(194.58,190.85)rotate(0)\"><text x=\"15.00\" y=\"2.81\" style=\"\">r1</text></g><g transform=\"translate(194.58,169.51)rotate(0)\"><text x=\"15.00\" y=\"2.81\" style=\"\">r2</text></g><g transform=\"translate(194.58,148.17)rotate(0)\"><text x=\"15.00\" y=\"2.81\" style=\"\">r3</text></g><g transform=\"translate(194.58,126.83)rotate(0)\"><text x=\"15.00\" y=\"2.81\" style=\"\">r4</text></g><g transform=\"translate(194.58,105.49)rotate(0)\"><text x=\"15.00\" y=\"2.81\" style=\"\">r5</text></g><g transform=\"translate(194.58,84.15)rotate(0)\"><text x=\"15.00\" y=\"2.81\" style=\"\">r6</text></g><g transform=\"translate(194.58,62.80)rotate(0)\"><text x=\"15.00\" y=\"2.81\" style=\"\">r7</text></g></g></g></g></g></svg><div class=\"toyplot-behavior\"><script>(function()\n",
       "{\n",
       "var modules={};\n",
       "})();</script></div></div>"
      ]
     },
     "metadata": {},
     "output_type": "display_data"
    }
   ],
   "source": [
    "tree1.draw(ts='s', admixture_edges=[(3,8)])"
   ]
  },
  {
   "cell_type": "markdown",
   "id": "df6537a3",
   "metadata": {},
   "source": [
    "That orange line is called an **admixture edge**, and it indicates a hybridization event between the branch leading to node 8 and the branch leading to tip 3. How does this affect gene tree discordance?"
   ]
  },
  {
   "cell_type": "markdown",
   "id": "cdbf48ba",
   "metadata": {},
   "source": [
    "First, let's create simulations that include admixture. I'm creating a simple admixture edge where there is a single migration even that occurs backwards in time corresponding to the middle of each of branches 3 and 8. This can be adjusted. If you're interested in how to further customize admixture in an ipcoal simulation, click your cursor into the ipcoal.Model parentheses, hold down 'shift' and double click 'tab', this will allow you to scroll through the documentation of this function.\n",
    "\n",
    "Once you've run the below simulation, you are welcome to play around with it. Change the admixture edges: make them closer or farther away. Add in Ne or mutation rate! What does admixture do to gene tree discordance? Does this make sense to you? Why or why not? Record your observations in the observation cell below. "
   ]
  },
  {
   "cell_type": "code",
   "execution_count": null,
   "id": "b4a86ad0",
   "metadata": {},
   "outputs": [],
   "source": [
    "#create a model with an admixture edge\n",
    "model1 = ipcoal.Model(tree=tree1, mut=1e-8, Ne=1e4, admixture_edges=[(3, 8)])\n",
    "\n",
    "# simulate n genealogies for each model\n",
    "model1.sim_trees(10)\n",
    "\n",
    "#draw the species tree\n",
    "tree1.draw(tree_style='s')\n",
    "# draw a grid of trees from model 1\n",
    "toytree.mtree(model1.df.genealogy).draw_tree_grid(**kwargs);"
   ]
  },
  {
   "cell_type": "markdown",
   "id": "79a35c7b",
   "metadata": {},
   "source": [
    "# My observations:\n",
    "\n",
    "## Double click into this cell and record your observations from the above activities.\n"
   ]
  },
  {
   "cell_type": "markdown",
   "id": "2fe39a46",
   "metadata": {},
   "source": [
    "<div class=\"alert alert-success\">\n",
    "<b>Submitting the assignment</b>\n",
    "<br /> When you are finished with a notebook and ready to submit it, download as an HTML version of the notebook to submit. To do this, go to the 'File Menu', then 'Download as', and select HTML. Upload the HTML notebook to the 'Phylogenetics Jupyter Notebook' assignment in the In-class assigbments part of the Courseworks to submit your assignment. \n",
    "<div>"
   ]
  }
 ],
 "metadata": {
  "kernelspec": {
   "display_name": "Python 3 (ipykernel)",
   "language": "python",
   "name": "python3"
  },
  "language_info": {
   "codemirror_mode": {
    "name": "ipython",
    "version": 3
   },
   "file_extension": ".py",
   "mimetype": "text/x-python",
   "name": "python",
   "nbconvert_exporter": "python",
   "pygments_lexer": "ipython3",
   "version": "3.9.7"
  }
 },
 "nbformat": 4,
 "nbformat_minor": 5
}
