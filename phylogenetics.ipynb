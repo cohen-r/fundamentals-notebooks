{
 "cells": [
  {
   "cell_type": "markdown",
   "id": "538b53de",
   "metadata": {},
   "source": [
    "# Welcome to the Phylogenetics Jupyter Notebook!"
   ]
  },
  {
   "cell_type": "markdown",
   "id": "aa25c28e",
   "metadata": {},
   "source": [
    "### You have been learning about phylogenetics over the past few weeks: looking at phylogenetic trees and thinking about how we can understand evolutionary relationships. Due to advances in sequencing technology, a lot of current phylogenetics work is characterized by *enormous* datasets, meaning that a lot of work we do in the field is *computational*.\n",
    "\n",
    "### Along with dealing with large datasets, computational work has allowed us to develop ways to simulate evolution. This notebook is meant to introduce you to very simple evolutionary simulations, so that you can visualize some of the concepts we've been talking about in class. "
   ]
  },
  {
   "cell_type": "markdown",
   "id": "15d8e783",
   "metadata": {},
   "source": [
    "<div class=\"alert alert-success\">\n",
    "<b>Learning objectives</b>\n",
    "<br />1. Understand what a jupyter notebook is and how to run code in jupyter notebook cells\n",
    "<br />2. Review key terms in phylogenetics\n",
    "<br />3. Become familiar with toytree and ipcoal as tools for learning phylogenetics\n",
    "<br />4. Understand the species tree/gene tree problem and incomplete lineage sorting       \n",
    "<div>"
   ]
  },
  {
   "cell_type": "markdown",
   "id": "bdf5017a",
   "metadata": {},
   "source": [
    "## First, what is a jupyter notebook?"
   ]
  },
  {
   "cell_type": "markdown",
   "id": "98a3ab35",
   "metadata": {},
   "source": [
    "Jupyter notebooks are interactive way of running and visualizing different coding languages (typically python) through a web-browser. They are a tool that can be use to develop and share code, and can be a really nice teaching tool as well! Here is a mini tutorial on how they work"
   ]
  },
  {
   "cell_type": "markdown",
   "id": "c5e99aca",
   "metadata": {},
   "source": [
    "Each block of code is contained within a **cell** which are run individually. Double click on this text, and you'll see it change. This is a Markdown cell, which allows me to make this nicely formatted text! Press cmd + enter on Mac or ctrl + enter on PC to run this cell. Below is a **code cell**, instead of text it contains code that can be run. Run the code cell below to see what happens:"
   ]
  },
  {
   "cell_type": "code",
   "execution_count": 5,
   "id": "092ef311",
   "metadata": {},
   "outputs": [
    {
     "name": "stdout",
     "output_type": "stream",
     "text": [
      "3\n"
     ]
    }
   ],
   "source": [
    "# store value to the variable x\n",
    "x = 3\n",
    "\n",
    "# print the variable x\n",
    "print(x)"
   ]
  },
  {
   "cell_type": "markdown",
   "id": "a6f11f34",
   "metadata": {},
   "source": [
    "## Now that you're acquainted with jupyter notebooks, lets do some phylogenetics!"
   ]
  },
  {
   "cell_type": "markdown",
   "id": "33110967",
   "metadata": {},
   "source": [
    "First, I'm going to import two packages that we will use to visualize and simulate evolutionary trees. **Toytree** helps us visualize the trees and **ipcoal** uses a coalescent model to simulate data."
   ]
  },
  {
   "cell_type": "code",
   "execution_count": 1,
   "id": "fa92f497",
   "metadata": {},
   "outputs": [],
   "source": [
    "import ipcoal\n",
    "import toytree"
   ]
  },
  {
   "cell_type": "markdown",
   "id": "00cbebfb",
   "metadata": {},
   "source": [
    "Great! Now that **toytree** and **ipcoal** are imported, we can start to do some phylogenetics! Let's start by generating a random tree with 8 tips. Don't worry so much about what the code is doing here, just run the code cell below to see the tree."
   ]
  },
  {
   "cell_type": "code",
   "execution_count": 12,
   "id": "9d520810",
   "metadata": {},
   "outputs": [
    {
     "data": {
      "text/html": [
       "<div class=\"toyplot\" id=\"t9b6428074df84fd8807173a183f06c5f\" style=\"text-align:center\"><svg class=\"toyplot-canvas-Canvas\" xmlns:toyplot=\"http://www.sandia.gov/toyplot\" xmlns:xlink=\"http://www.w3.org/1999/xlink\" xmlns=\"http://www.w3.org/2000/svg\" width=\"350.0px\" height=\"260.0px\" viewBox=\"0 0 350.0 260.0\" preserveAspectRatio=\"xMidYMid meet\" style=\"background-color:transparent;border-color:#292724;border-style:none;border-width:1.0;fill:rgb(16.1%,15.3%,14.1%);fill-opacity:1.0;font-family:Helvetica;font-size:12px;opacity:1.0;stroke:rgb(16.1%,15.3%,14.1%);stroke-opacity:1.0;stroke-width:1.0\" id=\"t9b521a9084d64dc79637c6a8ea7478aa\"><g class=\"toyplot-coordinates-Cartesian\" id=\"tc8b408ee070949e79213855cb0a410e6\"><clipPath id=\"tb463aa45f5694a88884fc4fe7a62c4bb\"><rect x=\"30.0\" y=\"30.0\" width=\"290.0\" height=\"200.0\"></rect></clipPath><g clip-path=\"url(#tb463aa45f5694a88884fc4fe7a62c4bb)\"><g class=\"toytree-mark-Toytree\" id=\"t195813ac73824a74b735f4b01266d5dc\"><g class=\"toytree-Edges\" style=\"fill:none;stroke:rgb(14.9%,14.9%,14.9%);stroke-linecap:round;stroke-opacity:1;stroke-width:2\"><path d=\"M 185.0 61.5 L 258.7 92.2\" id=\"14,13\"></path><path d=\"M 185.0 61.5 L 111.2 92.2\" id=\"14,12\"></path><path d=\"M 258.7 92.2 L 230.8 122.8\" id=\"13,11\"></path><path d=\"M 111.2 92.2 L 143.1 122.8\" id=\"12,10\"></path><path d=\"M 111.2 92.2 L 79.3 122.8\" id=\"12,9\"></path><path d=\"M 230.8 122.8 L 206.9 153.5\" id=\"11,8\"></path><path d=\"M 258.7 92.2 L 286.6 184.2\" id=\"13,7\"></path><path d=\"M 230.8 122.8 L 254.7 184.2\" id=\"11,6\"></path><path d=\"M 206.9 153.5 L 222.8 184.2\" id=\"8,5\"></path><path d=\"M 206.9 153.5 L 190.9 184.2\" id=\"8,4\"></path><path d=\"M 143.1 122.8 L 159.1 184.2\" id=\"10,3\"></path><path d=\"M 143.1 122.8 L 127.2 184.2\" id=\"10,2\"></path><path d=\"M 79.3 122.8 L 95.3 184.2\" id=\"9,1\"></path><path d=\"M 79.3 122.8 L 63.4 184.2\" id=\"9,0\"></path></g><g class=\"toytree-Nodes\" style=\"fill:rgb(40%,76.1%,64.7%);fill-opacity:1.0;stroke:rgb(14.9%,14.9%,14.9%);stroke-opacity:1.0;stroke-width:1\"><g id=\"node-0\" transform=\"translate(63.393,184.184)\"><circle r=\"7.5\"></circle></g><g id=\"node-1\" transform=\"translate(95.281,184.184)\"><circle r=\"7.5\"></circle></g><g id=\"node-2\" transform=\"translate(127.168,184.184)\"><circle r=\"7.5\"></circle></g><g id=\"node-3\" transform=\"translate(159.056,184.184)\"><circle r=\"7.5\"></circle></g><g id=\"node-4\" transform=\"translate(190.944,184.184)\"><circle r=\"7.5\"></circle></g><g id=\"node-5\" transform=\"translate(222.832,184.184)\"><circle r=\"7.5\"></circle></g><g id=\"node-6\" transform=\"translate(254.719,184.184)\"><circle r=\"7.5\"></circle></g><g id=\"node-7\" transform=\"translate(286.607,184.184)\"><circle r=\"7.5\"></circle></g><g id=\"node-8\" transform=\"translate(206.888,153.513)\"><circle r=\"7.5\"></circle></g><g id=\"node-9\" transform=\"translate(79.337,122.843)\"><circle r=\"7.5\"></circle></g><g id=\"node-10\" transform=\"translate(143.112,122.843)\"><circle r=\"7.5\"></circle></g><g id=\"node-11\" transform=\"translate(230.804,122.843)\"><circle r=\"7.5\"></circle></g><g id=\"node-12\" transform=\"translate(111.224,92.172)\"><circle r=\"7.5\"></circle></g><g id=\"node-13\" transform=\"translate(258.705,92.172)\"><circle r=\"7.5\"></circle></g><g id=\"node-14\" transform=\"translate(184.965,61.501)\"><circle r=\"7.5\"></circle></g></g><g class=\"toytree-NodeLabels\" style=\"fill:rgb(14.9%,14.9%,14.9%);fill-opacity:1.0;font-size:9px;stroke:none\"><g transform=\"translate(60.89,186.48)\"><text>0</text></g><g transform=\"translate(92.78,186.48)\"><text>1</text></g><g transform=\"translate(124.67,186.48)\"><text>2</text></g><g transform=\"translate(156.55,186.48)\"><text>3</text></g><g transform=\"translate(188.44,186.48)\"><text>4</text></g><g transform=\"translate(220.33,186.48)\"><text>5</text></g><g transform=\"translate(252.22,186.48)\"><text>6</text></g><g transform=\"translate(284.11,186.48)\"><text>7</text></g><g transform=\"translate(204.39,155.81)\"><text>8</text></g><g transform=\"translate(76.83,125.14)\"><text>9</text></g><g transform=\"translate(138.11,125.14)\"><text>10</text></g><g transform=\"translate(225.80,125.14)\"><text>11</text></g><g transform=\"translate(106.22,94.47)\"><text>12</text></g><g transform=\"translate(253.70,94.47)\"><text>13</text></g><g transform=\"translate(179.96,63.80)\"><text>14</text></g></g><g class=\"toytree-TipLabels\" style=\"fill:rgb(14.9%,14.9%,14.9%);fill-opacity:1.0;font-family:helvetica;font-size:11px;font-weight:normal;stroke:none;white-space:pre\"><g transform=\"translate(63.39,184.18)rotate(-90)\"><text x=\"-24.78\" y=\"2.81\" style=\"\">r0</text></g><g transform=\"translate(95.28,184.18)rotate(-90)\"><text x=\"-24.78\" y=\"2.81\" style=\"\">r1</text></g><g transform=\"translate(127.17,184.18)rotate(-90)\"><text x=\"-24.78\" y=\"2.81\" style=\"\">r2</text></g><g transform=\"translate(159.06,184.18)rotate(-90)\"><text x=\"-24.78\" y=\"2.81\" style=\"\">r3</text></g><g transform=\"translate(190.94,184.18)rotate(-90)\"><text x=\"-24.78\" y=\"2.81\" style=\"\">r4</text></g><g transform=\"translate(222.83,184.18)rotate(-90)\"><text x=\"-24.78\" y=\"2.81\" style=\"\">r5</text></g><g transform=\"translate(254.72,184.18)rotate(-90)\"><text x=\"-24.78\" y=\"2.81\" style=\"\">r6</text></g><g transform=\"translate(286.61,184.18)rotate(-90)\"><text x=\"-24.78\" y=\"2.81\" style=\"\">r7</text></g></g></g></g><g class=\"toyplot-coordinates-Axis\" id=\"t95340a84b1b34cc3a18433d108a1e193\" transform=\"translate(50.0,210.0)rotate(-90.0)translate(0,-20.0)\"><line x1=\"25.81619694348465\" y1=\"0\" x2=\"148.4985311665844\" y2=\"0\" style=\"\"></line><g><line x1=\"25.81619694348465\" y1=\"0\" x2=\"25.81619694348465\" y2=\"5\" style=\"\"></line><line x1=\"87.1573640550345\" y1=\"0\" x2=\"87.1573640550345\" y2=\"5\" style=\"\"></line><line x1=\"148.4985311665844\" y1=\"0\" x2=\"148.4985311665844\" y2=\"5\" style=\"\"></line></g><g><g transform=\"translate(25.81619694348465,-6)\"><text x=\"-2.78\" y=\"-4.440892098500626e-16\" style=\"fill:rgb(16.1%,15.3%,14.1%);fill-opacity:1.0;font-family:helvetica;font-size:10.0px;font-weight:normal;stroke:none;vertical-align:baseline;white-space:pre\">0</text></g><g transform=\"translate(87.1573640550345,-6)\"><text x=\"-16.68\" y=\"-4.440892098500626e-16\" style=\"fill:rgb(16.1%,15.3%,14.1%);fill-opacity:1.0;font-family:helvetica;font-size:10.0px;font-weight:normal;stroke:none;vertical-align:baseline;white-space:pre\">500000</text></g><g transform=\"translate(148.4985311665844,-6)\"><text x=\"-19.459999999999997\" y=\"-4.440892098500626e-16\" style=\"fill:rgb(16.1%,15.3%,14.1%);fill-opacity:1.0;font-family:helvetica;font-size:10.0px;font-weight:normal;stroke:none;vertical-align:baseline;white-space:pre\">1000000</text></g></g><g class=\"toyplot-coordinates-Axis-coordinates\" style=\"visibility:hidden\" transform=\"\"><line x1=\"0\" x2=\"0\" y1=\"3.0\" y2=\"-4.5\" style=\"stroke:rgb(43.9%,50.2%,56.5%);stroke-opacity:1.0;stroke-width:1.0\"></line><text x=\"0\" y=\"6\" style=\"alignment-baseline:hanging;fill:rgb(43.9%,50.2%,56.5%);fill-opacity:1.0;font-size:10px;font-weight:normal;stroke:none;text-anchor:middle\"></text></g></g></g></svg><div class=\"toyplot-behavior\"><script>(function()\n",
       "{\n",
       "var modules={};\n",
       "modules[\"toyplot/canvas/id\"] = \"t9b521a9084d64dc79637c6a8ea7478aa\";\n",
       "modules[\"toyplot/canvas\"] = (function(canvas_id)\n",
       "    {\n",
       "        return document.querySelector(\"#\" + canvas_id);\n",
       "    })(modules[\"toyplot/canvas/id\"]);\n",
       "modules[\"toyplot.coordinates.Axis\"] = (\n",
       "        function(canvas)\n",
       "        {\n",
       "            function sign(x)\n",
       "            {\n",
       "                return x < 0 ? -1 : x > 0 ? 1 : 0;\n",
       "            }\n",
       "\n",
       "            function mix(a, b, amount)\n",
       "            {\n",
       "                return ((1.0 - amount) * a) + (amount * b);\n",
       "            }\n",
       "\n",
       "            function log(x, base)\n",
       "            {\n",
       "                return Math.log(Math.abs(x)) / Math.log(base);\n",
       "            }\n",
       "\n",
       "            function in_range(a, x, b)\n",
       "            {\n",
       "                var left = Math.min(a, b);\n",
       "                var right = Math.max(a, b);\n",
       "                return left <= x && x <= right;\n",
       "            }\n",
       "\n",
       "            function inside(range, projection)\n",
       "            {\n",
       "                for(var i = 0; i != projection.length; ++i)\n",
       "                {\n",
       "                    var segment = projection[i];\n",
       "                    if(in_range(segment.range.min, range, segment.range.max))\n",
       "                        return true;\n",
       "                }\n",
       "                return false;\n",
       "            }\n",
       "\n",
       "            function to_domain(range, projection)\n",
       "            {\n",
       "                for(var i = 0; i != projection.length; ++i)\n",
       "                {\n",
       "                    var segment = projection[i];\n",
       "                    if(in_range(segment.range.bounds.min, range, segment.range.bounds.max))\n",
       "                    {\n",
       "                        if(segment.scale == \"linear\")\n",
       "                        {\n",
       "                            var amount = (range - segment.range.min) / (segment.range.max - segment.range.min);\n",
       "                            return mix(segment.domain.min, segment.domain.max, amount)\n",
       "                        }\n",
       "                        else if(segment.scale[0] == \"log\")\n",
       "                        {\n",
       "                            var amount = (range - segment.range.min) / (segment.range.max - segment.range.min);\n",
       "                            var base = segment.scale[1];\n",
       "                            return sign(segment.domain.min) * Math.pow(base, mix(log(segment.domain.min, base), log(segment.domain.max, base), amount));\n",
       "                        }\n",
       "                    }\n",
       "                }\n",
       "            }\n",
       "\n",
       "            var axes = {};\n",
       "\n",
       "            function display_coordinates(e)\n",
       "            {\n",
       "                var current = canvas.createSVGPoint();\n",
       "                current.x = e.clientX;\n",
       "                current.y = e.clientY;\n",
       "\n",
       "                for(var axis_id in axes)\n",
       "                {\n",
       "                    var axis = document.querySelector(\"#\" + axis_id);\n",
       "                    var coordinates = axis.querySelector(\".toyplot-coordinates-Axis-coordinates\");\n",
       "                    if(coordinates)\n",
       "                    {\n",
       "                        var projection = axes[axis_id];\n",
       "                        var local = current.matrixTransform(axis.getScreenCTM().inverse());\n",
       "                        if(inside(local.x, projection))\n",
       "                        {\n",
       "                            var domain = to_domain(local.x, projection);\n",
       "                            coordinates.style.visibility = \"visible\";\n",
       "                            coordinates.setAttribute(\"transform\", \"translate(\" + local.x + \")\");\n",
       "                            var text = coordinates.querySelector(\"text\");\n",
       "                            text.textContent = domain.toFixed(2);\n",
       "                        }\n",
       "                        else\n",
       "                        {\n",
       "                            coordinates.style.visibility= \"hidden\";\n",
       "                        }\n",
       "                    }\n",
       "                }\n",
       "            }\n",
       "\n",
       "            canvas.addEventListener(\"click\", display_coordinates);\n",
       "\n",
       "            var module = {};\n",
       "            module.show_coordinates = function(axis_id, projection)\n",
       "            {\n",
       "                axes[axis_id] = projection;\n",
       "            }\n",
       "\n",
       "            return module;\n",
       "        })(modules[\"toyplot/canvas\"]);\n",
       "(function(axis, axis_id, projection)\n",
       "        {\n",
       "            axis.show_coordinates(axis_id, projection);\n",
       "        })(modules[\"toyplot.coordinates.Axis\"],\"t95340a84b1b34cc3a18433d108a1e193\",[{\"domain\": {\"bounds\": {\"max\": Infinity, \"min\": -Infinity}, \"max\": 1093750.0, \"min\": -210431.2499999999}, \"range\": {\"bounds\": {\"max\": Infinity, \"min\": -Infinity}, \"max\": 160.0, \"min\": 0.0}, \"scale\": \"linear\"}]);\n",
       "})();</script></div></div>"
      ]
     },
     "metadata": {},
     "output_type": "display_data"
    }
   ],
   "source": [
    "# generate a random tree with 8 tips and height of 1M generations\n",
    "tree1 = toytree.rtree.unittree(8, treeheight=1e6, seed=123)\n",
    "# draw tree showing idx labels\n",
    "tree1.draw(tree_style='p');"
   ]
  },
  {
   "cell_type": "markdown",
   "id": "04ac530a",
   "metadata": {},
   "source": [
    "Now let's review some terminology. Fill in the answers to these questions by double-clicking this markdown cell and replacing the **blank** with the correct term:\n",
    "1. r0-r7 are called the **blank** on this tree\n",
    "2. r2 and r3 are **blank** to each other\n",
    "3. r0, r1, r2, and r3 are considered a **blank** group\n",
    "4. r0, r1, r4, and r5 are considered a **blank** group\n",
    "5. the specific arrangment of the tips of the tree is referred to as the **blank** of the tree\n",
    "6. Node 14 has a special name. It is the **blank**."
   ]
  },
  {
   "cell_type": "markdown",
   "id": "bd52acd4",
   "metadata": {},
   "source": [
    "## Visualizing the Gene Tree/Species Tree Problem"
   ]
  },
  {
   "cell_type": "markdown",
   "id": "d22cf08e",
   "metadata": {},
   "source": [
    "As you learned in lecture, gene trees don't always match the species tree. What does this look like? Let's use the tree above as our species tree. "
   ]
  },
  {
   "cell_type": "code",
   "execution_count": 3,
   "id": "d469569d",
   "metadata": {},
   "outputs": [],
   "source": [
    "model1 = ipcoal.Model(tree=tree1, Ne=1e5)\n",
    "model1.sim_trees(nloci=10, nsites=1)"
   ]
  },
  {
   "cell_type": "code",
   "execution_count": 13,
   "id": "e6ff2051",
   "metadata": {},
   "outputs": [
    {
     "name": "stdout",
     "output_type": "stream",
     "text": [
      "unrecognized arguments skipped: ['shared_axis']\n",
      "check the docs, argument names may have changed.\n",
      "unrecognized arguments skipped: ['shared_axis']\n",
      "check the docs, argument names may have changed.\n",
      "unrecognized arguments skipped: ['shared_axis']\n",
      "check the docs, argument names may have changed.\n",
      "unrecognized arguments skipped: ['shared_axis']\n",
      "check the docs, argument names may have changed.\n"
     ]
    },
    {
     "data": {
      "text/html": [
       "<div class=\"toyplot\" id=\"t9c006f81ece84b46a79acc384979b20e\" style=\"text-align:center\"><svg class=\"toyplot-canvas-Canvas\" xmlns:toyplot=\"http://www.sandia.gov/toyplot\" xmlns:xlink=\"http://www.w3.org/1999/xlink\" xmlns=\"http://www.w3.org/2000/svg\" width=\"600.0px\" height=\"200.0px\" viewBox=\"0 0 600.0 200.0\" preserveAspectRatio=\"xMidYMid meet\" style=\"background-color:transparent;border-color:#292724;border-style:none;border-width:1.0;fill:rgb(16.1%,15.3%,14.1%);fill-opacity:1.0;font-family:Helvetica;font-size:12px;opacity:1.0;stroke:rgb(16.1%,15.3%,14.1%);stroke-opacity:1.0;stroke-width:1.0\" id=\"td9a49d4406fb4c29b5588d0af9bb8eb5\"><g class=\"toyplot-coordinates-Cartesian\" id=\"tba35134ebca040bbac519a97fc327760\"><clipPath id=\"t63e6bbb7e5e14f8796c82b8a8389a018\"><rect x=\"15.0\" y=\"15.0\" width=\"120.0\" height=\"170.0\"></rect></clipPath><g clip-path=\"url(#t63e6bbb7e5e14f8796c82b8a8389a018)\"><g class=\"toytree-mark-Toytree\" id=\"taef69ecf452043cc880c3b5be374ed43\"><g class=\"toytree-Edges\" style=\"fill:none;stroke:rgb(14.9%,14.9%,14.9%);stroke-linecap:round;stroke-opacity:1;stroke-width:2\"><path d=\"M 78.6 29.9 L 98.3 61.5\" id=\"14,13\"></path><path d=\"M 78.6 29.9 L 59.0 57.0\" id=\"14,12\"></path><path d=\"M 98.3 61.5 L 109.9 87.9\" id=\"13,11\"></path><path d=\"M 98.3 61.5 L 86.6 83.0\" id=\"13,10\"></path><path d=\"M 59.0 57.0 L 48.8 88.7\" id=\"12,9\"></path><path d=\"M 48.8 88.7 L 40.1 121.9\" id=\"9,8\"></path><path d=\"M 109.9 87.9 L 115.7 152.9\" id=\"11,7\"></path><path d=\"M 109.9 87.9 L 104.1 152.9\" id=\"11,6\"></path><path d=\"M 86.6 83.0 L 92.4 152.9\" id=\"10,5\"></path><path d=\"M 86.6 83.0 L 80.8 152.9\" id=\"10,4\"></path><path d=\"M 59.0 57.0 L 69.2 152.9\" id=\"12,3\"></path><path d=\"M 48.8 88.7 L 57.6 152.9\" id=\"9,2\"></path><path d=\"M 40.1 121.9 L 45.9 152.9\" id=\"8,1\"></path><path d=\"M 40.1 121.9 L 34.3 152.9\" id=\"8,0\"></path></g><g class=\"toytree-Nodes\" style=\"fill:rgb(40%,76.1%,64.7%);fill-opacity:1.0;stroke:rgb(14.9%,14.9%,14.9%);stroke-opacity:1.0;stroke-width:1\"><g id=\"node-0\" transform=\"translate(34.283,152.945)\"><circle r=\"3.0\"></circle></g><g id=\"node-1\" transform=\"translate(45.917,152.945)\"><circle r=\"3.0\"></circle></g><g id=\"node-2\" transform=\"translate(57.550,152.945)\"><circle r=\"3.0\"></circle></g><g id=\"node-3\" transform=\"translate(69.183,152.945)\"><circle r=\"3.0\"></circle></g><g id=\"node-4\" transform=\"translate(80.817,152.945)\"><circle r=\"3.0\"></circle></g><g id=\"node-5\" transform=\"translate(92.450,152.945)\"><circle r=\"3.0\"></circle></g><g id=\"node-6\" transform=\"translate(104.083,152.945)\"><circle r=\"3.0\"></circle></g><g id=\"node-7\" transform=\"translate(115.717,152.945)\"><circle r=\"3.0\"></circle></g><g id=\"node-8\" transform=\"translate(40.100,121.920)\"><circle r=\"3.0\"></circle></g><g id=\"node-9\" transform=\"translate(48.825,88.700)\"><circle r=\"3.0\"></circle></g><g id=\"node-10\" transform=\"translate(86.633,82.989)\"><circle r=\"3.0\"></circle></g><g id=\"node-11\" transform=\"translate(109.900,87.942)\"><circle r=\"3.0\"></circle></g><g id=\"node-12\" transform=\"translate(59.004,57.034)\"><circle r=\"3.0\"></circle></g><g id=\"node-13\" transform=\"translate(98.267,61.541)\"><circle r=\"3.0\"></circle></g><g id=\"node-14\" transform=\"translate(78.635,29.921)\"><circle r=\"3.0\"></circle></g></g><g class=\"toytree-NodeLabels\" style=\"fill:rgb(14.9%,14.9%,14.9%);fill-opacity:1.0;font-size:9px;stroke:none\"><g transform=\"translate(31.78,155.24)\"><text>0</text></g><g transform=\"translate(43.41,155.24)\"><text>1</text></g><g transform=\"translate(55.05,155.24)\"><text>2</text></g><g transform=\"translate(66.68,155.24)\"><text>3</text></g><g transform=\"translate(78.31,155.24)\"><text>4</text></g><g transform=\"translate(89.95,155.24)\"><text>5</text></g><g transform=\"translate(101.58,155.24)\"><text>6</text></g><g transform=\"translate(113.21,155.24)\"><text>7</text></g><g transform=\"translate(37.60,124.22)\"><text>8</text></g><g transform=\"translate(46.32,91.00)\"><text>9</text></g><g transform=\"translate(81.63,85.29)\"><text>10</text></g><g transform=\"translate(104.90,90.24)\"><text>11</text></g><g transform=\"translate(54.00,59.33)\"><text>12</text></g><g transform=\"translate(93.26,63.84)\"><text>13</text></g><g transform=\"translate(73.63,32.22)\"><text>14</text></g></g><g class=\"toytree-TipLabels\" style=\"fill:rgb(14.9%,14.9%,14.9%);fill-opacity:1.0;font-family:helvetica;font-size:9px;font-weight:normal;stroke:none;white-space:pre\"><g transform=\"translate(34.28,152.94)rotate(-90)\"><text x=\"-18.00\" y=\"2.30\" style=\"\">r5</text></g><g transform=\"translate(45.92,152.94)rotate(-90)\"><text x=\"-18.00\" y=\"2.30\" style=\"\">r4</text></g><g transform=\"translate(57.55,152.94)rotate(-90)\"><text x=\"-18.00\" y=\"2.30\" style=\"\">r6</text></g><g transform=\"translate(69.18,152.94)rotate(-90)\"><text x=\"-18.00\" y=\"2.30\" style=\"\">r7</text></g><g transform=\"translate(80.82,152.94)rotate(-90)\"><text x=\"-18.00\" y=\"2.30\" style=\"\">r1</text></g><g transform=\"translate(92.45,152.94)rotate(-90)\"><text x=\"-18.00\" y=\"2.30\" style=\"\">r0</text></g><g transform=\"translate(104.08,152.95)rotate(-90)\"><text x=\"-18.00\" y=\"2.30\" style=\"\">r3</text></g><g transform=\"translate(115.72,152.95)rotate(-90)\"><text x=\"-18.00\" y=\"2.30\" style=\"\">r2</text></g></g></g></g></g><g class=\"toyplot-coordinates-Cartesian\" id=\"t47f15cc16a444d3b935cdcd69d49ba27\"><clipPath id=\"t7a507649e20b42408f57af9e952e0d75\"><rect x=\"165.0\" y=\"15.0\" width=\"120.0\" height=\"170.0\"></rect></clipPath><g clip-path=\"url(#t7a507649e20b42408f57af9e952e0d75)\"><g class=\"toytree-mark-Toytree\" id=\"t1cb2756d7bc54a34821ec32711404b63\"><g class=\"toytree-Edges\" style=\"fill:none;stroke:rgb(14.9%,14.9%,14.9%);stroke-linecap:round;stroke-opacity:1;stroke-width:2\"><path d=\"M 228.6 29.9 L 248.3 64.7\" id=\"14,13\"></path><path d=\"M 228.6 29.9 L 209.0 59.0\" id=\"14,12\"></path><path d=\"M 248.3 64.7 L 259.9 92.8\" id=\"13,11\"></path><path d=\"M 248.3 64.7 L 236.6 90.7\" id=\"13,10\"></path><path d=\"M 209.0 59.0 L 198.8 94.0\" id=\"12,9\"></path><path d=\"M 198.8 94.0 L 190.1 122.7\" id=\"9,8\"></path><path d=\"M 259.9 92.8 L 265.7 152.9\" id=\"11,7\"></path><path d=\"M 259.9 92.8 L 254.1 152.9\" id=\"11,6\"></path><path d=\"M 236.6 90.7 L 242.4 152.9\" id=\"10,5\"></path><path d=\"M 236.6 90.7 L 230.8 152.9\" id=\"10,4\"></path><path d=\"M 209.0 59.0 L 219.2 152.9\" id=\"12,3\"></path><path d=\"M 198.8 94.0 L 207.6 152.9\" id=\"9,2\"></path><path d=\"M 190.1 122.7 L 195.9 152.9\" id=\"8,1\"></path><path d=\"M 190.1 122.7 L 184.3 152.9\" id=\"8,0\"></path></g><g class=\"toytree-Nodes\" style=\"fill:rgb(40%,76.1%,64.7%);fill-opacity:1.0;stroke:rgb(14.9%,14.9%,14.9%);stroke-opacity:1.0;stroke-width:1\"><g id=\"node-0\" transform=\"translate(184.283,152.945)\"><circle r=\"3.0\"></circle></g><g id=\"node-1\" transform=\"translate(195.917,152.945)\"><circle r=\"3.0\"></circle></g><g id=\"node-2\" transform=\"translate(207.550,152.945)\"><circle r=\"3.0\"></circle></g><g id=\"node-3\" transform=\"translate(219.183,152.945)\"><circle r=\"3.0\"></circle></g><g id=\"node-4\" transform=\"translate(230.817,152.945)\"><circle r=\"3.0\"></circle></g><g id=\"node-5\" transform=\"translate(242.450,152.945)\"><circle r=\"3.0\"></circle></g><g id=\"node-6\" transform=\"translate(254.083,152.945)\"><circle r=\"3.0\"></circle></g><g id=\"node-7\" transform=\"translate(265.717,152.945)\"><circle r=\"3.0\"></circle></g><g id=\"node-8\" transform=\"translate(190.100,122.683)\"><circle r=\"3.0\"></circle></g><g id=\"node-9\" transform=\"translate(198.825,94.035)\"><circle r=\"3.0\"></circle></g><g id=\"node-10\" transform=\"translate(236.633,90.733)\"><circle r=\"3.0\"></circle></g><g id=\"node-11\" transform=\"translate(259.900,92.847)\"><circle r=\"3.0\"></circle></g><g id=\"node-12\" transform=\"translate(209.004,58.955)\"><circle r=\"3.0\"></circle></g><g id=\"node-13\" transform=\"translate(248.267,64.721)\"><circle r=\"3.0\"></circle></g><g id=\"node-14\" transform=\"translate(228.635,29.921)\"><circle r=\"3.0\"></circle></g></g><g class=\"toytree-NodeLabels\" style=\"fill:rgb(14.9%,14.9%,14.9%);fill-opacity:1.0;font-size:9px;stroke:none\"><g transform=\"translate(181.78,155.24)\"><text>0</text></g><g transform=\"translate(193.41,155.24)\"><text>1</text></g><g transform=\"translate(205.05,155.24)\"><text>2</text></g><g transform=\"translate(216.68,155.24)\"><text>3</text></g><g transform=\"translate(228.31,155.24)\"><text>4</text></g><g transform=\"translate(239.95,155.24)\"><text>5</text></g><g transform=\"translate(251.58,155.24)\"><text>6</text></g><g transform=\"translate(263.21,155.24)\"><text>7</text></g><g transform=\"translate(187.60,124.98)\"><text>8</text></g><g transform=\"translate(196.32,96.33)\"><text>9</text></g><g transform=\"translate(231.63,93.03)\"><text>10</text></g><g transform=\"translate(254.90,95.15)\"><text>11</text></g><g transform=\"translate(204.00,61.25)\"><text>12</text></g><g transform=\"translate(243.26,67.02)\"><text>13</text></g><g transform=\"translate(223.63,32.22)\"><text>14</text></g></g><g class=\"toytree-TipLabels\" style=\"fill:rgb(14.9%,14.9%,14.9%);fill-opacity:1.0;font-family:helvetica;font-size:9px;font-weight:normal;stroke:none;white-space:pre\"><g transform=\"translate(184.28,152.95)rotate(-90)\"><text x=\"-18.00\" y=\"2.30\" style=\"\">r5</text></g><g transform=\"translate(195.92,152.95)rotate(-90)\"><text x=\"-18.00\" y=\"2.30\" style=\"\">r4</text></g><g transform=\"translate(207.55,152.95)rotate(-90)\"><text x=\"-18.00\" y=\"2.30\" style=\"\">r6</text></g><g transform=\"translate(219.18,152.94)rotate(-90)\"><text x=\"-18.00\" y=\"2.30\" style=\"\">r7</text></g><g transform=\"translate(230.82,152.94)rotate(-90)\"><text x=\"-18.00\" y=\"2.30\" style=\"\">r1</text></g><g transform=\"translate(242.45,152.94)rotate(-90)\"><text x=\"-18.00\" y=\"2.30\" style=\"\">r0</text></g><g transform=\"translate(254.08,152.94)rotate(-90)\"><text x=\"-18.00\" y=\"2.30\" style=\"\">r3</text></g><g transform=\"translate(265.72,152.94)rotate(-90)\"><text x=\"-18.00\" y=\"2.30\" style=\"\">r2</text></g></g></g></g></g><g class=\"toyplot-coordinates-Cartesian\" id=\"t6937030f59a14da28efb19cda4f014c1\"><clipPath id=\"tcaf29f26901745fe9a3a007dfbf63ab8\"><rect x=\"315.0\" y=\"15.0\" width=\"120.0\" height=\"170.0\"></rect></clipPath><g clip-path=\"url(#tcaf29f26901745fe9a3a007dfbf63ab8)\"><g class=\"toytree-mark-Toytree\" id=\"t25cb1279dbf84e9ca5ed468c2b88782e\"><g class=\"toytree-Edges\" style=\"fill:none;stroke:rgb(14.9%,14.9%,14.9%);stroke-linecap:round;stroke-opacity:1;stroke-width:2\"><path d=\"M 378.6 29.9 L 398.3 62.6\" id=\"14,13\"></path><path d=\"M 378.6 29.9 L 359.0 60.7\" id=\"14,12\"></path><path d=\"M 398.3 62.6 L 409.9 91.0\" id=\"13,11\"></path><path d=\"M 398.3 62.6 L 386.6 90.1\" id=\"13,10\"></path><path d=\"M 359.0 60.7 L 348.8 90.0\" id=\"12,9\"></path><path d=\"M 348.8 90.0 L 340.1 122.2\" id=\"9,8\"></path><path d=\"M 409.9 91.0 L 415.7 152.9\" id=\"11,7\"></path><path d=\"M 409.9 91.0 L 404.1 152.9\" id=\"11,6\"></path><path d=\"M 386.6 90.1 L 392.4 152.9\" id=\"10,5\"></path><path d=\"M 386.6 90.1 L 380.8 152.9\" id=\"10,4\"></path><path d=\"M 359.0 60.7 L 369.2 152.9\" id=\"12,3\"></path><path d=\"M 348.8 90.0 L 357.6 152.9\" id=\"9,2\"></path><path d=\"M 340.1 122.2 L 345.9 152.9\" id=\"8,1\"></path><path d=\"M 340.1 122.2 L 334.3 152.9\" id=\"8,0\"></path></g><g class=\"toytree-Nodes\" style=\"fill:rgb(40%,76.1%,64.7%);fill-opacity:1.0;stroke:rgb(14.9%,14.9%,14.9%);stroke-opacity:1.0;stroke-width:1\"><g id=\"node-0\" transform=\"translate(334.283,152.945)\"><circle r=\"3.0\"></circle></g><g id=\"node-1\" transform=\"translate(345.917,152.945)\"><circle r=\"3.0\"></circle></g><g id=\"node-2\" transform=\"translate(357.550,152.945)\"><circle r=\"3.0\"></circle></g><g id=\"node-3\" transform=\"translate(369.183,152.945)\"><circle r=\"3.0\"></circle></g><g id=\"node-4\" transform=\"translate(380.817,152.945)\"><circle r=\"3.0\"></circle></g><g id=\"node-5\" transform=\"translate(392.450,152.945)\"><circle r=\"3.0\"></circle></g><g id=\"node-6\" transform=\"translate(404.083,152.945)\"><circle r=\"3.0\"></circle></g><g id=\"node-7\" transform=\"translate(415.717,152.945)\"><circle r=\"3.0\"></circle></g><g id=\"node-8\" transform=\"translate(340.100,122.163)\"><circle r=\"3.0\"></circle></g><g id=\"node-9\" transform=\"translate(348.825,90.016)\"><circle r=\"3.0\"></circle></g><g id=\"node-10\" transform=\"translate(386.633,90.080)\"><circle r=\"3.0\"></circle></g><g id=\"node-11\" transform=\"translate(409.900,91.013)\"><circle r=\"3.0\"></circle></g><g id=\"node-12\" transform=\"translate(359.004,60.683)\"><circle r=\"3.0\"></circle></g><g id=\"node-13\" transform=\"translate(398.267,62.644)\"><circle r=\"3.0\"></circle></g><g id=\"node-14\" transform=\"translate(378.635,29.921)\"><circle r=\"3.0\"></circle></g></g><g class=\"toytree-NodeLabels\" style=\"fill:rgb(14.9%,14.9%,14.9%);fill-opacity:1.0;font-size:9px;stroke:none\"><g transform=\"translate(331.78,155.24)\"><text>0</text></g><g transform=\"translate(343.41,155.24)\"><text>1</text></g><g transform=\"translate(355.05,155.24)\"><text>2</text></g><g transform=\"translate(366.68,155.24)\"><text>3</text></g><g transform=\"translate(378.31,155.24)\"><text>4</text></g><g transform=\"translate(389.95,155.24)\"><text>5</text></g><g transform=\"translate(401.58,155.24)\"><text>6</text></g><g transform=\"translate(413.21,155.24)\"><text>7</text></g><g transform=\"translate(337.60,124.46)\"><text>8</text></g><g transform=\"translate(346.32,92.32)\"><text>9</text></g><g transform=\"translate(381.63,92.38)\"><text>10</text></g><g transform=\"translate(404.90,93.31)\"><text>11</text></g><g transform=\"translate(354.00,62.98)\"><text>12</text></g><g transform=\"translate(393.26,64.94)\"><text>13</text></g><g transform=\"translate(373.63,32.22)\"><text>14</text></g></g><g class=\"toytree-TipLabels\" style=\"fill:rgb(14.9%,14.9%,14.9%);fill-opacity:1.0;font-family:helvetica;font-size:9px;font-weight:normal;stroke:none;white-space:pre\"><g transform=\"translate(334.28,152.95)rotate(-90)\"><text x=\"-18.00\" y=\"2.30\" style=\"\">r5</text></g><g transform=\"translate(345.92,152.95)rotate(-90)\"><text x=\"-18.00\" y=\"2.30\" style=\"\">r4</text></g><g transform=\"translate(357.55,152.95)rotate(-90)\"><text x=\"-18.00\" y=\"2.30\" style=\"\">r6</text></g><g transform=\"translate(369.18,152.95)rotate(-90)\"><text x=\"-18.00\" y=\"2.30\" style=\"\">r7</text></g><g transform=\"translate(380.82,152.95)rotate(-90)\"><text x=\"-18.00\" y=\"2.30\" style=\"\">r1</text></g><g transform=\"translate(392.45,152.95)rotate(-90)\"><text x=\"-18.00\" y=\"2.30\" style=\"\">r0</text></g><g transform=\"translate(404.08,152.95)rotate(-90)\"><text x=\"-18.00\" y=\"2.30\" style=\"\">r3</text></g><g transform=\"translate(415.72,152.95)rotate(-90)\"><text x=\"-18.00\" y=\"2.30\" style=\"\">r2</text></g></g></g></g></g><g class=\"toyplot-coordinates-Cartesian\" id=\"td990170d5c58427b8eb79257e834a289\"><clipPath id=\"t5d490961139f4fb3ac7a8f24dac1c02f\"><rect x=\"465.0\" y=\"15.0\" width=\"120.0\" height=\"170.0\"></rect></clipPath><g clip-path=\"url(#t5d490961139f4fb3ac7a8f24dac1c02f)\"><g class=\"toytree-mark-Toytree\" id=\"t517aa217110f417ead2e39ab98c6379f\"><g class=\"toytree-Edges\" style=\"fill:none;stroke:rgb(14.9%,14.9%,14.9%);stroke-linecap:round;stroke-opacity:1;stroke-width:2\"><path d=\"M 528.6 29.9 L 548.3 60.6\" id=\"14,13\"></path><path d=\"M 528.6 29.9 L 509.0 60.2\" id=\"14,12\"></path><path d=\"M 548.3 60.6 L 559.9 88.5\" id=\"13,11\"></path><path d=\"M 548.3 60.6 L 536.6 86.9\" id=\"13,10\"></path><path d=\"M 509.0 60.2 L 498.8 90.3\" id=\"12,9\"></path><path d=\"M 498.8 90.3 L 490.1 121.5\" id=\"9,8\"></path><path d=\"M 559.9 88.5 L 565.7 152.9\" id=\"11,7\"></path><path d=\"M 559.9 88.5 L 554.1 152.9\" id=\"11,6\"></path><path d=\"M 536.6 86.9 L 542.4 152.9\" id=\"10,5\"></path><path d=\"M 536.6 86.9 L 530.8 152.9\" id=\"10,4\"></path><path d=\"M 509.0 60.2 L 519.2 152.9\" id=\"12,3\"></path><path d=\"M 498.8 90.3 L 507.6 152.9\" id=\"9,2\"></path><path d=\"M 490.1 121.5 L 495.9 152.9\" id=\"8,1\"></path><path d=\"M 490.1 121.5 L 484.3 152.9\" id=\"8,0\"></path></g><g class=\"toytree-Nodes\" style=\"fill:rgb(40%,76.1%,64.7%);fill-opacity:1.0;stroke:rgb(14.9%,14.9%,14.9%);stroke-opacity:1.0;stroke-width:1\"><g id=\"node-0\" transform=\"translate(484.283,152.945)\"><circle r=\"3.0\"></circle></g><g id=\"node-1\" transform=\"translate(495.917,152.945)\"><circle r=\"3.0\"></circle></g><g id=\"node-2\" transform=\"translate(507.550,152.945)\"><circle r=\"3.0\"></circle></g><g id=\"node-3\" transform=\"translate(519.183,152.945)\"><circle r=\"3.0\"></circle></g><g id=\"node-4\" transform=\"translate(530.817,152.945)\"><circle r=\"3.0\"></circle></g><g id=\"node-5\" transform=\"translate(542.450,152.945)\"><circle r=\"3.0\"></circle></g><g id=\"node-6\" transform=\"translate(554.083,152.945)\"><circle r=\"3.0\"></circle></g><g id=\"node-7\" transform=\"translate(565.717,152.945)\"><circle r=\"3.0\"></circle></g><g id=\"node-8\" transform=\"translate(490.100,121.550)\"><circle r=\"3.0\"></circle></g><g id=\"node-9\" transform=\"translate(498.825,90.287)\"><circle r=\"3.0\"></circle></g><g id=\"node-10\" transform=\"translate(536.633,86.868)\"><circle r=\"3.0\"></circle></g><g id=\"node-11\" transform=\"translate(559.900,88.526)\"><circle r=\"3.0\"></circle></g><g id=\"node-12\" transform=\"translate(509.004,60.220)\"><circle r=\"3.0\"></circle></g><g id=\"node-13\" transform=\"translate(548.267,60.590)\"><circle r=\"3.0\"></circle></g><g id=\"node-14\" transform=\"translate(528.635,29.921)\"><circle r=\"3.0\"></circle></g></g><g class=\"toytree-NodeLabels\" style=\"fill:rgb(14.9%,14.9%,14.9%);fill-opacity:1.0;font-size:9px;stroke:none\"><g transform=\"translate(481.78,155.24)\"><text>0</text></g><g transform=\"translate(493.41,155.24)\"><text>1</text></g><g transform=\"translate(505.05,155.24)\"><text>2</text></g><g transform=\"translate(516.68,155.24)\"><text>3</text></g><g transform=\"translate(528.31,155.24)\"><text>4</text></g><g transform=\"translate(539.95,155.24)\"><text>5</text></g><g transform=\"translate(551.58,155.24)\"><text>6</text></g><g transform=\"translate(563.21,155.24)\"><text>7</text></g><g transform=\"translate(487.60,123.85)\"><text>8</text></g><g transform=\"translate(496.32,92.59)\"><text>9</text></g><g transform=\"translate(531.63,89.17)\"><text>10</text></g><g transform=\"translate(554.90,90.83)\"><text>11</text></g><g transform=\"translate(504.00,62.52)\"><text>12</text></g><g transform=\"translate(543.26,62.89)\"><text>13</text></g><g transform=\"translate(523.63,32.22)\"><text>14</text></g></g><g class=\"toytree-TipLabels\" style=\"fill:rgb(14.9%,14.9%,14.9%);fill-opacity:1.0;font-family:helvetica;font-size:9px;font-weight:normal;stroke:none;white-space:pre\"><g transform=\"translate(484.28,152.95)rotate(-90)\"><text x=\"-18.00\" y=\"2.30\" style=\"\">r5</text></g><g transform=\"translate(495.92,152.95)rotate(-90)\"><text x=\"-18.00\" y=\"2.30\" style=\"\">r4</text></g><g transform=\"translate(507.55,152.95)rotate(-90)\"><text x=\"-18.00\" y=\"2.30\" style=\"\">r6</text></g><g transform=\"translate(519.18,152.95)rotate(-90)\"><text x=\"-18.00\" y=\"2.30\" style=\"\">r7</text></g><g transform=\"translate(530.82,152.94)rotate(-90)\"><text x=\"-18.00\" y=\"2.30\" style=\"\">r1</text></g><g transform=\"translate(542.45,152.94)rotate(-90)\"><text x=\"-18.00\" y=\"2.30\" style=\"\">r0</text></g><g transform=\"translate(554.08,152.94)rotate(-90)\"><text x=\"-18.00\" y=\"2.30\" style=\"\">r3</text></g><g transform=\"translate(565.72,152.94)rotate(-90)\"><text x=\"-18.00\" y=\"2.30\" style=\"\">r2</text></g></g></g></g></g></svg><div class=\"toyplot-behavior\"><script>(function()\n",
       "{\n",
       "var modules={};\n",
       "})();</script></div></div>"
      ]
     },
     "metadata": {},
     "output_type": "display_data"
    }
   ],
   "source": [
    "# a dictionary of arguments to style the drawings\n",
    "kwargs = {\n",
    "    \"ts\": \"p\",\n",
    "    \"tip_labels\": True,\n",
    "    \"shared_axis\": True,\n",
    "    \"width\": 600,\n",
    "    \"height\": 200,\n",
    "    \"node_sizes\": 6,\n",
    "}\n",
    "\n",
    "# draw a grid of trees from model 1\n",
    "toytree.mtree(model1.df.genealogy).draw(**kwargs);"
   ]
  },
  {
   "cell_type": "markdown",
   "id": "ec2d53f4",
   "metadata": {},
   "source": [
    "Let's look at that species tree again:"
   ]
  },
  {
   "cell_type": "code",
   "execution_count": 15,
   "id": "58a36ac7",
   "metadata": {},
   "outputs": [
    {
     "data": {
      "text/html": [
       "<div class=\"toyplot\" id=\"t63a48725d38b4a72b2085275aa7b7878\" style=\"text-align:center\"><svg class=\"toyplot-canvas-Canvas\" xmlns:toyplot=\"http://www.sandia.gov/toyplot\" xmlns:xlink=\"http://www.w3.org/1999/xlink\" xmlns=\"http://www.w3.org/2000/svg\" width=\"350.0px\" height=\"260.0px\" viewBox=\"0 0 350.0 260.0\" preserveAspectRatio=\"xMidYMid meet\" style=\"background-color:transparent;border-color:#292724;border-style:none;border-width:1.0;fill:rgb(16.1%,15.3%,14.1%);fill-opacity:1.0;font-family:Helvetica;font-size:12px;opacity:1.0;stroke:rgb(16.1%,15.3%,14.1%);stroke-opacity:1.0;stroke-width:1.0\" id=\"t751c9b05a6c64d569094e9b922db0103\"><g class=\"toyplot-coordinates-Cartesian\" id=\"t0e2bcbc4b5c84c658295123c204c09eb\"><clipPath id=\"tc71ce18cc22a43f7a72ef05122816e54\"><rect x=\"30.0\" y=\"30.0\" width=\"290.0\" height=\"200.0\"></rect></clipPath><g clip-path=\"url(#tc71ce18cc22a43f7a72ef05122816e54)\"><g class=\"toytree-mark-Toytree\" id=\"tcfdcd647248a456fb1a844ac5f9de7d3\"><g class=\"toytree-Edges\" style=\"fill:none;stroke:rgb(14.9%,14.9%,14.9%);stroke-linecap:round;stroke-opacity:1;stroke-width:2\"><path d=\"M 185.0 61.5 L 258.7 92.2\" id=\"14,13\"></path><path d=\"M 185.0 61.5 L 111.2 92.2\" id=\"14,12\"></path><path d=\"M 258.7 92.2 L 230.8 122.8\" id=\"13,11\"></path><path d=\"M 111.2 92.2 L 143.1 122.8\" id=\"12,10\"></path><path d=\"M 111.2 92.2 L 79.3 122.8\" id=\"12,9\"></path><path d=\"M 230.8 122.8 L 206.9 153.5\" id=\"11,8\"></path><path d=\"M 258.7 92.2 L 286.6 184.2\" id=\"13,7\"></path><path d=\"M 230.8 122.8 L 254.7 184.2\" id=\"11,6\"></path><path d=\"M 206.9 153.5 L 222.8 184.2\" id=\"8,5\"></path><path d=\"M 206.9 153.5 L 190.9 184.2\" id=\"8,4\"></path><path d=\"M 143.1 122.8 L 159.1 184.2\" id=\"10,3\"></path><path d=\"M 143.1 122.8 L 127.2 184.2\" id=\"10,2\"></path><path d=\"M 79.3 122.8 L 95.3 184.2\" id=\"9,1\"></path><path d=\"M 79.3 122.8 L 63.4 184.2\" id=\"9,0\"></path></g><g class=\"toytree-Nodes\" style=\"fill:rgb(40%,76.1%,64.7%);fill-opacity:1.0;stroke:rgb(14.9%,14.9%,14.9%);stroke-opacity:1.0;stroke-width:1\"><g id=\"node-0\" transform=\"translate(63.393,184.184)\"><circle r=\"7.5\"></circle></g><g id=\"node-1\" transform=\"translate(95.281,184.184)\"><circle r=\"7.5\"></circle></g><g id=\"node-2\" transform=\"translate(127.168,184.184)\"><circle r=\"7.5\"></circle></g><g id=\"node-3\" transform=\"translate(159.056,184.184)\"><circle r=\"7.5\"></circle></g><g id=\"node-4\" transform=\"translate(190.944,184.184)\"><circle r=\"7.5\"></circle></g><g id=\"node-5\" transform=\"translate(222.832,184.184)\"><circle r=\"7.5\"></circle></g><g id=\"node-6\" transform=\"translate(254.719,184.184)\"><circle r=\"7.5\"></circle></g><g id=\"node-7\" transform=\"translate(286.607,184.184)\"><circle r=\"7.5\"></circle></g><g id=\"node-8\" transform=\"translate(206.888,153.513)\"><circle r=\"7.5\"></circle></g><g id=\"node-9\" transform=\"translate(79.337,122.843)\"><circle r=\"7.5\"></circle></g><g id=\"node-10\" transform=\"translate(143.112,122.843)\"><circle r=\"7.5\"></circle></g><g id=\"node-11\" transform=\"translate(230.804,122.843)\"><circle r=\"7.5\"></circle></g><g id=\"node-12\" transform=\"translate(111.224,92.172)\"><circle r=\"7.5\"></circle></g><g id=\"node-13\" transform=\"translate(258.705,92.172)\"><circle r=\"7.5\"></circle></g><g id=\"node-14\" transform=\"translate(184.965,61.501)\"><circle r=\"7.5\"></circle></g></g><g class=\"toytree-NodeLabels\" style=\"fill:rgb(14.9%,14.9%,14.9%);fill-opacity:1.0;font-size:9px;stroke:none\"><g transform=\"translate(60.89,186.48)\"><text>0</text></g><g transform=\"translate(92.78,186.48)\"><text>1</text></g><g transform=\"translate(124.67,186.48)\"><text>2</text></g><g transform=\"translate(156.55,186.48)\"><text>3</text></g><g transform=\"translate(188.44,186.48)\"><text>4</text></g><g transform=\"translate(220.33,186.48)\"><text>5</text></g><g transform=\"translate(252.22,186.48)\"><text>6</text></g><g transform=\"translate(284.11,186.48)\"><text>7</text></g><g transform=\"translate(204.39,155.81)\"><text>8</text></g><g transform=\"translate(76.83,125.14)\"><text>9</text></g><g transform=\"translate(138.11,125.14)\"><text>10</text></g><g transform=\"translate(225.80,125.14)\"><text>11</text></g><g transform=\"translate(106.22,94.47)\"><text>12</text></g><g transform=\"translate(253.70,94.47)\"><text>13</text></g><g transform=\"translate(179.96,63.80)\"><text>14</text></g></g><g class=\"toytree-TipLabels\" style=\"fill:rgb(14.9%,14.9%,14.9%);fill-opacity:1.0;font-family:helvetica;font-size:11px;font-weight:normal;stroke:none;white-space:pre\"><g transform=\"translate(63.39,184.18)rotate(-90)\"><text x=\"-24.78\" y=\"2.81\" style=\"\">r0</text></g><g transform=\"translate(95.28,184.18)rotate(-90)\"><text x=\"-24.78\" y=\"2.81\" style=\"\">r1</text></g><g transform=\"translate(127.17,184.18)rotate(-90)\"><text x=\"-24.78\" y=\"2.81\" style=\"\">r2</text></g><g transform=\"translate(159.06,184.18)rotate(-90)\"><text x=\"-24.78\" y=\"2.81\" style=\"\">r3</text></g><g transform=\"translate(190.94,184.18)rotate(-90)\"><text x=\"-24.78\" y=\"2.81\" style=\"\">r4</text></g><g transform=\"translate(222.83,184.18)rotate(-90)\"><text x=\"-24.78\" y=\"2.81\" style=\"\">r5</text></g><g transform=\"translate(254.72,184.18)rotate(-90)\"><text x=\"-24.78\" y=\"2.81\" style=\"\">r6</text></g><g transform=\"translate(286.61,184.18)rotate(-90)\"><text x=\"-24.78\" y=\"2.81\" style=\"\">r7</text></g></g></g></g><g class=\"toyplot-coordinates-Axis\" id=\"t4ed602f641bd4bb090223ce061d184a6\" transform=\"translate(50.0,210.0)rotate(-90.0)translate(0,-20.0)\"><line x1=\"25.81619694348465\" y1=\"0\" x2=\"148.4985311665844\" y2=\"0\" style=\"\"></line><g><line x1=\"25.81619694348465\" y1=\"0\" x2=\"25.81619694348465\" y2=\"5\" style=\"\"></line><line x1=\"87.1573640550345\" y1=\"0\" x2=\"87.1573640550345\" y2=\"5\" style=\"\"></line><line x1=\"148.4985311665844\" y1=\"0\" x2=\"148.4985311665844\" y2=\"5\" style=\"\"></line></g><g><g transform=\"translate(25.81619694348465,-6)\"><text x=\"-2.78\" y=\"-4.440892098500626e-16\" style=\"fill:rgb(16.1%,15.3%,14.1%);fill-opacity:1.0;font-family:helvetica;font-size:10.0px;font-weight:normal;stroke:none;vertical-align:baseline;white-space:pre\">0</text></g><g transform=\"translate(87.1573640550345,-6)\"><text x=\"-16.68\" y=\"-4.440892098500626e-16\" style=\"fill:rgb(16.1%,15.3%,14.1%);fill-opacity:1.0;font-family:helvetica;font-size:10.0px;font-weight:normal;stroke:none;vertical-align:baseline;white-space:pre\">500000</text></g><g transform=\"translate(148.4985311665844,-6)\"><text x=\"-19.459999999999997\" y=\"-4.440892098500626e-16\" style=\"fill:rgb(16.1%,15.3%,14.1%);fill-opacity:1.0;font-family:helvetica;font-size:10.0px;font-weight:normal;stroke:none;vertical-align:baseline;white-space:pre\">1000000</text></g></g><g class=\"toyplot-coordinates-Axis-coordinates\" style=\"visibility:hidden\" transform=\"\"><line x1=\"0\" x2=\"0\" y1=\"3.0\" y2=\"-4.5\" style=\"stroke:rgb(43.9%,50.2%,56.5%);stroke-opacity:1.0;stroke-width:1.0\"></line><text x=\"0\" y=\"6\" style=\"alignment-baseline:hanging;fill:rgb(43.9%,50.2%,56.5%);fill-opacity:1.0;font-size:10px;font-weight:normal;stroke:none;text-anchor:middle\"></text></g></g></g></svg><div class=\"toyplot-behavior\"><script>(function()\n",
       "{\n",
       "var modules={};\n",
       "modules[\"toyplot/canvas/id\"] = \"t751c9b05a6c64d569094e9b922db0103\";\n",
       "modules[\"toyplot/canvas\"] = (function(canvas_id)\n",
       "    {\n",
       "        return document.querySelector(\"#\" + canvas_id);\n",
       "    })(modules[\"toyplot/canvas/id\"]);\n",
       "modules[\"toyplot.coordinates.Axis\"] = (\n",
       "        function(canvas)\n",
       "        {\n",
       "            function sign(x)\n",
       "            {\n",
       "                return x < 0 ? -1 : x > 0 ? 1 : 0;\n",
       "            }\n",
       "\n",
       "            function mix(a, b, amount)\n",
       "            {\n",
       "                return ((1.0 - amount) * a) + (amount * b);\n",
       "            }\n",
       "\n",
       "            function log(x, base)\n",
       "            {\n",
       "                return Math.log(Math.abs(x)) / Math.log(base);\n",
       "            }\n",
       "\n",
       "            function in_range(a, x, b)\n",
       "            {\n",
       "                var left = Math.min(a, b);\n",
       "                var right = Math.max(a, b);\n",
       "                return left <= x && x <= right;\n",
       "            }\n",
       "\n",
       "            function inside(range, projection)\n",
       "            {\n",
       "                for(var i = 0; i != projection.length; ++i)\n",
       "                {\n",
       "                    var segment = projection[i];\n",
       "                    if(in_range(segment.range.min, range, segment.range.max))\n",
       "                        return true;\n",
       "                }\n",
       "                return false;\n",
       "            }\n",
       "\n",
       "            function to_domain(range, projection)\n",
       "            {\n",
       "                for(var i = 0; i != projection.length; ++i)\n",
       "                {\n",
       "                    var segment = projection[i];\n",
       "                    if(in_range(segment.range.bounds.min, range, segment.range.bounds.max))\n",
       "                    {\n",
       "                        if(segment.scale == \"linear\")\n",
       "                        {\n",
       "                            var amount = (range - segment.range.min) / (segment.range.max - segment.range.min);\n",
       "                            return mix(segment.domain.min, segment.domain.max, amount)\n",
       "                        }\n",
       "                        else if(segment.scale[0] == \"log\")\n",
       "                        {\n",
       "                            var amount = (range - segment.range.min) / (segment.range.max - segment.range.min);\n",
       "                            var base = segment.scale[1];\n",
       "                            return sign(segment.domain.min) * Math.pow(base, mix(log(segment.domain.min, base), log(segment.domain.max, base), amount));\n",
       "                        }\n",
       "                    }\n",
       "                }\n",
       "            }\n",
       "\n",
       "            var axes = {};\n",
       "\n",
       "            function display_coordinates(e)\n",
       "            {\n",
       "                var current = canvas.createSVGPoint();\n",
       "                current.x = e.clientX;\n",
       "                current.y = e.clientY;\n",
       "\n",
       "                for(var axis_id in axes)\n",
       "                {\n",
       "                    var axis = document.querySelector(\"#\" + axis_id);\n",
       "                    var coordinates = axis.querySelector(\".toyplot-coordinates-Axis-coordinates\");\n",
       "                    if(coordinates)\n",
       "                    {\n",
       "                        var projection = axes[axis_id];\n",
       "                        var local = current.matrixTransform(axis.getScreenCTM().inverse());\n",
       "                        if(inside(local.x, projection))\n",
       "                        {\n",
       "                            var domain = to_domain(local.x, projection);\n",
       "                            coordinates.style.visibility = \"visible\";\n",
       "                            coordinates.setAttribute(\"transform\", \"translate(\" + local.x + \")\");\n",
       "                            var text = coordinates.querySelector(\"text\");\n",
       "                            text.textContent = domain.toFixed(2);\n",
       "                        }\n",
       "                        else\n",
       "                        {\n",
       "                            coordinates.style.visibility= \"hidden\";\n",
       "                        }\n",
       "                    }\n",
       "                }\n",
       "            }\n",
       "\n",
       "            canvas.addEventListener(\"click\", display_coordinates);\n",
       "\n",
       "            var module = {};\n",
       "            module.show_coordinates = function(axis_id, projection)\n",
       "            {\n",
       "                axes[axis_id] = projection;\n",
       "            }\n",
       "\n",
       "            return module;\n",
       "        })(modules[\"toyplot/canvas\"]);\n",
       "(function(axis, axis_id, projection)\n",
       "        {\n",
       "            axis.show_coordinates(axis_id, projection);\n",
       "        })(modules[\"toyplot.coordinates.Axis\"],\"t4ed602f641bd4bb090223ce061d184a6\",[{\"domain\": {\"bounds\": {\"max\": Infinity, \"min\": -Infinity}, \"max\": 1093750.0, \"min\": -210431.2499999999}, \"range\": {\"bounds\": {\"max\": Infinity, \"min\": -Infinity}, \"max\": 160.0, \"min\": 0.0}, \"scale\": \"linear\"}]);\n",
       "})();</script></div></div>"
      ]
     },
     "metadata": {},
     "output_type": "display_data"
    }
   ],
   "source": [
    "tree1.draw(tree_style='p');"
   ]
  },
  {
   "cell_type": "markdown",
   "id": "ccd9714a",
   "metadata": {},
   "source": [
    "What do you notice about the species tree relative to gene trees you simulated? What can you say about their **topologies**? Double click into this markdown cell to respond below:\n",
    "\n",
    "\n",
    "\n",
    "\n",
    "\n",
    "\n"
   ]
  },
  {
   "cell_type": "markdown",
   "id": "dea7b745",
   "metadata": {},
   "source": [
    "## Incomplete Lineage Sorting"
   ]
  },
  {
   "cell_type": "markdown",
   "id": "47189a0f",
   "metadata": {},
   "source": [
    "You probably observed above that the topologies of the gene trees don't always match the species tree. We call this phenomenon **gene tree discordance** and it is the result of **incomplete lineage sorting**: when the evolutionary trajectory of a gene does not match the larger species tree pattern.\n",
    "\n",
    "**Incomplete lineage sorting (ILS)** can make it difficult to resolve species trees (a major goal of a lot of research in Evolutionary Biology!). Simulations can help us understand 1) how ILS will impact how our statistical models resolve phylogenies and 2) which parameters affect ILS, and to what degree. \n",
    "\n",
    "In the following activity you will use simulations to address the second question, looking at how **effective population size (Ne), mutation rate, and admixture** affect ILS & gene tree discordance. Use the same species tree you made above (tree1) to test how differences in each of these parameters affects the degree of gene tree discordance! *Record your observations in the markdown cell at the bottom of the notebook.*"
   ]
  },
  {
   "cell_type": "markdown",
   "id": "6009270a",
   "metadata": {},
   "source": [
    "### Effective Population Size (Ne)\n",
    "Recall that effective population size reflects the number of breeding individuals in a population. I've created two models with different Ne values. Keep the Ne value of model1 constant, but adjust the Ne value of model2. What happens when Ne=1e1? What about 1e10? Play around with different values of Ne and record how gene tree discordance changes. "
   ]
  },
  {
   "cell_type": "code",
   "execution_count": 17,
   "id": "7a7ece4a",
   "metadata": {},
   "outputs": [
    {
     "name": "stdout",
     "output_type": "stream",
     "text": [
      "unrecognized arguments skipped: ['shared_axis']\n",
      "check the docs, argument names may have changed.\n",
      "unrecognized arguments skipped: ['shared_axis']\n",
      "check the docs, argument names may have changed.\n",
      "unrecognized arguments skipped: ['shared_axis']\n",
      "check the docs, argument names may have changed.\n",
      "unrecognized arguments skipped: ['shared_axis']\n",
      "check the docs, argument names may have changed.\n",
      "unrecognized arguments skipped: ['shared_axis']\n",
      "check the docs, argument names may have changed.\n",
      "unrecognized arguments skipped: ['shared_axis']\n",
      "check the docs, argument names may have changed.\n",
      "unrecognized arguments skipped: ['shared_axis']\n",
      "check the docs, argument names may have changed.\n",
      "unrecognized arguments skipped: ['shared_axis']\n",
      "check the docs, argument names may have changed.\n"
     ]
    },
    {
     "data": {
      "text/html": [
       "<div class=\"toyplot\" id=\"t626e31cfb8054bd9b6d9719fbd86776d\" style=\"text-align:center\"><svg class=\"toyplot-canvas-Canvas\" xmlns:toyplot=\"http://www.sandia.gov/toyplot\" xmlns:xlink=\"http://www.w3.org/1999/xlink\" xmlns=\"http://www.w3.org/2000/svg\" width=\"350.0px\" height=\"260.0px\" viewBox=\"0 0 350.0 260.0\" preserveAspectRatio=\"xMidYMid meet\" style=\"background-color:transparent;border-color:#292724;border-style:none;border-width:1.0;fill:rgb(16.1%,15.3%,14.1%);fill-opacity:1.0;font-family:Helvetica;font-size:12px;opacity:1.0;stroke:rgb(16.1%,15.3%,14.1%);stroke-opacity:1.0;stroke-width:1.0\" id=\"t7149c30612fa4b7e9c84882a280af170\"><g class=\"toyplot-coordinates-Cartesian\" id=\"t67d830a626d34124919c20a443cd5620\"><clipPath id=\"ta12a2571638442749a15214571c5e32b\"><rect x=\"30.0\" y=\"30.0\" width=\"290.0\" height=\"200.0\"></rect></clipPath><g clip-path=\"url(#ta12a2571638442749a15214571c5e32b)\"><g class=\"toytree-mark-Toytree\" id=\"tea267711af834cc3848bf8251e260967\"><g class=\"toytree-Edges\" style=\"fill:none;stroke:rgb(14.9%,14.9%,14.9%);stroke-linecap:round;stroke-opacity:1;stroke-width:2\"><path d=\"M 185.0 61.5 L 258.7 92.2\" id=\"14,13\"></path><path d=\"M 185.0 61.5 L 111.2 92.2\" id=\"14,12\"></path><path d=\"M 258.7 92.2 L 230.8 122.8\" id=\"13,11\"></path><path d=\"M 111.2 92.2 L 143.1 122.8\" id=\"12,10\"></path><path d=\"M 111.2 92.2 L 79.3 122.8\" id=\"12,9\"></path><path d=\"M 230.8 122.8 L 206.9 153.5\" id=\"11,8\"></path><path d=\"M 258.7 92.2 L 286.6 184.2\" id=\"13,7\"></path><path d=\"M 230.8 122.8 L 254.7 184.2\" id=\"11,6\"></path><path d=\"M 206.9 153.5 L 222.8 184.2\" id=\"8,5\"></path><path d=\"M 206.9 153.5 L 190.9 184.2\" id=\"8,4\"></path><path d=\"M 143.1 122.8 L 159.1 184.2\" id=\"10,3\"></path><path d=\"M 143.1 122.8 L 127.2 184.2\" id=\"10,2\"></path><path d=\"M 79.3 122.8 L 95.3 184.2\" id=\"9,1\"></path><path d=\"M 79.3 122.8 L 63.4 184.2\" id=\"9,0\"></path></g><g class=\"toytree-Nodes\" style=\"fill:rgb(40%,76.1%,64.7%);fill-opacity:1.0;stroke:rgb(14.9%,14.9%,14.9%);stroke-opacity:1.0;stroke-width:1\"><g id=\"node-0\" transform=\"translate(63.393,184.184)\"><circle r=\"7.5\"></circle></g><g id=\"node-1\" transform=\"translate(95.281,184.184)\"><circle r=\"7.5\"></circle></g><g id=\"node-2\" transform=\"translate(127.168,184.184)\"><circle r=\"7.5\"></circle></g><g id=\"node-3\" transform=\"translate(159.056,184.184)\"><circle r=\"7.5\"></circle></g><g id=\"node-4\" transform=\"translate(190.944,184.184)\"><circle r=\"7.5\"></circle></g><g id=\"node-5\" transform=\"translate(222.832,184.184)\"><circle r=\"7.5\"></circle></g><g id=\"node-6\" transform=\"translate(254.719,184.184)\"><circle r=\"7.5\"></circle></g><g id=\"node-7\" transform=\"translate(286.607,184.184)\"><circle r=\"7.5\"></circle></g><g id=\"node-8\" transform=\"translate(206.888,153.513)\"><circle r=\"7.5\"></circle></g><g id=\"node-9\" transform=\"translate(79.337,122.843)\"><circle r=\"7.5\"></circle></g><g id=\"node-10\" transform=\"translate(143.112,122.843)\"><circle r=\"7.5\"></circle></g><g id=\"node-11\" transform=\"translate(230.804,122.843)\"><circle r=\"7.5\"></circle></g><g id=\"node-12\" transform=\"translate(111.224,92.172)\"><circle r=\"7.5\"></circle></g><g id=\"node-13\" transform=\"translate(258.705,92.172)\"><circle r=\"7.5\"></circle></g><g id=\"node-14\" transform=\"translate(184.965,61.501)\"><circle r=\"7.5\"></circle></g></g><g class=\"toytree-NodeLabels\" style=\"fill:rgb(14.9%,14.9%,14.9%);fill-opacity:1.0;font-size:9px;stroke:none\"><g transform=\"translate(60.89,186.48)\"><text>0</text></g><g transform=\"translate(92.78,186.48)\"><text>1</text></g><g transform=\"translate(124.67,186.48)\"><text>2</text></g><g transform=\"translate(156.55,186.48)\"><text>3</text></g><g transform=\"translate(188.44,186.48)\"><text>4</text></g><g transform=\"translate(220.33,186.48)\"><text>5</text></g><g transform=\"translate(252.22,186.48)\"><text>6</text></g><g transform=\"translate(284.11,186.48)\"><text>7</text></g><g transform=\"translate(204.39,155.81)\"><text>8</text></g><g transform=\"translate(76.83,125.14)\"><text>9</text></g><g transform=\"translate(138.11,125.14)\"><text>10</text></g><g transform=\"translate(225.80,125.14)\"><text>11</text></g><g transform=\"translate(106.22,94.47)\"><text>12</text></g><g transform=\"translate(253.70,94.47)\"><text>13</text></g><g transform=\"translate(179.96,63.80)\"><text>14</text></g></g><g class=\"toytree-TipLabels\" style=\"fill:rgb(14.9%,14.9%,14.9%);fill-opacity:1.0;font-family:helvetica;font-size:11px;font-weight:normal;stroke:none;white-space:pre\"><g transform=\"translate(63.39,184.18)rotate(-90)\"><text x=\"-24.78\" y=\"2.81\" style=\"\">r0</text></g><g transform=\"translate(95.28,184.18)rotate(-90)\"><text x=\"-24.78\" y=\"2.81\" style=\"\">r1</text></g><g transform=\"translate(127.17,184.18)rotate(-90)\"><text x=\"-24.78\" y=\"2.81\" style=\"\">r2</text></g><g transform=\"translate(159.06,184.18)rotate(-90)\"><text x=\"-24.78\" y=\"2.81\" style=\"\">r3</text></g><g transform=\"translate(190.94,184.18)rotate(-90)\"><text x=\"-24.78\" y=\"2.81\" style=\"\">r4</text></g><g transform=\"translate(222.83,184.18)rotate(-90)\"><text x=\"-24.78\" y=\"2.81\" style=\"\">r5</text></g><g transform=\"translate(254.72,184.18)rotate(-90)\"><text x=\"-24.78\" y=\"2.81\" style=\"\">r6</text></g><g transform=\"translate(286.61,184.18)rotate(-90)\"><text x=\"-24.78\" y=\"2.81\" style=\"\">r7</text></g></g></g></g><g class=\"toyplot-coordinates-Axis\" id=\"t11a96e93c3a74eadbdc079536f590470\" transform=\"translate(50.0,210.0)rotate(-90.0)translate(0,-20.0)\"><line x1=\"25.81619694348465\" y1=\"0\" x2=\"148.4985311665844\" y2=\"0\" style=\"\"></line><g><line x1=\"25.81619694348465\" y1=\"0\" x2=\"25.81619694348465\" y2=\"5\" style=\"\"></line><line x1=\"87.1573640550345\" y1=\"0\" x2=\"87.1573640550345\" y2=\"5\" style=\"\"></line><line x1=\"148.4985311665844\" y1=\"0\" x2=\"148.4985311665844\" y2=\"5\" style=\"\"></line></g><g><g transform=\"translate(25.81619694348465,-6)\"><text x=\"-2.78\" y=\"-4.440892098500626e-16\" style=\"fill:rgb(16.1%,15.3%,14.1%);fill-opacity:1.0;font-family:helvetica;font-size:10.0px;font-weight:normal;stroke:none;vertical-align:baseline;white-space:pre\">0</text></g><g transform=\"translate(87.1573640550345,-6)\"><text x=\"-16.68\" y=\"-4.440892098500626e-16\" style=\"fill:rgb(16.1%,15.3%,14.1%);fill-opacity:1.0;font-family:helvetica;font-size:10.0px;font-weight:normal;stroke:none;vertical-align:baseline;white-space:pre\">500000</text></g><g transform=\"translate(148.4985311665844,-6)\"><text x=\"-19.459999999999997\" y=\"-4.440892098500626e-16\" style=\"fill:rgb(16.1%,15.3%,14.1%);fill-opacity:1.0;font-family:helvetica;font-size:10.0px;font-weight:normal;stroke:none;vertical-align:baseline;white-space:pre\">1000000</text></g></g><g class=\"toyplot-coordinates-Axis-coordinates\" style=\"visibility:hidden\" transform=\"\"><line x1=\"0\" x2=\"0\" y1=\"3.0\" y2=\"-4.5\" style=\"stroke:rgb(43.9%,50.2%,56.5%);stroke-opacity:1.0;stroke-width:1.0\"></line><text x=\"0\" y=\"6\" style=\"alignment-baseline:hanging;fill:rgb(43.9%,50.2%,56.5%);fill-opacity:1.0;font-size:10px;font-weight:normal;stroke:none;text-anchor:middle\"></text></g></g></g></svg><div class=\"toyplot-behavior\"><script>(function()\n",
       "{\n",
       "var modules={};\n",
       "modules[\"toyplot/canvas/id\"] = \"t7149c30612fa4b7e9c84882a280af170\";\n",
       "modules[\"toyplot/canvas\"] = (function(canvas_id)\n",
       "    {\n",
       "        return document.querySelector(\"#\" + canvas_id);\n",
       "    })(modules[\"toyplot/canvas/id\"]);\n",
       "modules[\"toyplot.coordinates.Axis\"] = (\n",
       "        function(canvas)\n",
       "        {\n",
       "            function sign(x)\n",
       "            {\n",
       "                return x < 0 ? -1 : x > 0 ? 1 : 0;\n",
       "            }\n",
       "\n",
       "            function mix(a, b, amount)\n",
       "            {\n",
       "                return ((1.0 - amount) * a) + (amount * b);\n",
       "            }\n",
       "\n",
       "            function log(x, base)\n",
       "            {\n",
       "                return Math.log(Math.abs(x)) / Math.log(base);\n",
       "            }\n",
       "\n",
       "            function in_range(a, x, b)\n",
       "            {\n",
       "                var left = Math.min(a, b);\n",
       "                var right = Math.max(a, b);\n",
       "                return left <= x && x <= right;\n",
       "            }\n",
       "\n",
       "            function inside(range, projection)\n",
       "            {\n",
       "                for(var i = 0; i != projection.length; ++i)\n",
       "                {\n",
       "                    var segment = projection[i];\n",
       "                    if(in_range(segment.range.min, range, segment.range.max))\n",
       "                        return true;\n",
       "                }\n",
       "                return false;\n",
       "            }\n",
       "\n",
       "            function to_domain(range, projection)\n",
       "            {\n",
       "                for(var i = 0; i != projection.length; ++i)\n",
       "                {\n",
       "                    var segment = projection[i];\n",
       "                    if(in_range(segment.range.bounds.min, range, segment.range.bounds.max))\n",
       "                    {\n",
       "                        if(segment.scale == \"linear\")\n",
       "                        {\n",
       "                            var amount = (range - segment.range.min) / (segment.range.max - segment.range.min);\n",
       "                            return mix(segment.domain.min, segment.domain.max, amount)\n",
       "                        }\n",
       "                        else if(segment.scale[0] == \"log\")\n",
       "                        {\n",
       "                            var amount = (range - segment.range.min) / (segment.range.max - segment.range.min);\n",
       "                            var base = segment.scale[1];\n",
       "                            return sign(segment.domain.min) * Math.pow(base, mix(log(segment.domain.min, base), log(segment.domain.max, base), amount));\n",
       "                        }\n",
       "                    }\n",
       "                }\n",
       "            }\n",
       "\n",
       "            var axes = {};\n",
       "\n",
       "            function display_coordinates(e)\n",
       "            {\n",
       "                var current = canvas.createSVGPoint();\n",
       "                current.x = e.clientX;\n",
       "                current.y = e.clientY;\n",
       "\n",
       "                for(var axis_id in axes)\n",
       "                {\n",
       "                    var axis = document.querySelector(\"#\" + axis_id);\n",
       "                    var coordinates = axis.querySelector(\".toyplot-coordinates-Axis-coordinates\");\n",
       "                    if(coordinates)\n",
       "                    {\n",
       "                        var projection = axes[axis_id];\n",
       "                        var local = current.matrixTransform(axis.getScreenCTM().inverse());\n",
       "                        if(inside(local.x, projection))\n",
       "                        {\n",
       "                            var domain = to_domain(local.x, projection);\n",
       "                            coordinates.style.visibility = \"visible\";\n",
       "                            coordinates.setAttribute(\"transform\", \"translate(\" + local.x + \")\");\n",
       "                            var text = coordinates.querySelector(\"text\");\n",
       "                            text.textContent = domain.toFixed(2);\n",
       "                        }\n",
       "                        else\n",
       "                        {\n",
       "                            coordinates.style.visibility= \"hidden\";\n",
       "                        }\n",
       "                    }\n",
       "                }\n",
       "            }\n",
       "\n",
       "            canvas.addEventListener(\"click\", display_coordinates);\n",
       "\n",
       "            var module = {};\n",
       "            module.show_coordinates = function(axis_id, projection)\n",
       "            {\n",
       "                axes[axis_id] = projection;\n",
       "            }\n",
       "\n",
       "            return module;\n",
       "        })(modules[\"toyplot/canvas\"]);\n",
       "(function(axis, axis_id, projection)\n",
       "        {\n",
       "            axis.show_coordinates(axis_id, projection);\n",
       "        })(modules[\"toyplot.coordinates.Axis\"],\"t11a96e93c3a74eadbdc079536f590470\",[{\"domain\": {\"bounds\": {\"max\": Infinity, \"min\": -Infinity}, \"max\": 1093750.0, \"min\": -210431.2499999999}, \"range\": {\"bounds\": {\"max\": Infinity, \"min\": -Infinity}, \"max\": 160.0, \"min\": 0.0}, \"scale\": \"linear\"}]);\n",
       "})();</script></div></div>"
      ]
     },
     "metadata": {},
     "output_type": "display_data"
    },
    {
     "data": {
      "text/html": [
       "<div class=\"toyplot\" id=\"t2abb0f0238c34bdca49843f5a0df920a\" style=\"text-align:center\"><svg class=\"toyplot-canvas-Canvas\" xmlns:toyplot=\"http://www.sandia.gov/toyplot\" xmlns:xlink=\"http://www.w3.org/1999/xlink\" xmlns=\"http://www.w3.org/2000/svg\" width=\"600.0px\" height=\"200.0px\" viewBox=\"0 0 600.0 200.0\" preserveAspectRatio=\"xMidYMid meet\" style=\"background-color:transparent;border-color:#292724;border-style:none;border-width:1.0;fill:rgb(16.1%,15.3%,14.1%);fill-opacity:1.0;font-family:Helvetica;font-size:12px;opacity:1.0;stroke:rgb(16.1%,15.3%,14.1%);stroke-opacity:1.0;stroke-width:1.0\" id=\"t6ea4ca60185745a1b7d48d4b73f2de44\"><g class=\"toyplot-coordinates-Cartesian\" id=\"t3eca92add54245fcb209ff1c0940baa6\"><clipPath id=\"t4ea4deb599a741aeac84c4cb656da7ef\"><rect x=\"15.0\" y=\"15.0\" width=\"120.0\" height=\"170.0\"></rect></clipPath><g clip-path=\"url(#t4ea4deb599a741aeac84c4cb656da7ef)\"><g class=\"toytree-mark-Toytree\" id=\"tca114fc881c74a0aa3cafb8535463e56\"><g class=\"toytree-Edges\" style=\"fill:none;stroke:rgb(14.9%,14.9%,14.9%);stroke-linecap:round;stroke-opacity:1;stroke-width:2\"><path d=\"M 78.6 29.9 L 98.3 61.0\" id=\"14,13\"></path><path d=\"M 78.6 29.9 L 59.0 56.3\" id=\"14,12\"></path><path d=\"M 98.3 61.0 L 109.9 89.5\" id=\"13,11\"></path><path d=\"M 98.3 61.0 L 86.6 89.5\" id=\"13,10\"></path><path d=\"M 59.0 56.3 L 48.8 89.3\" id=\"12,9\"></path><path d=\"M 48.8 89.3 L 40.1 121.3\" id=\"9,8\"></path><path d=\"M 109.9 89.5 L 115.7 152.9\" id=\"11,7\"></path><path d=\"M 109.9 89.5 L 104.1 152.9\" id=\"11,6\"></path><path d=\"M 86.6 89.5 L 92.4 152.9\" id=\"10,5\"></path><path d=\"M 86.6 89.5 L 80.8 152.9\" id=\"10,4\"></path><path d=\"M 59.0 56.3 L 69.2 152.9\" id=\"12,3\"></path><path d=\"M 48.8 89.3 L 57.6 152.9\" id=\"9,2\"></path><path d=\"M 40.1 121.3 L 45.9 152.9\" id=\"8,1\"></path><path d=\"M 40.1 121.3 L 34.3 152.9\" id=\"8,0\"></path></g><g class=\"toytree-Nodes\" style=\"fill:rgb(40%,76.1%,64.7%);fill-opacity:1.0;stroke:rgb(14.9%,14.9%,14.9%);stroke-opacity:1.0;stroke-width:1\"><g id=\"node-0\" transform=\"translate(34.283,152.945)\"><circle r=\"3.0\"></circle></g><g id=\"node-1\" transform=\"translate(45.917,152.945)\"><circle r=\"3.0\"></circle></g><g id=\"node-2\" transform=\"translate(57.550,152.945)\"><circle r=\"3.0\"></circle></g><g id=\"node-3\" transform=\"translate(69.183,152.945)\"><circle r=\"3.0\"></circle></g><g id=\"node-4\" transform=\"translate(80.817,152.945)\"><circle r=\"3.0\"></circle></g><g id=\"node-5\" transform=\"translate(92.450,152.945)\"><circle r=\"3.0\"></circle></g><g id=\"node-6\" transform=\"translate(104.083,152.945)\"><circle r=\"3.0\"></circle></g><g id=\"node-7\" transform=\"translate(115.717,152.945)\"><circle r=\"3.0\"></circle></g><g id=\"node-8\" transform=\"translate(40.100,121.281)\"><circle r=\"3.0\"></circle></g><g id=\"node-9\" transform=\"translate(48.825,89.322)\"><circle r=\"3.0\"></circle></g><g id=\"node-10\" transform=\"translate(86.633,89.455)\"><circle r=\"3.0\"></circle></g><g id=\"node-11\" transform=\"translate(109.900,89.499)\"><circle r=\"3.0\"></circle></g><g id=\"node-12\" transform=\"translate(59.004,56.257)\"><circle r=\"3.0\"></circle></g><g id=\"node-13\" transform=\"translate(98.267,61.011)\"><circle r=\"3.0\"></circle></g><g id=\"node-14\" transform=\"translate(78.635,29.921)\"><circle r=\"3.0\"></circle></g></g><g class=\"toytree-NodeLabels\" style=\"fill:rgb(14.9%,14.9%,14.9%);fill-opacity:1.0;font-size:9px;stroke:none\"><g transform=\"translate(31.78,155.24)\"><text>0</text></g><g transform=\"translate(43.41,155.24)\"><text>1</text></g><g transform=\"translate(55.05,155.24)\"><text>2</text></g><g transform=\"translate(66.68,155.24)\"><text>3</text></g><g transform=\"translate(78.31,155.24)\"><text>4</text></g><g transform=\"translate(89.95,155.24)\"><text>5</text></g><g transform=\"translate(101.58,155.24)\"><text>6</text></g><g transform=\"translate(113.21,155.24)\"><text>7</text></g><g transform=\"translate(37.60,123.58)\"><text>8</text></g><g transform=\"translate(46.32,91.62)\"><text>9</text></g><g transform=\"translate(81.63,91.75)\"><text>10</text></g><g transform=\"translate(104.90,91.80)\"><text>11</text></g><g transform=\"translate(54.00,58.56)\"><text>12</text></g><g transform=\"translate(93.26,63.31)\"><text>13</text></g><g transform=\"translate(73.63,32.22)\"><text>14</text></g></g><g class=\"toytree-TipLabels\" style=\"fill:rgb(14.9%,14.9%,14.9%);fill-opacity:1.0;font-family:helvetica;font-size:9px;font-weight:normal;stroke:none;white-space:pre\"><g transform=\"translate(34.28,152.95)rotate(-90)\"><text x=\"-18.00\" y=\"2.30\" style=\"\">r5</text></g><g transform=\"translate(45.92,152.95)rotate(-90)\"><text x=\"-18.00\" y=\"2.30\" style=\"\">r4</text></g><g transform=\"translate(57.55,152.94)rotate(-90)\"><text x=\"-18.00\" y=\"2.30\" style=\"\">r6</text></g><g transform=\"translate(69.18,152.94)rotate(-90)\"><text x=\"-18.00\" y=\"2.30\" style=\"\">r7</text></g><g transform=\"translate(80.82,152.94)rotate(-90)\"><text x=\"-18.00\" y=\"2.30\" style=\"\">r1</text></g><g transform=\"translate(92.45,152.94)rotate(-90)\"><text x=\"-18.00\" y=\"2.30\" style=\"\">r0</text></g><g transform=\"translate(104.08,152.94)rotate(-90)\"><text x=\"-18.00\" y=\"2.30\" style=\"\">r3</text></g><g transform=\"translate(115.72,152.94)rotate(-90)\"><text x=\"-18.00\" y=\"2.30\" style=\"\">r2</text></g></g></g></g></g><g class=\"toyplot-coordinates-Cartesian\" id=\"t2185df92105a46849f60d775a627e8c2\"><clipPath id=\"tb420359ba854455da47e5ef796aab304\"><rect x=\"165.0\" y=\"15.0\" width=\"120.0\" height=\"170.0\"></rect></clipPath><g clip-path=\"url(#tb420359ba854455da47e5ef796aab304)\"><g class=\"toytree-mark-Toytree\" id=\"tb35451bce04d4fc8b1d6e122b2faebf9\"><g class=\"toytree-Edges\" style=\"fill:none;stroke:rgb(14.9%,14.9%,14.9%);stroke-linecap:round;stroke-opacity:1;stroke-width:2\"><path d=\"M 228.6 29.9 L 255.5 60.5\" id=\"14,13\"></path><path d=\"M 228.6 29.9 L 201.7 59.2\" id=\"14,12\"></path><path d=\"M 255.5 60.5 L 245.4 90.8\" id=\"13,11\"></path><path d=\"M 201.7 59.2 L 213.4 89.4\" id=\"12,10\"></path><path d=\"M 201.7 59.2 L 190.1 88.2\" id=\"12,9\"></path><path d=\"M 245.4 90.8 L 236.6 115.5\" id=\"11,8\"></path><path d=\"M 255.5 60.5 L 265.7 152.9\" id=\"13,7\"></path><path d=\"M 245.4 90.8 L 254.1 152.9\" id=\"11,6\"></path><path d=\"M 236.6 115.5 L 242.4 152.9\" id=\"8,5\"></path><path d=\"M 236.6 115.5 L 230.8 152.9\" id=\"8,4\"></path><path d=\"M 213.4 89.4 L 219.2 152.9\" id=\"10,3\"></path><path d=\"M 213.4 89.4 L 207.6 152.9\" id=\"10,2\"></path><path d=\"M 190.1 88.2 L 195.9 152.9\" id=\"9,1\"></path><path d=\"M 190.1 88.2 L 184.3 152.9\" id=\"9,0\"></path></g><g class=\"toytree-Nodes\" style=\"fill:rgb(40%,76.1%,64.7%);fill-opacity:1.0;stroke:rgb(14.9%,14.9%,14.9%);stroke-opacity:1.0;stroke-width:1\"><g id=\"node-0\" transform=\"translate(184.283,152.945)\"><circle r=\"3.0\"></circle></g><g id=\"node-1\" transform=\"translate(195.917,152.945)\"><circle r=\"3.0\"></circle></g><g id=\"node-2\" transform=\"translate(207.550,152.945)\"><circle r=\"3.0\"></circle></g><g id=\"node-3\" transform=\"translate(219.183,152.945)\"><circle r=\"3.0\"></circle></g><g id=\"node-4\" transform=\"translate(230.817,152.945)\"><circle r=\"3.0\"></circle></g><g id=\"node-5\" transform=\"translate(242.450,152.945)\"><circle r=\"3.0\"></circle></g><g id=\"node-6\" transform=\"translate(254.083,152.945)\"><circle r=\"3.0\"></circle></g><g id=\"node-7\" transform=\"translate(265.717,152.945)\"><circle r=\"3.0\"></circle></g><g id=\"node-8\" transform=\"translate(236.633,115.518)\"><circle r=\"3.0\"></circle></g><g id=\"node-9\" transform=\"translate(190.100,88.233)\"><circle r=\"3.0\"></circle></g><g id=\"node-10\" transform=\"translate(213.367,89.392)\"><circle r=\"3.0\"></circle></g><g id=\"node-11\" transform=\"translate(245.358,90.786)\"><circle r=\"3.0\"></circle></g><g id=\"node-12\" transform=\"translate(201.733,59.238)\"><circle r=\"3.0\"></circle></g><g id=\"node-13\" transform=\"translate(255.537,60.514)\"><circle r=\"3.0\"></circle></g><g id=\"node-14\" transform=\"translate(228.635,29.921)\"><circle r=\"3.0\"></circle></g></g><g class=\"toytree-NodeLabels\" style=\"fill:rgb(14.9%,14.9%,14.9%);fill-opacity:1.0;font-size:9px;stroke:none\"><g transform=\"translate(181.78,155.24)\"><text>0</text></g><g transform=\"translate(193.41,155.24)\"><text>1</text></g><g transform=\"translate(205.05,155.24)\"><text>2</text></g><g transform=\"translate(216.68,155.24)\"><text>3</text></g><g transform=\"translate(228.31,155.24)\"><text>4</text></g><g transform=\"translate(239.95,155.24)\"><text>5</text></g><g transform=\"translate(251.58,155.24)\"><text>6</text></g><g transform=\"translate(263.21,155.24)\"><text>7</text></g><g transform=\"translate(234.13,117.82)\"><text>8</text></g><g transform=\"translate(187.60,90.53)\"><text>9</text></g><g transform=\"translate(208.36,91.69)\"><text>10</text></g><g transform=\"translate(240.35,93.09)\"><text>11</text></g><g transform=\"translate(196.73,61.54)\"><text>12</text></g><g transform=\"translate(250.53,62.81)\"><text>13</text></g><g transform=\"translate(223.63,32.22)\"><text>14</text></g></g><g class=\"toytree-TipLabels\" style=\"fill:rgb(14.9%,14.9%,14.9%);fill-opacity:1.0;font-family:helvetica;font-size:9px;font-weight:normal;stroke:none;white-space:pre\"><g transform=\"translate(184.28,152.95)rotate(-90)\"><text x=\"-18.00\" y=\"2.30\" style=\"\">r1</text></g><g transform=\"translate(195.92,152.95)rotate(-90)\"><text x=\"-18.00\" y=\"2.30\" style=\"\">r0</text></g><g transform=\"translate(207.55,152.94)rotate(-90)\"><text x=\"-18.00\" y=\"2.30\" style=\"\">r3</text></g><g transform=\"translate(219.18,152.94)rotate(-90)\"><text x=\"-18.00\" y=\"2.30\" style=\"\">r2</text></g><g transform=\"translate(230.82,152.94)rotate(-90)\"><text x=\"-18.00\" y=\"2.30\" style=\"\">r5</text></g><g transform=\"translate(242.45,152.94)rotate(-90)\"><text x=\"-18.00\" y=\"2.30\" style=\"\">r4</text></g><g transform=\"translate(254.08,152.94)rotate(-90)\"><text x=\"-18.00\" y=\"2.30\" style=\"\">r6</text></g><g transform=\"translate(265.72,152.94)rotate(-90)\"><text x=\"-18.00\" y=\"2.30\" style=\"\">r7</text></g></g></g></g></g><g class=\"toyplot-coordinates-Cartesian\" id=\"t99160c6b640c4cfe93e0c47ac1caad47\"><clipPath id=\"td296b1af1fc34363967364576d53e4c0\"><rect x=\"315.0\" y=\"15.0\" width=\"120.0\" height=\"170.0\"></rect></clipPath><g clip-path=\"url(#td296b1af1fc34363967364576d53e4c0)\"><g class=\"toytree-mark-Toytree\" id=\"t70667fed678c40f08d9d9c9715f2c6d6\"><g class=\"toytree-Edges\" style=\"fill:none;stroke:rgb(14.9%,14.9%,14.9%);stroke-linecap:round;stroke-opacity:1;stroke-width:2\"><path d=\"M 378.6 29.9 L 398.3 55.7\" id=\"14,13\"></path><path d=\"M 378.6 29.9 L 359.0 55.7\" id=\"14,12\"></path><path d=\"M 398.3 55.7 L 409.9 91.3\" id=\"13,11\"></path><path d=\"M 398.3 55.7 L 386.6 86.6\" id=\"13,10\"></path><path d=\"M 359.0 55.7 L 348.8 90.7\" id=\"12,9\"></path><path d=\"M 348.8 90.7 L 340.1 120.9\" id=\"9,8\"></path><path d=\"M 409.9 91.3 L 415.7 152.9\" id=\"11,7\"></path><path d=\"M 409.9 91.3 L 404.1 152.9\" id=\"11,6\"></path><path d=\"M 386.6 86.6 L 392.4 152.9\" id=\"10,5\"></path><path d=\"M 386.6 86.6 L 380.8 152.9\" id=\"10,4\"></path><path d=\"M 359.0 55.7 L 369.2 152.9\" id=\"12,3\"></path><path d=\"M 348.8 90.7 L 357.6 152.9\" id=\"9,2\"></path><path d=\"M 340.1 120.9 L 345.9 152.9\" id=\"8,1\"></path><path d=\"M 340.1 120.9 L 334.3 152.9\" id=\"8,0\"></path></g><g class=\"toytree-Nodes\" style=\"fill:rgb(40%,76.1%,64.7%);fill-opacity:1.0;stroke:rgb(14.9%,14.9%,14.9%);stroke-opacity:1.0;stroke-width:1\"><g id=\"node-0\" transform=\"translate(334.283,152.945)\"><circle r=\"3.0\"></circle></g><g id=\"node-1\" transform=\"translate(345.917,152.945)\"><circle r=\"3.0\"></circle></g><g id=\"node-2\" transform=\"translate(357.550,152.945)\"><circle r=\"3.0\"></circle></g><g id=\"node-3\" transform=\"translate(369.183,152.945)\"><circle r=\"3.0\"></circle></g><g id=\"node-4\" transform=\"translate(380.817,152.945)\"><circle r=\"3.0\"></circle></g><g id=\"node-5\" transform=\"translate(392.450,152.945)\"><circle r=\"3.0\"></circle></g><g id=\"node-6\" transform=\"translate(404.083,152.945)\"><circle r=\"3.0\"></circle></g><g id=\"node-7\" transform=\"translate(415.717,152.945)\"><circle r=\"3.0\"></circle></g><g id=\"node-8\" transform=\"translate(340.100,120.943)\"><circle r=\"3.0\"></circle></g><g id=\"node-9\" transform=\"translate(348.825,90.689)\"><circle r=\"3.0\"></circle></g><g id=\"node-10\" transform=\"translate(386.633,86.634)\"><circle r=\"3.0\"></circle></g><g id=\"node-11\" transform=\"translate(409.900,91.325)\"><circle r=\"3.0\"></circle></g><g id=\"node-12\" transform=\"translate(359.004,55.653)\"><circle r=\"3.0\"></circle></g><g id=\"node-13\" transform=\"translate(398.267,55.738)\"><circle r=\"3.0\"></circle></g><g id=\"node-14\" transform=\"translate(378.635,29.921)\"><circle r=\"3.0\"></circle></g></g><g class=\"toytree-NodeLabels\" style=\"fill:rgb(14.9%,14.9%,14.9%);fill-opacity:1.0;font-size:9px;stroke:none\"><g transform=\"translate(331.78,155.24)\"><text>0</text></g><g transform=\"translate(343.41,155.24)\"><text>1</text></g><g transform=\"translate(355.05,155.24)\"><text>2</text></g><g transform=\"translate(366.68,155.24)\"><text>3</text></g><g transform=\"translate(378.31,155.24)\"><text>4</text></g><g transform=\"translate(389.95,155.24)\"><text>5</text></g><g transform=\"translate(401.58,155.24)\"><text>6</text></g><g transform=\"translate(413.21,155.24)\"><text>7</text></g><g transform=\"translate(337.60,123.24)\"><text>8</text></g><g transform=\"translate(346.32,92.99)\"><text>9</text></g><g transform=\"translate(381.63,88.93)\"><text>10</text></g><g transform=\"translate(404.90,93.62)\"><text>11</text></g><g transform=\"translate(354.00,57.95)\"><text>12</text></g><g transform=\"translate(393.26,58.04)\"><text>13</text></g><g transform=\"translate(373.63,32.22)\"><text>14</text></g></g><g class=\"toytree-TipLabels\" style=\"fill:rgb(14.9%,14.9%,14.9%);fill-opacity:1.0;font-family:helvetica;font-size:9px;font-weight:normal;stroke:none;white-space:pre\"><g transform=\"translate(334.28,152.95)rotate(-90)\"><text x=\"-18.00\" y=\"2.30\" style=\"\">r5</text></g><g transform=\"translate(345.92,152.95)rotate(-90)\"><text x=\"-18.00\" y=\"2.30\" style=\"\">r4</text></g><g transform=\"translate(357.55,152.95)rotate(-90)\"><text x=\"-18.00\" y=\"2.30\" style=\"\">r6</text></g><g transform=\"translate(369.18,152.95)rotate(-90)\"><text x=\"-18.00\" y=\"2.30\" style=\"\">r7</text></g><g transform=\"translate(380.82,152.95)rotate(-90)\"><text x=\"-18.00\" y=\"2.30\" style=\"\">r1</text></g><g transform=\"translate(392.45,152.95)rotate(-90)\"><text x=\"-18.00\" y=\"2.30\" style=\"\">r0</text></g><g transform=\"translate(404.08,152.95)rotate(-90)\"><text x=\"-18.00\" y=\"2.30\" style=\"\">r3</text></g><g transform=\"translate(415.72,152.95)rotate(-90)\"><text x=\"-18.00\" y=\"2.30\" style=\"\">r2</text></g></g></g></g></g><g class=\"toyplot-coordinates-Cartesian\" id=\"tea6851704e2f47a7835a3c1fdbc20850\"><clipPath id=\"tf0de773fe50a447f94486c0362aa5841\"><rect x=\"465.0\" y=\"15.0\" width=\"120.0\" height=\"170.0\"></rect></clipPath><g clip-path=\"url(#tf0de773fe50a447f94486c0362aa5841)\"><g class=\"toytree-mark-Toytree\" id=\"tba682d4118114c11be06e5b3a9e1ff7b\"><g class=\"toytree-Edges\" style=\"fill:none;stroke:rgb(14.9%,14.9%,14.9%);stroke-linecap:round;stroke-opacity:1;stroke-width:2\"><path d=\"M 528.6 29.9 L 548.3 61.0\" id=\"14,13\"></path><path d=\"M 528.6 29.9 L 509.0 60.7\" id=\"14,12\"></path><path d=\"M 548.3 61.0 L 559.9 91.7\" id=\"13,11\"></path><path d=\"M 548.3 61.0 L 536.6 83.9\" id=\"13,10\"></path><path d=\"M 509.0 60.7 L 498.8 91.0\" id=\"12,9\"></path><path d=\"M 498.8 91.0 L 490.1 121.2\" id=\"9,8\"></path><path d=\"M 559.9 91.7 L 565.7 152.9\" id=\"11,7\"></path><path d=\"M 559.9 91.7 L 554.1 152.9\" id=\"11,6\"></path><path d=\"M 536.6 83.9 L 542.4 152.9\" id=\"10,5\"></path><path d=\"M 536.6 83.9 L 530.8 152.9\" id=\"10,4\"></path><path d=\"M 509.0 60.7 L 519.2 152.9\" id=\"12,3\"></path><path d=\"M 498.8 91.0 L 507.6 152.9\" id=\"9,2\"></path><path d=\"M 490.1 121.2 L 495.9 152.9\" id=\"8,1\"></path><path d=\"M 490.1 121.2 L 484.3 152.9\" id=\"8,0\"></path></g><g class=\"toytree-Nodes\" style=\"fill:rgb(40%,76.1%,64.7%);fill-opacity:1.0;stroke:rgb(14.9%,14.9%,14.9%);stroke-opacity:1.0;stroke-width:1\"><g id=\"node-0\" transform=\"translate(484.283,152.945)\"><circle r=\"3.0\"></circle></g><g id=\"node-1\" transform=\"translate(495.917,152.945)\"><circle r=\"3.0\"></circle></g><g id=\"node-2\" transform=\"translate(507.550,152.945)\"><circle r=\"3.0\"></circle></g><g id=\"node-3\" transform=\"translate(519.183,152.945)\"><circle r=\"3.0\"></circle></g><g id=\"node-4\" transform=\"translate(530.817,152.945)\"><circle r=\"3.0\"></circle></g><g id=\"node-5\" transform=\"translate(542.450,152.945)\"><circle r=\"3.0\"></circle></g><g id=\"node-6\" transform=\"translate(554.083,152.945)\"><circle r=\"3.0\"></circle></g><g id=\"node-7\" transform=\"translate(565.717,152.945)\"><circle r=\"3.0\"></circle></g><g id=\"node-8\" transform=\"translate(490.100,121.203)\"><circle r=\"3.0\"></circle></g><g id=\"node-9\" transform=\"translate(498.825,90.972)\"><circle r=\"3.0\"></circle></g><g id=\"node-10\" transform=\"translate(536.633,83.931)\"><circle r=\"3.0\"></circle></g><g id=\"node-11\" transform=\"translate(559.900,91.701)\"><circle r=\"3.0\"></circle></g><g id=\"node-12\" transform=\"translate(509.004,60.745)\"><circle r=\"3.0\"></circle></g><g id=\"node-13\" transform=\"translate(548.267,61.042)\"><circle r=\"3.0\"></circle></g><g id=\"node-14\" transform=\"translate(528.635,29.921)\"><circle r=\"3.0\"></circle></g></g><g class=\"toytree-NodeLabels\" style=\"fill:rgb(14.9%,14.9%,14.9%);fill-opacity:1.0;font-size:9px;stroke:none\"><g transform=\"translate(481.78,155.24)\"><text>0</text></g><g transform=\"translate(493.41,155.24)\"><text>1</text></g><g transform=\"translate(505.05,155.24)\"><text>2</text></g><g transform=\"translate(516.68,155.24)\"><text>3</text></g><g transform=\"translate(528.31,155.24)\"><text>4</text></g><g transform=\"translate(539.95,155.24)\"><text>5</text></g><g transform=\"translate(551.58,155.24)\"><text>6</text></g><g transform=\"translate(563.21,155.24)\"><text>7</text></g><g transform=\"translate(487.60,123.50)\"><text>8</text></g><g transform=\"translate(496.32,93.27)\"><text>9</text></g><g transform=\"translate(531.63,86.23)\"><text>10</text></g><g transform=\"translate(554.90,94.00)\"><text>11</text></g><g transform=\"translate(504.00,63.04)\"><text>12</text></g><g transform=\"translate(543.26,63.34)\"><text>13</text></g><g transform=\"translate(523.63,32.22)\"><text>14</text></g></g><g class=\"toytree-TipLabels\" style=\"fill:rgb(14.9%,14.9%,14.9%);fill-opacity:1.0;font-family:helvetica;font-size:9px;font-weight:normal;stroke:none;white-space:pre\"><g transform=\"translate(484.28,152.95)rotate(-90)\"><text x=\"-18.00\" y=\"2.30\" style=\"\">r5</text></g><g transform=\"translate(495.92,152.95)rotate(-90)\"><text x=\"-18.00\" y=\"2.30\" style=\"\">r4</text></g><g transform=\"translate(507.55,152.95)rotate(-90)\"><text x=\"-18.00\" y=\"2.30\" style=\"\">r6</text></g><g transform=\"translate(519.18,152.95)rotate(-90)\"><text x=\"-18.00\" y=\"2.30\" style=\"\">r7</text></g><g transform=\"translate(530.82,152.95)rotate(-90)\"><text x=\"-18.00\" y=\"2.30\" style=\"\">r3</text></g><g transform=\"translate(542.45,152.95)rotate(-90)\"><text x=\"-18.00\" y=\"2.30\" style=\"\">r2</text></g><g transform=\"translate(554.08,152.95)rotate(-90)\"><text x=\"-18.00\" y=\"2.30\" style=\"\">r1</text></g><g transform=\"translate(565.72,152.95)rotate(-90)\"><text x=\"-18.00\" y=\"2.30\" style=\"\">r0</text></g></g></g></g></g></svg><div class=\"toyplot-behavior\"><script>(function()\n",
       "{\n",
       "var modules={};\n",
       "})();</script></div></div>"
      ]
     },
     "metadata": {},
     "output_type": "display_data"
    },
    {
     "data": {
      "text/html": [
       "<div class=\"toyplot\" id=\"t2f104c514afd4e2a80ab72a3c2507ac4\" style=\"text-align:center\"><svg class=\"toyplot-canvas-Canvas\" xmlns:toyplot=\"http://www.sandia.gov/toyplot\" xmlns:xlink=\"http://www.w3.org/1999/xlink\" xmlns=\"http://www.w3.org/2000/svg\" width=\"600.0px\" height=\"200.0px\" viewBox=\"0 0 600.0 200.0\" preserveAspectRatio=\"xMidYMid meet\" style=\"background-color:transparent;border-color:#292724;border-style:none;border-width:1.0;fill:rgb(16.1%,15.3%,14.1%);fill-opacity:1.0;font-family:Helvetica;font-size:12px;opacity:1.0;stroke:rgb(16.1%,15.3%,14.1%);stroke-opacity:1.0;stroke-width:1.0\" id=\"t0ef4c20422b2488dbafda9b0e792952f\"><g class=\"toyplot-coordinates-Cartesian\" id=\"td879238cc1ff4513b4c839f93cae3dc8\"><clipPath id=\"t75fe520bfe5843108bbc08265274460e\"><rect x=\"15.0\" y=\"15.0\" width=\"120.0\" height=\"170.0\"></rect></clipPath><g clip-path=\"url(#t75fe520bfe5843108bbc08265274460e)\"><g class=\"toytree-mark-Toytree\" id=\"td49804ca1feb42c582871ed938a2beb8\"><g class=\"toytree-Edges\" style=\"fill:none;stroke:rgb(14.9%,14.9%,14.9%);stroke-linecap:round;stroke-opacity:1;stroke-width:2\"><path d=\"M 94.6 29.9 L 109.9 130.6\" id=\"14,13\"></path><path d=\"M 94.6 29.9 L 79.4 30.8\" id=\"14,12\"></path><path d=\"M 79.4 30.8 L 66.3 68.0\" id=\"12,11\"></path><path d=\"M 66.3 68.0 L 51.7 84.4\" id=\"11,10\"></path><path d=\"M 51.7 84.4 L 63.4 87.2\" id=\"10,9\"></path><path d=\"M 51.7 84.4 L 40.1 87.0\" id=\"10,8\"></path><path d=\"M 109.9 130.6 L 115.7 152.9\" id=\"13,7\"></path><path d=\"M 109.9 130.6 L 104.1 152.9\" id=\"13,6\"></path><path d=\"M 79.4 30.8 L 92.4 152.9\" id=\"12,5\"></path><path d=\"M 66.3 68.0 L 80.8 152.9\" id=\"11,4\"></path><path d=\"M 63.4 87.2 L 69.2 152.9\" id=\"9,3\"></path><path d=\"M 63.4 87.2 L 57.6 152.9\" id=\"9,2\"></path><path d=\"M 40.1 87.0 L 45.9 152.9\" id=\"8,1\"></path><path d=\"M 40.1 87.0 L 34.3 152.9\" id=\"8,0\"></path></g><g class=\"toytree-Nodes\" style=\"fill:rgb(40%,76.1%,64.7%);fill-opacity:1.0;stroke:rgb(14.9%,14.9%,14.9%);stroke-opacity:1.0;stroke-width:1\"><g id=\"node-0\" transform=\"translate(34.283,152.945)\"><circle r=\"3.0\"></circle></g><g id=\"node-1\" transform=\"translate(45.917,152.945)\"><circle r=\"3.0\"></circle></g><g id=\"node-2\" transform=\"translate(57.550,152.945)\"><circle r=\"3.0\"></circle></g><g id=\"node-3\" transform=\"translate(69.183,152.945)\"><circle r=\"3.0\"></circle></g><g id=\"node-4\" transform=\"translate(80.817,152.945)\"><circle r=\"3.0\"></circle></g><g id=\"node-5\" transform=\"translate(92.450,152.945)\"><circle r=\"3.0\"></circle></g><g id=\"node-6\" transform=\"translate(104.083,152.945)\"><circle r=\"3.0\"></circle></g><g id=\"node-7\" transform=\"translate(115.717,152.945)\"><circle r=\"3.0\"></circle></g><g id=\"node-8\" transform=\"translate(40.100,87.013)\"><circle r=\"3.0\"></circle></g><g id=\"node-9\" transform=\"translate(63.367,87.227)\"><circle r=\"3.0\"></circle></g><g id=\"node-10\" transform=\"translate(51.733,84.370)\"><circle r=\"3.0\"></circle></g><g id=\"node-11\" transform=\"translate(66.275,67.967)\"><circle r=\"3.0\"></circle></g><g id=\"node-12\" transform=\"translate(79.362,30.760)\"><circle r=\"3.0\"></circle></g><g id=\"node-13\" transform=\"translate(109.900,130.574)\"><circle r=\"3.0\"></circle></g><g id=\"node-14\" transform=\"translate(94.631,29.921)\"><circle r=\"3.0\"></circle></g></g><g class=\"toytree-NodeLabels\" style=\"fill:rgb(14.9%,14.9%,14.9%);fill-opacity:1.0;font-size:9px;stroke:none\"><g transform=\"translate(31.78,155.24)\"><text>0</text></g><g transform=\"translate(43.41,155.24)\"><text>1</text></g><g transform=\"translate(55.05,155.24)\"><text>2</text></g><g transform=\"translate(66.68,155.24)\"><text>3</text></g><g transform=\"translate(78.31,155.24)\"><text>4</text></g><g transform=\"translate(89.95,155.24)\"><text>5</text></g><g transform=\"translate(101.58,155.24)\"><text>6</text></g><g transform=\"translate(113.21,155.24)\"><text>7</text></g><g transform=\"translate(37.60,89.31)\"><text>8</text></g><g transform=\"translate(60.86,89.53)\"><text>9</text></g><g transform=\"translate(46.73,86.67)\"><text>10</text></g><g transform=\"translate(61.27,70.27)\"><text>11</text></g><g transform=\"translate(74.36,33.06)\"><text>12</text></g><g transform=\"translate(104.90,132.87)\"><text>13</text></g><g transform=\"translate(89.63,32.22)\"><text>14</text></g></g><g class=\"toytree-TipLabels\" style=\"fill:rgb(14.9%,14.9%,14.9%);fill-opacity:1.0;font-family:helvetica;font-size:9px;font-weight:normal;stroke:none;white-space:pre\"><g transform=\"translate(34.28,152.95)rotate(-90)\"><text x=\"-18.00\" y=\"2.30\" style=\"\">r6</text></g><g transform=\"translate(45.92,152.95)rotate(-90)\"><text x=\"-18.00\" y=\"2.30\" style=\"\">r3</text></g><g transform=\"translate(57.55,152.95)rotate(-90)\"><text x=\"-18.00\" y=\"2.30\" style=\"\">r7</text></g><g transform=\"translate(69.18,152.95)rotate(-90)\"><text x=\"-18.00\" y=\"2.30\" style=\"\">r2</text></g><g transform=\"translate(80.82,152.95)rotate(-90)\"><text x=\"-18.00\" y=\"2.30\" style=\"\">r1</text></g><g transform=\"translate(92.45,152.95)rotate(-90)\"><text x=\"-18.00\" y=\"2.30\" style=\"\">r0</text></g><g transform=\"translate(104.08,152.95)rotate(-90)\"><text x=\"-18.00\" y=\"2.30\" style=\"\">r5</text></g><g transform=\"translate(115.72,152.95)rotate(-90)\"><text x=\"-18.00\" y=\"2.30\" style=\"\">r4</text></g></g></g></g></g><g class=\"toyplot-coordinates-Cartesian\" id=\"t143d4420948545bfa79efdb7d846a910\"><clipPath id=\"tc85931facfd5413389f3aa1f5c7ee80a\"><rect x=\"165.0\" y=\"15.0\" width=\"120.0\" height=\"170.0\"></rect></clipPath><g clip-path=\"url(#tc85931facfd5413389f3aa1f5c7ee80a)\"><g class=\"toytree-mark-Toytree\" id=\"tc8015b899841461ab965cfdc3e5109b9\"><g class=\"toytree-Edges\" style=\"fill:none;stroke:rgb(14.9%,14.9%,14.9%);stroke-linecap:round;stroke-opacity:1;stroke-width:2\"><path d=\"M 238.1 29.9 L 259.9 108.3\" id=\"14,13\"></path><path d=\"M 238.1 29.9 L 216.3 132.5\" id=\"14,12\"></path><path d=\"M 216.3 132.5 L 233.7 135.6\" id=\"12,11\"></path><path d=\"M 216.3 132.5 L 198.8 134.7\" id=\"12,10\"></path><path d=\"M 233.7 135.6 L 225.0 138.3\" id=\"11,9\"></path><path d=\"M 198.8 134.7 L 190.1 137.8\" id=\"10,8\"></path><path d=\"M 259.9 108.3 L 265.7 152.9\" id=\"13,7\"></path><path d=\"M 259.9 108.3 L 254.1 152.9\" id=\"13,6\"></path><path d=\"M 233.7 135.6 L 242.4 152.9\" id=\"11,5\"></path><path d=\"M 225.0 138.3 L 230.8 152.9\" id=\"9,4\"></path><path d=\"M 225.0 138.3 L 219.2 152.9\" id=\"9,3\"></path><path d=\"M 198.8 134.7 L 207.6 152.9\" id=\"10,2\"></path><path d=\"M 190.1 137.8 L 195.9 152.9\" id=\"8,1\"></path><path d=\"M 190.1 137.8 L 184.3 152.9\" id=\"8,0\"></path></g><g class=\"toytree-Nodes\" style=\"fill:rgb(40%,76.1%,64.7%);fill-opacity:1.0;stroke:rgb(14.9%,14.9%,14.9%);stroke-opacity:1.0;stroke-width:1\"><g id=\"node-0\" transform=\"translate(184.283,152.945)\"><circle r=\"3.0\"></circle></g><g id=\"node-1\" transform=\"translate(195.917,152.945)\"><circle r=\"3.0\"></circle></g><g id=\"node-2\" transform=\"translate(207.550,152.945)\"><circle r=\"3.0\"></circle></g><g id=\"node-3\" transform=\"translate(219.183,152.945)\"><circle r=\"3.0\"></circle></g><g id=\"node-4\" transform=\"translate(230.817,152.945)\"><circle r=\"3.0\"></circle></g><g id=\"node-5\" transform=\"translate(242.450,152.945)\"><circle r=\"3.0\"></circle></g><g id=\"node-6\" transform=\"translate(254.083,152.945)\"><circle r=\"3.0\"></circle></g><g id=\"node-7\" transform=\"translate(265.717,152.945)\"><circle r=\"3.0\"></circle></g><g id=\"node-8\" transform=\"translate(190.100,137.839)\"><circle r=\"3.0\"></circle></g><g id=\"node-9\" transform=\"translate(225.000,138.320)\"><circle r=\"3.0\"></circle></g><g id=\"node-10\" transform=\"translate(198.825,134.740)\"><circle r=\"3.0\"></circle></g><g id=\"node-11\" transform=\"translate(233.725,135.649)\"><circle r=\"3.0\"></circle></g><g id=\"node-12\" transform=\"translate(216.275,132.517)\"><circle r=\"3.0\"></circle></g><g id=\"node-13\" transform=\"translate(259.900,108.310)\"><circle r=\"3.0\"></circle></g><g id=\"node-14\" transform=\"translate(238.087,29.921)\"><circle r=\"3.0\"></circle></g></g><g class=\"toytree-NodeLabels\" style=\"fill:rgb(14.9%,14.9%,14.9%);fill-opacity:1.0;font-size:9px;stroke:none\"><g transform=\"translate(181.78,155.24)\"><text>0</text></g><g transform=\"translate(193.41,155.24)\"><text>1</text></g><g transform=\"translate(205.05,155.24)\"><text>2</text></g><g transform=\"translate(216.68,155.24)\"><text>3</text></g><g transform=\"translate(228.31,155.24)\"><text>4</text></g><g transform=\"translate(239.95,155.24)\"><text>5</text></g><g transform=\"translate(251.58,155.24)\"><text>6</text></g><g transform=\"translate(263.21,155.24)\"><text>7</text></g><g transform=\"translate(187.60,140.14)\"><text>8</text></g><g transform=\"translate(222.50,140.62)\"><text>9</text></g><g transform=\"translate(193.82,137.04)\"><text>10</text></g><g transform=\"translate(228.72,137.95)\"><text>11</text></g><g transform=\"translate(211.27,134.82)\"><text>12</text></g><g transform=\"translate(254.90,110.61)\"><text>13</text></g><g transform=\"translate(233.08,32.22)\"><text>14</text></g></g><g class=\"toytree-TipLabels\" style=\"fill:rgb(14.9%,14.9%,14.9%);fill-opacity:1.0;font-family:helvetica;font-size:9px;font-weight:normal;stroke:none;white-space:pre\"><g transform=\"translate(184.28,152.95)rotate(-90)\"><text x=\"-18.00\" y=\"2.30\" style=\"\">r4</text></g><g transform=\"translate(195.92,152.95)rotate(-90)\"><text x=\"-18.00\" y=\"2.30\" style=\"\">r3</text></g><g transform=\"translate(207.55,152.95)rotate(-90)\"><text x=\"-18.00\" y=\"2.30\" style=\"\">r0</text></g><g transform=\"translate(219.18,152.95)rotate(-90)\"><text x=\"-18.00\" y=\"2.30\" style=\"\">r6</text></g><g transform=\"translate(230.82,152.95)rotate(-90)\"><text x=\"-18.00\" y=\"2.30\" style=\"\">r5</text></g><g transform=\"translate(242.45,152.95)rotate(-90)\"><text x=\"-18.00\" y=\"2.30\" style=\"\">r1</text></g><g transform=\"translate(254.08,152.95)rotate(-90)\"><text x=\"-18.00\" y=\"2.30\" style=\"\">r7</text></g><g transform=\"translate(265.72,152.95)rotate(-90)\"><text x=\"-18.00\" y=\"2.30\" style=\"\">r2</text></g></g></g></g></g><g class=\"toyplot-coordinates-Cartesian\" id=\"t038564161e154ff6a60e871a7909314a\"><clipPath id=\"tfc1361deb4fe4422887d4b238e50bdcc\"><rect x=\"315.0\" y=\"15.0\" width=\"120.0\" height=\"170.0\"></rect></clipPath><g clip-path=\"url(#tfc1361deb4fe4422887d4b238e50bdcc)\"><g class=\"toytree-mark-Toytree\" id=\"tf53cd1322d9b4b09a35ab7b9ff2941e0\"><g class=\"toytree-Edges\" style=\"fill:none;stroke:rgb(14.9%,14.9%,14.9%);stroke-linecap:round;stroke-opacity:1;stroke-width:2\"><path d=\"M 396.4 29.9 L 377.2 33.3\" id=\"14,13\"></path><path d=\"M 377.2 33.3 L 395.4 82.9\" id=\"13,12\"></path><path d=\"M 377.2 33.3 L 359.0 118.5\" id=\"13,11\"></path><path d=\"M 395.4 82.9 L 386.6 118.0\" id=\"12,10\"></path><path d=\"M 359.0 118.5 L 348.8 118.8\" id=\"11,9\"></path><path d=\"M 348.8 118.8 L 340.1 129.0\" id=\"9,8\"></path><path d=\"M 396.4 29.9 L 415.7 152.9\" id=\"14,7\"></path><path d=\"M 395.4 82.9 L 404.1 152.9\" id=\"12,6\"></path><path d=\"M 386.6 118.0 L 392.4 152.9\" id=\"10,5\"></path><path d=\"M 386.6 118.0 L 380.8 152.9\" id=\"10,4\"></path><path d=\"M 359.0 118.5 L 369.2 152.9\" id=\"11,3\"></path><path d=\"M 348.8 118.8 L 357.6 152.9\" id=\"9,2\"></path><path d=\"M 340.1 129.0 L 345.9 152.9\" id=\"8,1\"></path><path d=\"M 340.1 129.0 L 334.3 152.9\" id=\"8,0\"></path></g><g class=\"toytree-Nodes\" style=\"fill:rgb(40%,76.1%,64.7%);fill-opacity:1.0;stroke:rgb(14.9%,14.9%,14.9%);stroke-opacity:1.0;stroke-width:1\"><g id=\"node-0\" transform=\"translate(334.283,152.945)\"><circle r=\"3.0\"></circle></g><g id=\"node-1\" transform=\"translate(345.917,152.945)\"><circle r=\"3.0\"></circle></g><g id=\"node-2\" transform=\"translate(357.550,152.945)\"><circle r=\"3.0\"></circle></g><g id=\"node-3\" transform=\"translate(369.183,152.945)\"><circle r=\"3.0\"></circle></g><g id=\"node-4\" transform=\"translate(380.817,152.945)\"><circle r=\"3.0\"></circle></g><g id=\"node-5\" transform=\"translate(392.450,152.945)\"><circle r=\"3.0\"></circle></g><g id=\"node-6\" transform=\"translate(404.083,152.945)\"><circle r=\"3.0\"></circle></g><g id=\"node-7\" transform=\"translate(415.717,152.945)\"><circle r=\"3.0\"></circle></g><g id=\"node-8\" transform=\"translate(340.100,128.987)\"><circle r=\"3.0\"></circle></g><g id=\"node-9\" transform=\"translate(348.825,118.767)\"><circle r=\"3.0\"></circle></g><g id=\"node-10\" transform=\"translate(386.633,117.990)\"><circle r=\"3.0\"></circle></g><g id=\"node-11\" transform=\"translate(359.004,118.458)\"><circle r=\"3.0\"></circle></g><g id=\"node-12\" transform=\"translate(395.358,82.940)\"><circle r=\"3.0\"></circle></g><g id=\"node-13\" transform=\"translate(377.181,33.255)\"><circle r=\"3.0\"></circle></g><g id=\"node-14\" transform=\"translate(396.449,29.921)\"><circle r=\"3.0\"></circle></g></g><g class=\"toytree-NodeLabels\" style=\"fill:rgb(14.9%,14.9%,14.9%);fill-opacity:1.0;font-size:9px;stroke:none\"><g transform=\"translate(331.78,155.24)\"><text>0</text></g><g transform=\"translate(343.41,155.24)\"><text>1</text></g><g transform=\"translate(355.05,155.24)\"><text>2</text></g><g transform=\"translate(366.68,155.24)\"><text>3</text></g><g transform=\"translate(378.31,155.24)\"><text>4</text></g><g transform=\"translate(389.95,155.24)\"><text>5</text></g><g transform=\"translate(401.58,155.24)\"><text>6</text></g><g transform=\"translate(413.21,155.24)\"><text>7</text></g><g transform=\"translate(337.60,131.29)\"><text>8</text></g><g transform=\"translate(346.32,121.07)\"><text>9</text></g><g transform=\"translate(381.63,120.29)\"><text>10</text></g><g transform=\"translate(354.00,120.76)\"><text>11</text></g><g transform=\"translate(390.35,85.24)\"><text>12</text></g><g transform=\"translate(372.18,35.55)\"><text>13</text></g><g transform=\"translate(391.44,32.22)\"><text>14</text></g></g><g class=\"toytree-TipLabels\" style=\"fill:rgb(14.9%,14.9%,14.9%);fill-opacity:1.0;font-family:helvetica;font-size:9px;font-weight:normal;stroke:none;white-space:pre\"><g transform=\"translate(334.28,152.95)rotate(-90)\"><text x=\"-18.00\" y=\"2.30\" style=\"\">r2</text></g><g transform=\"translate(345.92,152.95)rotate(-90)\"><text x=\"-18.00\" y=\"2.30\" style=\"\">r0</text></g><g transform=\"translate(357.55,152.95)rotate(-90)\"><text x=\"-18.00\" y=\"2.30\" style=\"\">r4</text></g><g transform=\"translate(369.18,152.95)rotate(-90)\"><text x=\"-18.00\" y=\"2.30\" style=\"\">r3</text></g><g transform=\"translate(380.82,152.95)rotate(-90)\"><text x=\"-18.00\" y=\"2.30\" style=\"\">r6</text></g><g transform=\"translate(392.45,152.95)rotate(-90)\"><text x=\"-18.00\" y=\"2.30\" style=\"\">r5</text></g><g transform=\"translate(404.08,152.95)rotate(-90)\"><text x=\"-18.00\" y=\"2.30\" style=\"\">r7</text></g><g transform=\"translate(415.72,152.95)rotate(-90)\"><text x=\"-18.00\" y=\"2.30\" style=\"\">r1</text></g></g></g></g></g><g class=\"toyplot-coordinates-Cartesian\" id=\"td4c655bf4d0e441fb20ffae7958dfd10\"><clipPath id=\"t020b6727da944306901c4cb6f988d196\"><rect x=\"465.0\" y=\"15.0\" width=\"120.0\" height=\"170.0\"></rect></clipPath><g clip-path=\"url(#t020b6727da944306901c4cb6f988d196)\"><g class=\"toytree-mark-Toytree\" id=\"t4cba7005218b420a91724b56a8fcd4a8\"><g class=\"toytree-Edges\" style=\"fill:none;stroke:rgb(14.9%,14.9%,14.9%);stroke-linecap:round;stroke-opacity:1;stroke-width:2\"><path d=\"M 534.5 29.9 L 557.0 48.4\" id=\"14,13\"></path><path d=\"M 534.5 29.9 L 511.9 92.9\" id=\"14,12\"></path><path d=\"M 557.0 48.4 L 548.3 106.0\" id=\"13,11\"></path><path d=\"M 511.9 92.9 L 525.0 106.9\" id=\"12,10\"></path><path d=\"M 511.9 92.9 L 498.8 108.4\" id=\"12,9\"></path><path d=\"M 498.8 108.4 L 490.1 116.1\" id=\"9,8\"></path><path d=\"M 557.0 48.4 L 565.7 152.9\" id=\"13,7\"></path><path d=\"M 548.3 106.0 L 554.1 152.9\" id=\"11,6\"></path><path d=\"M 548.3 106.0 L 542.4 152.9\" id=\"11,5\"></path><path d=\"M 525.0 106.9 L 530.8 152.9\" id=\"10,4\"></path><path d=\"M 525.0 106.9 L 519.2 152.9\" id=\"10,3\"></path><path d=\"M 498.8 108.4 L 507.6 152.9\" id=\"9,2\"></path><path d=\"M 490.1 116.1 L 495.9 152.9\" id=\"8,1\"></path><path d=\"M 490.1 116.1 L 484.3 152.9\" id=\"8,0\"></path></g><g class=\"toytree-Nodes\" style=\"fill:rgb(40%,76.1%,64.7%);fill-opacity:1.0;stroke:rgb(14.9%,14.9%,14.9%);stroke-opacity:1.0;stroke-width:1\"><g id=\"node-0\" transform=\"translate(484.283,152.945)\"><circle r=\"3.0\"></circle></g><g id=\"node-1\" transform=\"translate(495.917,152.945)\"><circle r=\"3.0\"></circle></g><g id=\"node-2\" transform=\"translate(507.550,152.945)\"><circle r=\"3.0\"></circle></g><g id=\"node-3\" transform=\"translate(519.183,152.945)\"><circle r=\"3.0\"></circle></g><g id=\"node-4\" transform=\"translate(530.817,152.945)\"><circle r=\"3.0\"></circle></g><g id=\"node-5\" transform=\"translate(542.450,152.945)\"><circle r=\"3.0\"></circle></g><g id=\"node-6\" transform=\"translate(554.083,152.945)\"><circle r=\"3.0\"></circle></g><g id=\"node-7\" transform=\"translate(565.717,152.945)\"><circle r=\"3.0\"></circle></g><g id=\"node-8\" transform=\"translate(490.100,116.054)\"><circle r=\"3.0\"></circle></g><g id=\"node-9\" transform=\"translate(498.825,108.410)\"><circle r=\"3.0\"></circle></g><g id=\"node-10\" transform=\"translate(525.000,106.881)\"><circle r=\"3.0\"></circle></g><g id=\"node-11\" transform=\"translate(548.267,106.013)\"><circle r=\"3.0\"></circle></g><g id=\"node-12\" transform=\"translate(511.913,92.908)\"><circle r=\"3.0\"></circle></g><g id=\"node-13\" transform=\"translate(556.992,48.411)\"><circle r=\"3.0\"></circle></g><g id=\"node-14\" transform=\"translate(534.452,29.921)\"><circle r=\"3.0\"></circle></g></g><g class=\"toytree-NodeLabels\" style=\"fill:rgb(14.9%,14.9%,14.9%);fill-opacity:1.0;font-size:9px;stroke:none\"><g transform=\"translate(481.78,155.24)\"><text>0</text></g><g transform=\"translate(493.41,155.24)\"><text>1</text></g><g transform=\"translate(505.05,155.24)\"><text>2</text></g><g transform=\"translate(516.68,155.24)\"><text>3</text></g><g transform=\"translate(528.31,155.24)\"><text>4</text></g><g transform=\"translate(539.95,155.24)\"><text>5</text></g><g transform=\"translate(551.58,155.24)\"><text>6</text></g><g transform=\"translate(563.21,155.24)\"><text>7</text></g><g transform=\"translate(487.60,118.35)\"><text>8</text></g><g transform=\"translate(496.32,110.71)\"><text>9</text></g><g transform=\"translate(520.00,109.18)\"><text>10</text></g><g transform=\"translate(543.26,108.31)\"><text>11</text></g><g transform=\"translate(506.91,95.21)\"><text>12</text></g><g transform=\"translate(551.99,50.71)\"><text>13</text></g><g transform=\"translate(529.45,32.22)\"><text>14</text></g></g><g class=\"toytree-TipLabels\" style=\"fill:rgb(14.9%,14.9%,14.9%);fill-opacity:1.0;font-family:helvetica;font-size:9px;font-weight:normal;stroke:none;white-space:pre\"><g transform=\"translate(484.28,152.95)rotate(-90)\"><text x=\"-18.00\" y=\"2.30\" style=\"\">r3</text></g><g transform=\"translate(495.92,152.95)rotate(-90)\"><text x=\"-18.00\" y=\"2.30\" style=\"\">r0</text></g><g transform=\"translate(507.55,152.95)rotate(-90)\"><text x=\"-18.00\" y=\"2.30\" style=\"\">r4</text></g><g transform=\"translate(519.18,152.95)rotate(-90)\"><text x=\"-18.00\" y=\"2.30\" style=\"\">r6</text></g><g transform=\"translate(530.82,152.95)rotate(-90)\"><text x=\"-18.00\" y=\"2.30\" style=\"\">r5</text></g><g transform=\"translate(542.45,152.95)rotate(-90)\"><text x=\"-18.00\" y=\"2.30\" style=\"\">r7</text></g><g transform=\"translate(554.08,152.95)rotate(-90)\"><text x=\"-18.00\" y=\"2.30\" style=\"\">r1</text></g><g transform=\"translate(565.72,152.95)rotate(-90)\"><text x=\"-18.00\" y=\"2.30\" style=\"\">r2</text></g></g></g></g></g></svg><div class=\"toyplot-behavior\"><script>(function()\n",
       "{\n",
       "var modules={};\n",
       "})();</script></div></div>"
      ]
     },
     "metadata": {},
     "output_type": "display_data"
    }
   ],
   "source": [
    "#create two models\n",
    "model1 = ipcoal.Model(tree=tree1, Ne=1e4)\n",
    "model2 = ipcoal.Model(tree=tree1, Ne=1e6)\n",
    "\n",
    "# simulate n genealogies for each model\n",
    "model1.sim_trees(10)\n",
    "model2.sim_trees(10)\n",
    "\n",
    "#draw the species tree\n",
    "tree1.draw(tree_style='p')\n",
    "# draw a grid of trees from model 1\n",
    "toytree.mtree(model1.df.genealogy).draw(**kwargs);\n",
    "# draw a grid of trees from model 2\n",
    "toytree.mtree(model2.df.genealogy).draw(**kwargs);"
   ]
  },
  {
   "cell_type": "markdown",
   "id": "9d6d819c",
   "metadata": {},
   "source": [
    "### Mutation Rate\n",
    "\n",
    "Now do the same thing for mutation rate. What happens when mutation rate is a lot higher? A lot lower?\n",
    "\n",
    "I've put Ne here so you can test how mutation rate and Ne work together to determine ILS. Does one seem to play a bigger role? Which? Record your observations below. "
   ]
  },
  {
   "cell_type": "code",
   "execution_count": 19,
   "id": "49229c37",
   "metadata": {},
   "outputs": [
    {
     "name": "stdout",
     "output_type": "stream",
     "text": [
      "unrecognized arguments skipped: ['shared_axis']\n",
      "check the docs, argument names may have changed.\n",
      "unrecognized arguments skipped: ['shared_axis']\n",
      "check the docs, argument names may have changed.\n",
      "unrecognized arguments skipped: ['shared_axis']\n",
      "check the docs, argument names may have changed.\n",
      "unrecognized arguments skipped: ['shared_axis']\n",
      "check the docs, argument names may have changed.\n",
      "unrecognized arguments skipped: ['shared_axis']\n",
      "check the docs, argument names may have changed.\n",
      "unrecognized arguments skipped: ['shared_axis']\n",
      "check the docs, argument names may have changed.\n",
      "unrecognized arguments skipped: ['shared_axis']\n",
      "check the docs, argument names may have changed.\n",
      "unrecognized arguments skipped: ['shared_axis']\n",
      "check the docs, argument names may have changed.\n"
     ]
    },
    {
     "data": {
      "text/html": [
       "<div class=\"toyplot\" id=\"t6fd80f94096f44b5b9ea65c37649d45a\" style=\"text-align:center\"><svg class=\"toyplot-canvas-Canvas\" xmlns:toyplot=\"http://www.sandia.gov/toyplot\" xmlns:xlink=\"http://www.w3.org/1999/xlink\" xmlns=\"http://www.w3.org/2000/svg\" width=\"350.0px\" height=\"260.0px\" viewBox=\"0 0 350.0 260.0\" preserveAspectRatio=\"xMidYMid meet\" style=\"background-color:transparent;border-color:#292724;border-style:none;border-width:1.0;fill:rgb(16.1%,15.3%,14.1%);fill-opacity:1.0;font-family:Helvetica;font-size:12px;opacity:1.0;stroke:rgb(16.1%,15.3%,14.1%);stroke-opacity:1.0;stroke-width:1.0\" id=\"t4c632c83d13548d2ab4e362b7b8a1fa5\"><g class=\"toyplot-coordinates-Cartesian\" id=\"t46018b5ad1c8410ebde47e803825b464\"><clipPath id=\"t274547b16e834a05a83e9d8402ab52a2\"><rect x=\"30.0\" y=\"30.0\" width=\"290.0\" height=\"200.0\"></rect></clipPath><g clip-path=\"url(#t274547b16e834a05a83e9d8402ab52a2)\"><g class=\"toytree-mark-Toytree\" id=\"t4c5a50dc52a945fb91010e8aaa7aff88\"><g class=\"toytree-Edges\" style=\"fill:none;stroke:rgb(14.9%,14.9%,14.9%);stroke-linecap:round;stroke-opacity:1;stroke-width:2\"><path d=\"M 185.0 61.5 L 258.7 92.2\" id=\"14,13\"></path><path d=\"M 185.0 61.5 L 111.2 92.2\" id=\"14,12\"></path><path d=\"M 258.7 92.2 L 230.8 122.8\" id=\"13,11\"></path><path d=\"M 111.2 92.2 L 143.1 122.8\" id=\"12,10\"></path><path d=\"M 111.2 92.2 L 79.3 122.8\" id=\"12,9\"></path><path d=\"M 230.8 122.8 L 206.9 153.5\" id=\"11,8\"></path><path d=\"M 258.7 92.2 L 286.6 184.2\" id=\"13,7\"></path><path d=\"M 230.8 122.8 L 254.7 184.2\" id=\"11,6\"></path><path d=\"M 206.9 153.5 L 222.8 184.2\" id=\"8,5\"></path><path d=\"M 206.9 153.5 L 190.9 184.2\" id=\"8,4\"></path><path d=\"M 143.1 122.8 L 159.1 184.2\" id=\"10,3\"></path><path d=\"M 143.1 122.8 L 127.2 184.2\" id=\"10,2\"></path><path d=\"M 79.3 122.8 L 95.3 184.2\" id=\"9,1\"></path><path d=\"M 79.3 122.8 L 63.4 184.2\" id=\"9,0\"></path></g><g class=\"toytree-Nodes\" style=\"fill:rgb(40%,76.1%,64.7%);fill-opacity:1.0;stroke:rgb(14.9%,14.9%,14.9%);stroke-opacity:1.0;stroke-width:1\"><g id=\"node-0\" transform=\"translate(63.393,184.184)\"><circle r=\"7.5\"></circle></g><g id=\"node-1\" transform=\"translate(95.281,184.184)\"><circle r=\"7.5\"></circle></g><g id=\"node-2\" transform=\"translate(127.168,184.184)\"><circle r=\"7.5\"></circle></g><g id=\"node-3\" transform=\"translate(159.056,184.184)\"><circle r=\"7.5\"></circle></g><g id=\"node-4\" transform=\"translate(190.944,184.184)\"><circle r=\"7.5\"></circle></g><g id=\"node-5\" transform=\"translate(222.832,184.184)\"><circle r=\"7.5\"></circle></g><g id=\"node-6\" transform=\"translate(254.719,184.184)\"><circle r=\"7.5\"></circle></g><g id=\"node-7\" transform=\"translate(286.607,184.184)\"><circle r=\"7.5\"></circle></g><g id=\"node-8\" transform=\"translate(206.888,153.513)\"><circle r=\"7.5\"></circle></g><g id=\"node-9\" transform=\"translate(79.337,122.843)\"><circle r=\"7.5\"></circle></g><g id=\"node-10\" transform=\"translate(143.112,122.843)\"><circle r=\"7.5\"></circle></g><g id=\"node-11\" transform=\"translate(230.804,122.843)\"><circle r=\"7.5\"></circle></g><g id=\"node-12\" transform=\"translate(111.224,92.172)\"><circle r=\"7.5\"></circle></g><g id=\"node-13\" transform=\"translate(258.705,92.172)\"><circle r=\"7.5\"></circle></g><g id=\"node-14\" transform=\"translate(184.965,61.501)\"><circle r=\"7.5\"></circle></g></g><g class=\"toytree-NodeLabels\" style=\"fill:rgb(14.9%,14.9%,14.9%);fill-opacity:1.0;font-size:9px;stroke:none\"><g transform=\"translate(60.89,186.48)\"><text>0</text></g><g transform=\"translate(92.78,186.48)\"><text>1</text></g><g transform=\"translate(124.67,186.48)\"><text>2</text></g><g transform=\"translate(156.55,186.48)\"><text>3</text></g><g transform=\"translate(188.44,186.48)\"><text>4</text></g><g transform=\"translate(220.33,186.48)\"><text>5</text></g><g transform=\"translate(252.22,186.48)\"><text>6</text></g><g transform=\"translate(284.11,186.48)\"><text>7</text></g><g transform=\"translate(204.39,155.81)\"><text>8</text></g><g transform=\"translate(76.83,125.14)\"><text>9</text></g><g transform=\"translate(138.11,125.14)\"><text>10</text></g><g transform=\"translate(225.80,125.14)\"><text>11</text></g><g transform=\"translate(106.22,94.47)\"><text>12</text></g><g transform=\"translate(253.70,94.47)\"><text>13</text></g><g transform=\"translate(179.96,63.80)\"><text>14</text></g></g><g class=\"toytree-TipLabels\" style=\"fill:rgb(14.9%,14.9%,14.9%);fill-opacity:1.0;font-family:helvetica;font-size:11px;font-weight:normal;stroke:none;white-space:pre\"><g transform=\"translate(63.39,184.18)rotate(-90)\"><text x=\"-24.78\" y=\"2.81\" style=\"\">r0</text></g><g transform=\"translate(95.28,184.18)rotate(-90)\"><text x=\"-24.78\" y=\"2.81\" style=\"\">r1</text></g><g transform=\"translate(127.17,184.18)rotate(-90)\"><text x=\"-24.78\" y=\"2.81\" style=\"\">r2</text></g><g transform=\"translate(159.06,184.18)rotate(-90)\"><text x=\"-24.78\" y=\"2.81\" style=\"\">r3</text></g><g transform=\"translate(190.94,184.18)rotate(-90)\"><text x=\"-24.78\" y=\"2.81\" style=\"\">r4</text></g><g transform=\"translate(222.83,184.18)rotate(-90)\"><text x=\"-24.78\" y=\"2.81\" style=\"\">r5</text></g><g transform=\"translate(254.72,184.18)rotate(-90)\"><text x=\"-24.78\" y=\"2.81\" style=\"\">r6</text></g><g transform=\"translate(286.61,184.18)rotate(-90)\"><text x=\"-24.78\" y=\"2.81\" style=\"\">r7</text></g></g></g></g><g class=\"toyplot-coordinates-Axis\" id=\"t4ad9dfd4bf80473b98056adad52dc25e\" transform=\"translate(50.0,210.0)rotate(-90.0)translate(0,-20.0)\"><line x1=\"25.81619694348465\" y1=\"0\" x2=\"148.4985311665844\" y2=\"0\" style=\"\"></line><g><line x1=\"25.81619694348465\" y1=\"0\" x2=\"25.81619694348465\" y2=\"5\" style=\"\"></line><line x1=\"87.1573640550345\" y1=\"0\" x2=\"87.1573640550345\" y2=\"5\" style=\"\"></line><line x1=\"148.4985311665844\" y1=\"0\" x2=\"148.4985311665844\" y2=\"5\" style=\"\"></line></g><g><g transform=\"translate(25.81619694348465,-6)\"><text x=\"-2.78\" y=\"-4.440892098500626e-16\" style=\"fill:rgb(16.1%,15.3%,14.1%);fill-opacity:1.0;font-family:helvetica;font-size:10.0px;font-weight:normal;stroke:none;vertical-align:baseline;white-space:pre\">0</text></g><g transform=\"translate(87.1573640550345,-6)\"><text x=\"-16.68\" y=\"-4.440892098500626e-16\" style=\"fill:rgb(16.1%,15.3%,14.1%);fill-opacity:1.0;font-family:helvetica;font-size:10.0px;font-weight:normal;stroke:none;vertical-align:baseline;white-space:pre\">500000</text></g><g transform=\"translate(148.4985311665844,-6)\"><text x=\"-19.459999999999997\" y=\"-4.440892098500626e-16\" style=\"fill:rgb(16.1%,15.3%,14.1%);fill-opacity:1.0;font-family:helvetica;font-size:10.0px;font-weight:normal;stroke:none;vertical-align:baseline;white-space:pre\">1000000</text></g></g><g class=\"toyplot-coordinates-Axis-coordinates\" style=\"visibility:hidden\" transform=\"\"><line x1=\"0\" x2=\"0\" y1=\"3.0\" y2=\"-4.5\" style=\"stroke:rgb(43.9%,50.2%,56.5%);stroke-opacity:1.0;stroke-width:1.0\"></line><text x=\"0\" y=\"6\" style=\"alignment-baseline:hanging;fill:rgb(43.9%,50.2%,56.5%);fill-opacity:1.0;font-size:10px;font-weight:normal;stroke:none;text-anchor:middle\"></text></g></g></g></svg><div class=\"toyplot-behavior\"><script>(function()\n",
       "{\n",
       "var modules={};\n",
       "modules[\"toyplot/canvas/id\"] = \"t4c632c83d13548d2ab4e362b7b8a1fa5\";\n",
       "modules[\"toyplot/canvas\"] = (function(canvas_id)\n",
       "    {\n",
       "        return document.querySelector(\"#\" + canvas_id);\n",
       "    })(modules[\"toyplot/canvas/id\"]);\n",
       "modules[\"toyplot.coordinates.Axis\"] = (\n",
       "        function(canvas)\n",
       "        {\n",
       "            function sign(x)\n",
       "            {\n",
       "                return x < 0 ? -1 : x > 0 ? 1 : 0;\n",
       "            }\n",
       "\n",
       "            function mix(a, b, amount)\n",
       "            {\n",
       "                return ((1.0 - amount) * a) + (amount * b);\n",
       "            }\n",
       "\n",
       "            function log(x, base)\n",
       "            {\n",
       "                return Math.log(Math.abs(x)) / Math.log(base);\n",
       "            }\n",
       "\n",
       "            function in_range(a, x, b)\n",
       "            {\n",
       "                var left = Math.min(a, b);\n",
       "                var right = Math.max(a, b);\n",
       "                return left <= x && x <= right;\n",
       "            }\n",
       "\n",
       "            function inside(range, projection)\n",
       "            {\n",
       "                for(var i = 0; i != projection.length; ++i)\n",
       "                {\n",
       "                    var segment = projection[i];\n",
       "                    if(in_range(segment.range.min, range, segment.range.max))\n",
       "                        return true;\n",
       "                }\n",
       "                return false;\n",
       "            }\n",
       "\n",
       "            function to_domain(range, projection)\n",
       "            {\n",
       "                for(var i = 0; i != projection.length; ++i)\n",
       "                {\n",
       "                    var segment = projection[i];\n",
       "                    if(in_range(segment.range.bounds.min, range, segment.range.bounds.max))\n",
       "                    {\n",
       "                        if(segment.scale == \"linear\")\n",
       "                        {\n",
       "                            var amount = (range - segment.range.min) / (segment.range.max - segment.range.min);\n",
       "                            return mix(segment.domain.min, segment.domain.max, amount)\n",
       "                        }\n",
       "                        else if(segment.scale[0] == \"log\")\n",
       "                        {\n",
       "                            var amount = (range - segment.range.min) / (segment.range.max - segment.range.min);\n",
       "                            var base = segment.scale[1];\n",
       "                            return sign(segment.domain.min) * Math.pow(base, mix(log(segment.domain.min, base), log(segment.domain.max, base), amount));\n",
       "                        }\n",
       "                    }\n",
       "                }\n",
       "            }\n",
       "\n",
       "            var axes = {};\n",
       "\n",
       "            function display_coordinates(e)\n",
       "            {\n",
       "                var current = canvas.createSVGPoint();\n",
       "                current.x = e.clientX;\n",
       "                current.y = e.clientY;\n",
       "\n",
       "                for(var axis_id in axes)\n",
       "                {\n",
       "                    var axis = document.querySelector(\"#\" + axis_id);\n",
       "                    var coordinates = axis.querySelector(\".toyplot-coordinates-Axis-coordinates\");\n",
       "                    if(coordinates)\n",
       "                    {\n",
       "                        var projection = axes[axis_id];\n",
       "                        var local = current.matrixTransform(axis.getScreenCTM().inverse());\n",
       "                        if(inside(local.x, projection))\n",
       "                        {\n",
       "                            var domain = to_domain(local.x, projection);\n",
       "                            coordinates.style.visibility = \"visible\";\n",
       "                            coordinates.setAttribute(\"transform\", \"translate(\" + local.x + \")\");\n",
       "                            var text = coordinates.querySelector(\"text\");\n",
       "                            text.textContent = domain.toFixed(2);\n",
       "                        }\n",
       "                        else\n",
       "                        {\n",
       "                            coordinates.style.visibility= \"hidden\";\n",
       "                        }\n",
       "                    }\n",
       "                }\n",
       "            }\n",
       "\n",
       "            canvas.addEventListener(\"click\", display_coordinates);\n",
       "\n",
       "            var module = {};\n",
       "            module.show_coordinates = function(axis_id, projection)\n",
       "            {\n",
       "                axes[axis_id] = projection;\n",
       "            }\n",
       "\n",
       "            return module;\n",
       "        })(modules[\"toyplot/canvas\"]);\n",
       "(function(axis, axis_id, projection)\n",
       "        {\n",
       "            axis.show_coordinates(axis_id, projection);\n",
       "        })(modules[\"toyplot.coordinates.Axis\"],\"t4ad9dfd4bf80473b98056adad52dc25e\",[{\"domain\": {\"bounds\": {\"max\": Infinity, \"min\": -Infinity}, \"max\": 1093750.0, \"min\": -210431.2499999999}, \"range\": {\"bounds\": {\"max\": Infinity, \"min\": -Infinity}, \"max\": 160.0, \"min\": 0.0}, \"scale\": \"linear\"}]);\n",
       "})();</script></div></div>"
      ]
     },
     "metadata": {},
     "output_type": "display_data"
    },
    {
     "data": {
      "text/html": [
       "<div class=\"toyplot\" id=\"t0372a3bcd0bd4d118769505344c826c7\" style=\"text-align:center\"><svg class=\"toyplot-canvas-Canvas\" xmlns:toyplot=\"http://www.sandia.gov/toyplot\" xmlns:xlink=\"http://www.w3.org/1999/xlink\" xmlns=\"http://www.w3.org/2000/svg\" width=\"600.0px\" height=\"200.0px\" viewBox=\"0 0 600.0 200.0\" preserveAspectRatio=\"xMidYMid meet\" style=\"background-color:transparent;border-color:#292724;border-style:none;border-width:1.0;fill:rgb(16.1%,15.3%,14.1%);fill-opacity:1.0;font-family:Helvetica;font-size:12px;opacity:1.0;stroke:rgb(16.1%,15.3%,14.1%);stroke-opacity:1.0;stroke-width:1.0\" id=\"t71eeb98cf8aa40e9af321340edfda69e\"><g class=\"toyplot-coordinates-Cartesian\" id=\"t8f16e43f5bec403cbb15a20d0858ce0b\"><clipPath id=\"tfd8537f6173843498bab874109a966cb\"><rect x=\"15.0\" y=\"15.0\" width=\"120.0\" height=\"170.0\"></rect></clipPath><g clip-path=\"url(#tfd8537f6173843498bab874109a966cb)\"><g class=\"toytree-mark-Toytree\" id=\"td80d41d6fa634d43aac7637f351992f6\"><g class=\"toytree-Edges\" style=\"fill:none;stroke:rgb(14.9%,14.9%,14.9%);stroke-linecap:round;stroke-opacity:1;stroke-width:2\"><path d=\"M 78.6 29.9 L 105.5 59.7\" id=\"14,13\"></path><path d=\"M 78.6 29.9 L 51.7 56.9\" id=\"14,12\"></path><path d=\"M 105.5 59.7 L 95.4 88.3\" id=\"13,11\"></path><path d=\"M 51.7 56.9 L 63.4 91.8\" id=\"12,10\"></path><path d=\"M 51.7 56.9 L 40.1 88.2\" id=\"12,9\"></path><path d=\"M 95.4 88.3 L 86.6 120.0\" id=\"11,8\"></path><path d=\"M 105.5 59.7 L 115.7 152.9\" id=\"13,7\"></path><path d=\"M 95.4 88.3 L 104.1 152.9\" id=\"11,6\"></path><path d=\"M 86.6 120.0 L 92.4 152.9\" id=\"8,5\"></path><path d=\"M 86.6 120.0 L 80.8 152.9\" id=\"8,4\"></path><path d=\"M 63.4 91.8 L 69.2 152.9\" id=\"10,3\"></path><path d=\"M 63.4 91.8 L 57.6 152.9\" id=\"10,2\"></path><path d=\"M 40.1 88.2 L 45.9 152.9\" id=\"9,1\"></path><path d=\"M 40.1 88.2 L 34.3 152.9\" id=\"9,0\"></path></g><g class=\"toytree-Nodes\" style=\"fill:rgb(40%,76.1%,64.7%);fill-opacity:1.0;stroke:rgb(14.9%,14.9%,14.9%);stroke-opacity:1.0;stroke-width:1\"><g id=\"node-0\" transform=\"translate(34.283,152.945)\"><circle r=\"3.0\"></circle></g><g id=\"node-1\" transform=\"translate(45.917,152.945)\"><circle r=\"3.0\"></circle></g><g id=\"node-2\" transform=\"translate(57.550,152.945)\"><circle r=\"3.0\"></circle></g><g id=\"node-3\" transform=\"translate(69.183,152.945)\"><circle r=\"3.0\"></circle></g><g id=\"node-4\" transform=\"translate(80.817,152.945)\"><circle r=\"3.0\"></circle></g><g id=\"node-5\" transform=\"translate(92.450,152.945)\"><circle r=\"3.0\"></circle></g><g id=\"node-6\" transform=\"translate(104.083,152.945)\"><circle r=\"3.0\"></circle></g><g id=\"node-7\" transform=\"translate(115.717,152.945)\"><circle r=\"3.0\"></circle></g><g id=\"node-8\" transform=\"translate(86.633,119.979)\"><circle r=\"3.0\"></circle></g><g id=\"node-9\" transform=\"translate(40.100,88.179)\"><circle r=\"3.0\"></circle></g><g id=\"node-10\" transform=\"translate(63.367,91.809)\"><circle r=\"3.0\"></circle></g><g id=\"node-11\" transform=\"translate(95.358,88.315)\"><circle r=\"3.0\"></circle></g><g id=\"node-12\" transform=\"translate(51.733,56.881)\"><circle r=\"3.0\"></circle></g><g id=\"node-13\" transform=\"translate(105.537,59.721)\"><circle r=\"3.0\"></circle></g><g id=\"node-14\" transform=\"translate(78.635,29.921)\"><circle r=\"3.0\"></circle></g></g><g class=\"toytree-NodeLabels\" style=\"fill:rgb(14.9%,14.9%,14.9%);fill-opacity:1.0;font-size:9px;stroke:none\"><g transform=\"translate(31.78,155.24)\"><text>0</text></g><g transform=\"translate(43.41,155.24)\"><text>1</text></g><g transform=\"translate(55.05,155.24)\"><text>2</text></g><g transform=\"translate(66.68,155.24)\"><text>3</text></g><g transform=\"translate(78.31,155.24)\"><text>4</text></g><g transform=\"translate(89.95,155.24)\"><text>5</text></g><g transform=\"translate(101.58,155.24)\"><text>6</text></g><g transform=\"translate(113.21,155.24)\"><text>7</text></g><g transform=\"translate(84.13,122.28)\"><text>8</text></g><g transform=\"translate(37.60,90.48)\"><text>9</text></g><g transform=\"translate(58.36,94.11)\"><text>10</text></g><g transform=\"translate(90.35,90.61)\"><text>11</text></g><g transform=\"translate(46.73,59.18)\"><text>12</text></g><g transform=\"translate(100.53,62.02)\"><text>13</text></g><g transform=\"translate(73.63,32.22)\"><text>14</text></g></g><g class=\"toytree-TipLabels\" style=\"fill:rgb(14.9%,14.9%,14.9%);fill-opacity:1.0;font-family:helvetica;font-size:9px;font-weight:normal;stroke:none;white-space:pre\"><g transform=\"translate(34.28,152.95)rotate(-90)\"><text x=\"-18.00\" y=\"2.30\" style=\"\">r3</text></g><g transform=\"translate(45.92,152.95)rotate(-90)\"><text x=\"-18.00\" y=\"2.30\" style=\"\">r2</text></g><g transform=\"translate(57.55,152.95)rotate(-90)\"><text x=\"-18.00\" y=\"2.30\" style=\"\">r1</text></g><g transform=\"translate(69.18,152.95)rotate(-90)\"><text x=\"-18.00\" y=\"2.30\" style=\"\">r0</text></g><g transform=\"translate(80.82,152.95)rotate(-90)\"><text x=\"-18.00\" y=\"2.30\" style=\"\">r5</text></g><g transform=\"translate(92.45,152.95)rotate(-90)\"><text x=\"-18.00\" y=\"2.30\" style=\"\">r4</text></g><g transform=\"translate(104.08,152.95)rotate(-90)\"><text x=\"-18.00\" y=\"2.30\" style=\"\">r6</text></g><g transform=\"translate(115.72,152.95)rotate(-90)\"><text x=\"-18.00\" y=\"2.30\" style=\"\">r7</text></g></g></g></g></g><g class=\"toyplot-coordinates-Cartesian\" id=\"ta713114bd9c841ca9bab4d87292ac025\"><clipPath id=\"t44e317c161b74f62822c7c374f77e298\"><rect x=\"165.0\" y=\"15.0\" width=\"120.0\" height=\"170.0\"></rect></clipPath><g clip-path=\"url(#t44e317c161b74f62822c7c374f77e298)\"><g class=\"toytree-mark-Toytree\" id=\"tca6bfe9e89284a2894e58eee92295800\"><g class=\"toytree-Edges\" style=\"fill:none;stroke:rgb(14.9%,14.9%,14.9%);stroke-linecap:round;stroke-opacity:1;stroke-width:2\"><path d=\"M 228.6 29.9 L 248.3 63.1\" id=\"14,13\"></path><path d=\"M 228.6 29.9 L 209.0 61.6\" id=\"14,12\"></path><path d=\"M 248.3 63.1 L 259.9 91.1\" id=\"13,11\"></path><path d=\"M 248.3 63.1 L 236.6 89.6\" id=\"13,10\"></path><path d=\"M 209.0 61.6 L 198.8 93.1\" id=\"12,9\"></path><path d=\"M 198.8 93.1 L 190.1 121.0\" id=\"9,8\"></path><path d=\"M 259.9 91.1 L 265.7 152.9\" id=\"11,7\"></path><path d=\"M 259.9 91.1 L 254.1 152.9\" id=\"11,6\"></path><path d=\"M 236.6 89.6 L 242.4 152.9\" id=\"10,5\"></path><path d=\"M 236.6 89.6 L 230.8 152.9\" id=\"10,4\"></path><path d=\"M 209.0 61.6 L 219.2 152.9\" id=\"12,3\"></path><path d=\"M 198.8 93.1 L 207.6 152.9\" id=\"9,2\"></path><path d=\"M 190.1 121.0 L 195.9 152.9\" id=\"8,1\"></path><path d=\"M 190.1 121.0 L 184.3 152.9\" id=\"8,0\"></path></g><g class=\"toytree-Nodes\" style=\"fill:rgb(40%,76.1%,64.7%);fill-opacity:1.0;stroke:rgb(14.9%,14.9%,14.9%);stroke-opacity:1.0;stroke-width:1\"><g id=\"node-0\" transform=\"translate(184.283,152.945)\"><circle r=\"3.0\"></circle></g><g id=\"node-1\" transform=\"translate(195.917,152.945)\"><circle r=\"3.0\"></circle></g><g id=\"node-2\" transform=\"translate(207.550,152.945)\"><circle r=\"3.0\"></circle></g><g id=\"node-3\" transform=\"translate(219.183,152.945)\"><circle r=\"3.0\"></circle></g><g id=\"node-4\" transform=\"translate(230.817,152.945)\"><circle r=\"3.0\"></circle></g><g id=\"node-5\" transform=\"translate(242.450,152.945)\"><circle r=\"3.0\"></circle></g><g id=\"node-6\" transform=\"translate(254.083,152.945)\"><circle r=\"3.0\"></circle></g><g id=\"node-7\" transform=\"translate(265.717,152.945)\"><circle r=\"3.0\"></circle></g><g id=\"node-8\" transform=\"translate(190.100,120.977)\"><circle r=\"3.0\"></circle></g><g id=\"node-9\" transform=\"translate(198.825,93.104)\"><circle r=\"3.0\"></circle></g><g id=\"node-10\" transform=\"translate(236.633,89.642)\"><circle r=\"3.0\"></circle></g><g id=\"node-11\" transform=\"translate(259.900,91.083)\"><circle r=\"3.0\"></circle></g><g id=\"node-12\" transform=\"translate(209.004,61.621)\"><circle r=\"3.0\"></circle></g><g id=\"node-13\" transform=\"translate(248.267,63.104)\"><circle r=\"3.0\"></circle></g><g id=\"node-14\" transform=\"translate(228.635,29.921)\"><circle r=\"3.0\"></circle></g></g><g class=\"toytree-NodeLabels\" style=\"fill:rgb(14.9%,14.9%,14.9%);fill-opacity:1.0;font-size:9px;stroke:none\"><g transform=\"translate(181.78,155.24)\"><text>0</text></g><g transform=\"translate(193.41,155.24)\"><text>1</text></g><g transform=\"translate(205.05,155.24)\"><text>2</text></g><g transform=\"translate(216.68,155.24)\"><text>3</text></g><g transform=\"translate(228.31,155.24)\"><text>4</text></g><g transform=\"translate(239.95,155.24)\"><text>5</text></g><g transform=\"translate(251.58,155.24)\"><text>6</text></g><g transform=\"translate(263.21,155.24)\"><text>7</text></g><g transform=\"translate(187.60,123.28)\"><text>8</text></g><g transform=\"translate(196.32,95.40)\"><text>9</text></g><g transform=\"translate(231.63,91.94)\"><text>10</text></g><g transform=\"translate(254.90,93.38)\"><text>11</text></g><g transform=\"translate(204.00,63.92)\"><text>12</text></g><g transform=\"translate(243.26,65.40)\"><text>13</text></g><g transform=\"translate(223.63,32.22)\"><text>14</text></g></g><g class=\"toytree-TipLabels\" style=\"fill:rgb(14.9%,14.9%,14.9%);fill-opacity:1.0;font-family:helvetica;font-size:9px;font-weight:normal;stroke:none;white-space:pre\"><g transform=\"translate(184.28,152.94)rotate(-90)\"><text x=\"-18.00\" y=\"2.30\" style=\"\">r5</text></g><g transform=\"translate(195.92,152.94)rotate(-90)\"><text x=\"-18.00\" y=\"2.30\" style=\"\">r4</text></g><g transform=\"translate(207.55,152.94)rotate(-90)\"><text x=\"-18.00\" y=\"2.30\" style=\"\">r6</text></g><g transform=\"translate(219.18,152.94)rotate(-90)\"><text x=\"-18.00\" y=\"2.30\" style=\"\">r7</text></g><g transform=\"translate(230.82,152.95)rotate(-90)\"><text x=\"-18.00\" y=\"2.30\" style=\"\">r3</text></g><g transform=\"translate(242.45,152.95)rotate(-90)\"><text x=\"-18.00\" y=\"2.30\" style=\"\">r2</text></g><g transform=\"translate(254.08,152.95)rotate(-90)\"><text x=\"-18.00\" y=\"2.30\" style=\"\">r1</text></g><g transform=\"translate(265.72,152.95)rotate(-90)\"><text x=\"-18.00\" y=\"2.30\" style=\"\">r0</text></g></g></g></g></g><g class=\"toyplot-coordinates-Cartesian\" id=\"t9042ff6761a44d06888bd1ff5819ea04\"><clipPath id=\"t932b810fbd004502ab5c23083882fac1\"><rect x=\"315.0\" y=\"15.0\" width=\"120.0\" height=\"170.0\"></rect></clipPath><g clip-path=\"url(#t932b810fbd004502ab5c23083882fac1)\"><g class=\"toytree-mark-Toytree\" id=\"tc73035793ccc47f4ac33be3b9844529e\"><g class=\"toytree-Edges\" style=\"fill:none;stroke:rgb(14.9%,14.9%,14.9%);stroke-linecap:round;stroke-opacity:1;stroke-width:2\"><path d=\"M 378.6 29.9 L 405.5 61.6\" id=\"14,13\"></path><path d=\"M 378.6 29.9 L 351.7 55.9\" id=\"14,12\"></path><path d=\"M 405.5 61.6 L 395.4 74.5\" id=\"13,11\"></path><path d=\"M 351.7 55.9 L 363.4 91.7\" id=\"12,10\"></path><path d=\"M 351.7 55.9 L 340.1 83.0\" id=\"12,9\"></path><path d=\"M 395.4 74.5 L 386.6 121.8\" id=\"11,8\"></path><path d=\"M 405.5 61.6 L 415.7 152.9\" id=\"13,7\"></path><path d=\"M 395.4 74.5 L 404.1 152.9\" id=\"11,6\"></path><path d=\"M 386.6 121.8 L 392.4 152.9\" id=\"8,5\"></path><path d=\"M 386.6 121.8 L 380.8 152.9\" id=\"8,4\"></path><path d=\"M 363.4 91.7 L 369.2 152.9\" id=\"10,3\"></path><path d=\"M 363.4 91.7 L 357.6 152.9\" id=\"10,2\"></path><path d=\"M 340.1 83.0 L 345.9 152.9\" id=\"9,1\"></path><path d=\"M 340.1 83.0 L 334.3 152.9\" id=\"9,0\"></path></g><g class=\"toytree-Nodes\" style=\"fill:rgb(40%,76.1%,64.7%);fill-opacity:1.0;stroke:rgb(14.9%,14.9%,14.9%);stroke-opacity:1.0;stroke-width:1\"><g id=\"node-0\" transform=\"translate(334.283,152.945)\"><circle r=\"3.0\"></circle></g><g id=\"node-1\" transform=\"translate(345.917,152.945)\"><circle r=\"3.0\"></circle></g><g id=\"node-2\" transform=\"translate(357.550,152.945)\"><circle r=\"3.0\"></circle></g><g id=\"node-3\" transform=\"translate(369.183,152.945)\"><circle r=\"3.0\"></circle></g><g id=\"node-4\" transform=\"translate(380.817,152.945)\"><circle r=\"3.0\"></circle></g><g id=\"node-5\" transform=\"translate(392.450,152.945)\"><circle r=\"3.0\"></circle></g><g id=\"node-6\" transform=\"translate(404.083,152.945)\"><circle r=\"3.0\"></circle></g><g id=\"node-7\" transform=\"translate(415.717,152.945)\"><circle r=\"3.0\"></circle></g><g id=\"node-8\" transform=\"translate(386.633,121.831)\"><circle r=\"3.0\"></circle></g><g id=\"node-9\" transform=\"translate(340.100,83.006)\"><circle r=\"3.0\"></circle></g><g id=\"node-10\" transform=\"translate(363.367,91.692)\"><circle r=\"3.0\"></circle></g><g id=\"node-11\" transform=\"translate(395.358,74.507)\"><circle r=\"3.0\"></circle></g><g id=\"node-12\" transform=\"translate(351.733,55.880)\"><circle r=\"3.0\"></circle></g><g id=\"node-13\" transform=\"translate(405.537,61.579)\"><circle r=\"3.0\"></circle></g><g id=\"node-14\" transform=\"translate(378.635,29.921)\"><circle r=\"3.0\"></circle></g></g><g class=\"toytree-NodeLabels\" style=\"fill:rgb(14.9%,14.9%,14.9%);fill-opacity:1.0;font-size:9px;stroke:none\"><g transform=\"translate(331.78,155.24)\"><text>0</text></g><g transform=\"translate(343.41,155.24)\"><text>1</text></g><g transform=\"translate(355.05,155.24)\"><text>2</text></g><g transform=\"translate(366.68,155.24)\"><text>3</text></g><g transform=\"translate(378.31,155.24)\"><text>4</text></g><g transform=\"translate(389.95,155.24)\"><text>5</text></g><g transform=\"translate(401.58,155.24)\"><text>6</text></g><g transform=\"translate(413.21,155.24)\"><text>7</text></g><g transform=\"translate(384.13,124.13)\"><text>8</text></g><g transform=\"translate(337.60,85.31)\"><text>9</text></g><g transform=\"translate(358.36,93.99)\"><text>10</text></g><g transform=\"translate(390.35,76.81)\"><text>11</text></g><g transform=\"translate(346.73,58.18)\"><text>12</text></g><g transform=\"translate(400.53,63.88)\"><text>13</text></g><g transform=\"translate(373.63,32.22)\"><text>14</text></g></g><g class=\"toytree-TipLabels\" style=\"fill:rgb(14.9%,14.9%,14.9%);fill-opacity:1.0;font-family:helvetica;font-size:9px;font-weight:normal;stroke:none;white-space:pre\"><g transform=\"translate(334.28,152.95)rotate(-90)\"><text x=\"-18.00\" y=\"2.30\" style=\"\">r1</text></g><g transform=\"translate(345.92,152.95)rotate(-90)\"><text x=\"-18.00\" y=\"2.30\" style=\"\">r0</text></g><g transform=\"translate(357.55,152.95)rotate(-90)\"><text x=\"-18.00\" y=\"2.30\" style=\"\">r3</text></g><g transform=\"translate(369.18,152.95)rotate(-90)\"><text x=\"-18.00\" y=\"2.30\" style=\"\">r2</text></g><g transform=\"translate(380.82,152.95)rotate(-90)\"><text x=\"-18.00\" y=\"2.30\" style=\"\">r5</text></g><g transform=\"translate(392.45,152.95)rotate(-90)\"><text x=\"-18.00\" y=\"2.30\" style=\"\">r4</text></g><g transform=\"translate(404.08,152.94)rotate(-90)\"><text x=\"-18.00\" y=\"2.30\" style=\"\">r6</text></g><g transform=\"translate(415.72,152.94)rotate(-90)\"><text x=\"-18.00\" y=\"2.30\" style=\"\">r7</text></g></g></g></g></g><g class=\"toyplot-coordinates-Cartesian\" id=\"t2b637c4ab164489da73ed445ebd0d14c\"><clipPath id=\"ta4c5872a268d455c85e8cbcbe2538356\"><rect x=\"465.0\" y=\"15.0\" width=\"120.0\" height=\"170.0\"></rect></clipPath><g clip-path=\"url(#ta4c5872a268d455c85e8cbcbe2538356)\"><g class=\"toytree-mark-Toytree\" id=\"tbeb0c768898043468e9e2cd4ddd62442\"><g class=\"toytree-Edges\" style=\"fill:none;stroke:rgb(14.9%,14.9%,14.9%);stroke-linecap:round;stroke-opacity:1;stroke-width:2\"><path d=\"M 528.6 29.9 L 548.3 61.6\" id=\"14,13\"></path><path d=\"M 528.6 29.9 L 509.0 58.8\" id=\"14,12\"></path><path d=\"M 548.3 61.6 L 559.9 90.4\" id=\"13,11\"></path><path d=\"M 548.3 61.6 L 536.6 87.9\" id=\"13,10\"></path><path d=\"M 509.0 58.8 L 498.8 91.3\" id=\"12,9\"></path><path d=\"M 498.8 91.3 L 490.1 121.7\" id=\"9,8\"></path><path d=\"M 559.9 90.4 L 565.7 152.9\" id=\"11,7\"></path><path d=\"M 559.9 90.4 L 554.1 152.9\" id=\"11,6\"></path><path d=\"M 536.6 87.9 L 542.4 152.9\" id=\"10,5\"></path><path d=\"M 536.6 87.9 L 530.8 152.9\" id=\"10,4\"></path><path d=\"M 509.0 58.8 L 519.2 152.9\" id=\"12,3\"></path><path d=\"M 498.8 91.3 L 507.6 152.9\" id=\"9,2\"></path><path d=\"M 490.1 121.7 L 495.9 152.9\" id=\"8,1\"></path><path d=\"M 490.1 121.7 L 484.3 152.9\" id=\"8,0\"></path></g><g class=\"toytree-Nodes\" style=\"fill:rgb(40%,76.1%,64.7%);fill-opacity:1.0;stroke:rgb(14.9%,14.9%,14.9%);stroke-opacity:1.0;stroke-width:1\"><g id=\"node-0\" transform=\"translate(484.283,152.945)\"><circle r=\"3.0\"></circle></g><g id=\"node-1\" transform=\"translate(495.917,152.945)\"><circle r=\"3.0\"></circle></g><g id=\"node-2\" transform=\"translate(507.550,152.945)\"><circle r=\"3.0\"></circle></g><g id=\"node-3\" transform=\"translate(519.183,152.945)\"><circle r=\"3.0\"></circle></g><g id=\"node-4\" transform=\"translate(530.817,152.945)\"><circle r=\"3.0\"></circle></g><g id=\"node-5\" transform=\"translate(542.450,152.945)\"><circle r=\"3.0\"></circle></g><g id=\"node-6\" transform=\"translate(554.083,152.945)\"><circle r=\"3.0\"></circle></g><g id=\"node-7\" transform=\"translate(565.717,152.945)\"><circle r=\"3.0\"></circle></g><g id=\"node-8\" transform=\"translate(490.100,121.691)\"><circle r=\"3.0\"></circle></g><g id=\"node-9\" transform=\"translate(498.825,91.266)\"><circle r=\"3.0\"></circle></g><g id=\"node-10\" transform=\"translate(536.633,87.877)\"><circle r=\"3.0\"></circle></g><g id=\"node-11\" transform=\"translate(559.900,90.351)\"><circle r=\"3.0\"></circle></g><g id=\"node-12\" transform=\"translate(509.004,58.753)\"><circle r=\"3.0\"></circle></g><g id=\"node-13\" transform=\"translate(548.267,61.639)\"><circle r=\"3.0\"></circle></g><g id=\"node-14\" transform=\"translate(528.635,29.921)\"><circle r=\"3.0\"></circle></g></g><g class=\"toytree-NodeLabels\" style=\"fill:rgb(14.9%,14.9%,14.9%);fill-opacity:1.0;font-size:9px;stroke:none\"><g transform=\"translate(481.78,155.24)\"><text>0</text></g><g transform=\"translate(493.41,155.24)\"><text>1</text></g><g transform=\"translate(505.05,155.24)\"><text>2</text></g><g transform=\"translate(516.68,155.24)\"><text>3</text></g><g transform=\"translate(528.31,155.24)\"><text>4</text></g><g transform=\"translate(539.95,155.24)\"><text>5</text></g><g transform=\"translate(551.58,155.24)\"><text>6</text></g><g transform=\"translate(563.21,155.24)\"><text>7</text></g><g transform=\"translate(487.60,123.99)\"><text>8</text></g><g transform=\"translate(496.32,93.57)\"><text>9</text></g><g transform=\"translate(531.63,90.18)\"><text>10</text></g><g transform=\"translate(554.90,92.65)\"><text>11</text></g><g transform=\"translate(504.00,61.05)\"><text>12</text></g><g transform=\"translate(543.26,63.94)\"><text>13</text></g><g transform=\"translate(523.63,32.22)\"><text>14</text></g></g><g class=\"toytree-TipLabels\" style=\"fill:rgb(14.9%,14.9%,14.9%);fill-opacity:1.0;font-family:helvetica;font-size:9px;font-weight:normal;stroke:none;white-space:pre\"><g transform=\"translate(484.28,152.94)rotate(-90)\"><text x=\"-18.00\" y=\"2.30\" style=\"\">r5</text></g><g transform=\"translate(495.92,152.94)rotate(-90)\"><text x=\"-18.00\" y=\"2.30\" style=\"\">r4</text></g><g transform=\"translate(507.55,152.94)rotate(-90)\"><text x=\"-18.00\" y=\"2.30\" style=\"\">r6</text></g><g transform=\"translate(519.18,152.94)rotate(-90)\"><text x=\"-18.00\" y=\"2.30\" style=\"\">r7</text></g><g transform=\"translate(530.82,152.95)rotate(-90)\"><text x=\"-18.00\" y=\"2.30\" style=\"\">r1</text></g><g transform=\"translate(542.45,152.95)rotate(-90)\"><text x=\"-18.00\" y=\"2.30\" style=\"\">r0</text></g><g transform=\"translate(554.08,152.95)rotate(-90)\"><text x=\"-18.00\" y=\"2.30\" style=\"\">r3</text></g><g transform=\"translate(565.72,152.95)rotate(-90)\"><text x=\"-18.00\" y=\"2.30\" style=\"\">r2</text></g></g></g></g></g></svg><div class=\"toyplot-behavior\"><script>(function()\n",
       "{\n",
       "var modules={};\n",
       "})();</script></div></div>"
      ]
     },
     "metadata": {},
     "output_type": "display_data"
    },
    {
     "data": {
      "text/html": [
       "<div class=\"toyplot\" id=\"t7e2a5aa490ce40cf8af6891f9844d202\" style=\"text-align:center\"><svg class=\"toyplot-canvas-Canvas\" xmlns:toyplot=\"http://www.sandia.gov/toyplot\" xmlns:xlink=\"http://www.w3.org/1999/xlink\" xmlns=\"http://www.w3.org/2000/svg\" width=\"600.0px\" height=\"200.0px\" viewBox=\"0 0 600.0 200.0\" preserveAspectRatio=\"xMidYMid meet\" style=\"background-color:transparent;border-color:#292724;border-style:none;border-width:1.0;fill:rgb(16.1%,15.3%,14.1%);fill-opacity:1.0;font-family:Helvetica;font-size:12px;opacity:1.0;stroke:rgb(16.1%,15.3%,14.1%);stroke-opacity:1.0;stroke-width:1.0\" id=\"t7d33da0027dc4658b57cc98e68cd112c\"><g class=\"toyplot-coordinates-Cartesian\" id=\"t67907832c414467691cf05483e80aa6a\"><clipPath id=\"tfd177e5c0fe94f04961203d556e53768\"><rect x=\"15.0\" y=\"15.0\" width=\"120.0\" height=\"170.0\"></rect></clipPath><g clip-path=\"url(#tfd177e5c0fe94f04961203d556e53768)\"><g class=\"toytree-mark-Toytree\" id=\"t7ab7ec541efb4aa69b27932f3bf7da96\"><g class=\"toytree-Edges\" style=\"fill:none;stroke:rgb(14.9%,14.9%,14.9%);stroke-linecap:round;stroke-opacity:1;stroke-width:2\"><path d=\"M 78.6 29.9 L 98.3 60.6\" id=\"14,13\"></path><path d=\"M 78.6 29.9 L 59.0 59.3\" id=\"14,12\"></path><path d=\"M 98.3 60.6 L 109.9 90.1\" id=\"13,11\"></path><path d=\"M 98.3 60.6 L 86.6 88.8\" id=\"13,10\"></path><path d=\"M 59.0 59.3 L 48.8 91.2\" id=\"12,9\"></path><path d=\"M 48.8 91.2 L 40.1 122.2\" id=\"9,8\"></path><path d=\"M 109.9 90.1 L 115.7 152.9\" id=\"11,7\"></path><path d=\"M 109.9 90.1 L 104.1 152.9\" id=\"11,6\"></path><path d=\"M 86.6 88.8 L 92.4 152.9\" id=\"10,5\"></path><path d=\"M 86.6 88.8 L 80.8 152.9\" id=\"10,4\"></path><path d=\"M 59.0 59.3 L 69.2 152.9\" id=\"12,3\"></path><path d=\"M 48.8 91.2 L 57.6 152.9\" id=\"9,2\"></path><path d=\"M 40.1 122.2 L 45.9 152.9\" id=\"8,1\"></path><path d=\"M 40.1 122.2 L 34.3 152.9\" id=\"8,0\"></path></g><g class=\"toytree-Nodes\" style=\"fill:rgb(40%,76.1%,64.7%);fill-opacity:1.0;stroke:rgb(14.9%,14.9%,14.9%);stroke-opacity:1.0;stroke-width:1\"><g id=\"node-0\" transform=\"translate(34.283,152.945)\"><circle r=\"3.0\"></circle></g><g id=\"node-1\" transform=\"translate(45.917,152.945)\"><circle r=\"3.0\"></circle></g><g id=\"node-2\" transform=\"translate(57.550,152.945)\"><circle r=\"3.0\"></circle></g><g id=\"node-3\" transform=\"translate(69.183,152.945)\"><circle r=\"3.0\"></circle></g><g id=\"node-4\" transform=\"translate(80.817,152.945)\"><circle r=\"3.0\"></circle></g><g id=\"node-5\" transform=\"translate(92.450,152.945)\"><circle r=\"3.0\"></circle></g><g id=\"node-6\" transform=\"translate(104.083,152.945)\"><circle r=\"3.0\"></circle></g><g id=\"node-7\" transform=\"translate(115.717,152.945)\"><circle r=\"3.0\"></circle></g><g id=\"node-8\" transform=\"translate(40.100,122.152)\"><circle r=\"3.0\"></circle></g><g id=\"node-9\" transform=\"translate(48.825,91.249)\"><circle r=\"3.0\"></circle></g><g id=\"node-10\" transform=\"translate(86.633,88.767)\"><circle r=\"3.0\"></circle></g><g id=\"node-11\" transform=\"translate(109.900,90.068)\"><circle r=\"3.0\"></circle></g><g id=\"node-12\" transform=\"translate(59.004,59.340)\"><circle r=\"3.0\"></circle></g><g id=\"node-13\" transform=\"translate(98.267,60.635)\"><circle r=\"3.0\"></circle></g><g id=\"node-14\" transform=\"translate(78.635,29.921)\"><circle r=\"3.0\"></circle></g></g><g class=\"toytree-NodeLabels\" style=\"fill:rgb(14.9%,14.9%,14.9%);fill-opacity:1.0;font-size:9px;stroke:none\"><g transform=\"translate(31.78,155.24)\"><text>0</text></g><g transform=\"translate(43.41,155.24)\"><text>1</text></g><g transform=\"translate(55.05,155.24)\"><text>2</text></g><g transform=\"translate(66.68,155.24)\"><text>3</text></g><g transform=\"translate(78.31,155.24)\"><text>4</text></g><g transform=\"translate(89.95,155.24)\"><text>5</text></g><g transform=\"translate(101.58,155.24)\"><text>6</text></g><g transform=\"translate(113.21,155.24)\"><text>7</text></g><g transform=\"translate(37.60,124.45)\"><text>8</text></g><g transform=\"translate(46.32,93.55)\"><text>9</text></g><g transform=\"translate(81.63,91.07)\"><text>10</text></g><g transform=\"translate(104.90,92.37)\"><text>11</text></g><g transform=\"translate(54.00,61.64)\"><text>12</text></g><g transform=\"translate(93.26,62.93)\"><text>13</text></g><g transform=\"translate(73.63,32.22)\"><text>14</text></g></g><g class=\"toytree-TipLabels\" style=\"fill:rgb(14.9%,14.9%,14.9%);fill-opacity:1.0;font-family:helvetica;font-size:9px;font-weight:normal;stroke:none;white-space:pre\"><g transform=\"translate(34.28,152.95)rotate(-90)\"><text x=\"-18.00\" y=\"2.30\" style=\"\">r5</text></g><g transform=\"translate(45.92,152.95)rotate(-90)\"><text x=\"-18.00\" y=\"2.30\" style=\"\">r4</text></g><g transform=\"translate(57.55,152.95)rotate(-90)\"><text x=\"-18.00\" y=\"2.30\" style=\"\">r6</text></g><g transform=\"translate(69.18,152.95)rotate(-90)\"><text x=\"-18.00\" y=\"2.30\" style=\"\">r7</text></g><g transform=\"translate(80.82,152.95)rotate(-90)\"><text x=\"-18.00\" y=\"2.30\" style=\"\">r1</text></g><g transform=\"translate(92.45,152.95)rotate(-90)\"><text x=\"-18.00\" y=\"2.30\" style=\"\">r0</text></g><g transform=\"translate(104.08,152.94)rotate(-90)\"><text x=\"-18.00\" y=\"2.30\" style=\"\">r3</text></g><g transform=\"translate(115.72,152.94)rotate(-90)\"><text x=\"-18.00\" y=\"2.30\" style=\"\">r2</text></g></g></g></g></g><g class=\"toyplot-coordinates-Cartesian\" id=\"t47427cfd8fd34a5bb17f29b72e0de71f\"><clipPath id=\"t3350f48898e347bcbf43e6bd5cdafc17\"><rect x=\"165.0\" y=\"15.0\" width=\"120.0\" height=\"170.0\"></rect></clipPath><g clip-path=\"url(#t3350f48898e347bcbf43e6bd5cdafc17)\"><g class=\"toytree-mark-Toytree\" id=\"t22bd7ed07c6d47d5a1ca10502a68d249\"><g class=\"toytree-Edges\" style=\"fill:none;stroke:rgb(14.9%,14.9%,14.9%);stroke-linecap:round;stroke-opacity:1;stroke-width:2\"><path d=\"M 228.6 29.9 L 248.3 65.6\" id=\"14,13\"></path><path d=\"M 228.6 29.9 L 209.0 63.9\" id=\"14,12\"></path><path d=\"M 248.3 65.6 L 259.9 95.8\" id=\"13,11\"></path><path d=\"M 248.3 65.6 L 236.6 95.8\" id=\"13,10\"></path><path d=\"M 209.0 63.9 L 198.8 91.2\" id=\"12,9\"></path><path d=\"M 198.8 91.2 L 190.1 122.3\" id=\"9,8\"></path><path d=\"M 259.9 95.8 L 265.7 152.9\" id=\"11,7\"></path><path d=\"M 259.9 95.8 L 254.1 152.9\" id=\"11,6\"></path><path d=\"M 236.6 95.8 L 242.4 152.9\" id=\"10,5\"></path><path d=\"M 236.6 95.8 L 230.8 152.9\" id=\"10,4\"></path><path d=\"M 209.0 63.9 L 219.2 152.9\" id=\"12,3\"></path><path d=\"M 198.8 91.2 L 207.6 152.9\" id=\"9,2\"></path><path d=\"M 190.1 122.3 L 195.9 152.9\" id=\"8,1\"></path><path d=\"M 190.1 122.3 L 184.3 152.9\" id=\"8,0\"></path></g><g class=\"toytree-Nodes\" style=\"fill:rgb(40%,76.1%,64.7%);fill-opacity:1.0;stroke:rgb(14.9%,14.9%,14.9%);stroke-opacity:1.0;stroke-width:1\"><g id=\"node-0\" transform=\"translate(184.283,152.945)\"><circle r=\"3.0\"></circle></g><g id=\"node-1\" transform=\"translate(195.917,152.945)\"><circle r=\"3.0\"></circle></g><g id=\"node-2\" transform=\"translate(207.550,152.945)\"><circle r=\"3.0\"></circle></g><g id=\"node-3\" transform=\"translate(219.183,152.945)\"><circle r=\"3.0\"></circle></g><g id=\"node-4\" transform=\"translate(230.817,152.945)\"><circle r=\"3.0\"></circle></g><g id=\"node-5\" transform=\"translate(242.450,152.945)\"><circle r=\"3.0\"></circle></g><g id=\"node-6\" transform=\"translate(254.083,152.945)\"><circle r=\"3.0\"></circle></g><g id=\"node-7\" transform=\"translate(265.717,152.945)\"><circle r=\"3.0\"></circle></g><g id=\"node-8\" transform=\"translate(190.100,122.303)\"><circle r=\"3.0\"></circle></g><g id=\"node-9\" transform=\"translate(198.825,91.185)\"><circle r=\"3.0\"></circle></g><g id=\"node-10\" transform=\"translate(236.633,95.813)\"><circle r=\"3.0\"></circle></g><g id=\"node-11\" transform=\"translate(259.900,95.844)\"><circle r=\"3.0\"></circle></g><g id=\"node-12\" transform=\"translate(209.004,63.939)\"><circle r=\"3.0\"></circle></g><g id=\"node-13\" transform=\"translate(248.267,65.644)\"><circle r=\"3.0\"></circle></g><g id=\"node-14\" transform=\"translate(228.635,29.921)\"><circle r=\"3.0\"></circle></g></g><g class=\"toytree-NodeLabels\" style=\"fill:rgb(14.9%,14.9%,14.9%);fill-opacity:1.0;font-size:9px;stroke:none\"><g transform=\"translate(181.78,155.24)\"><text>0</text></g><g transform=\"translate(193.41,155.24)\"><text>1</text></g><g transform=\"translate(205.05,155.24)\"><text>2</text></g><g transform=\"translate(216.68,155.24)\"><text>3</text></g><g transform=\"translate(228.31,155.24)\"><text>4</text></g><g transform=\"translate(239.95,155.24)\"><text>5</text></g><g transform=\"translate(251.58,155.24)\"><text>6</text></g><g transform=\"translate(263.21,155.24)\"><text>7</text></g><g transform=\"translate(187.60,124.60)\"><text>8</text></g><g transform=\"translate(196.32,93.48)\"><text>9</text></g><g transform=\"translate(231.63,98.11)\"><text>10</text></g><g transform=\"translate(254.90,98.14)\"><text>11</text></g><g transform=\"translate(204.00,66.24)\"><text>12</text></g><g transform=\"translate(243.26,67.94)\"><text>13</text></g><g transform=\"translate(223.63,32.22)\"><text>14</text></g></g><g class=\"toytree-TipLabels\" style=\"fill:rgb(14.9%,14.9%,14.9%);fill-opacity:1.0;font-family:helvetica;font-size:9px;font-weight:normal;stroke:none;white-space:pre\"><g transform=\"translate(184.28,152.94)rotate(-90)\"><text x=\"-18.00\" y=\"2.30\" style=\"\">r5</text></g><g transform=\"translate(195.92,152.94)rotate(-90)\"><text x=\"-18.00\" y=\"2.30\" style=\"\">r4</text></g><g transform=\"translate(207.55,152.94)rotate(-90)\"><text x=\"-18.00\" y=\"2.30\" style=\"\">r6</text></g><g transform=\"translate(219.18,152.94)rotate(-90)\"><text x=\"-18.00\" y=\"2.30\" style=\"\">r7</text></g><g transform=\"translate(230.82,152.94)rotate(-90)\"><text x=\"-18.00\" y=\"2.30\" style=\"\">r3</text></g><g transform=\"translate(242.45,152.94)rotate(-90)\"><text x=\"-18.00\" y=\"2.30\" style=\"\">r2</text></g><g transform=\"translate(254.08,152.95)rotate(-90)\"><text x=\"-18.00\" y=\"2.30\" style=\"\">r1</text></g><g transform=\"translate(265.72,152.95)rotate(-90)\"><text x=\"-18.00\" y=\"2.30\" style=\"\">r0</text></g></g></g></g></g><g class=\"toyplot-coordinates-Cartesian\" id=\"t176da7f51f1e45278419e875d8c16cdc\"><clipPath id=\"tbc9a6e911c1f4a22a920c9b441a7affd\"><rect x=\"315.0\" y=\"15.0\" width=\"120.0\" height=\"170.0\"></rect></clipPath><g clip-path=\"url(#tbc9a6e911c1f4a22a920c9b441a7affd)\"><g class=\"toytree-mark-Toytree\" id=\"taf3a86d7ced442778520a70490ed80d8\"><g class=\"toytree-Edges\" style=\"fill:none;stroke:rgb(14.9%,14.9%,14.9%);stroke-linecap:round;stroke-opacity:1;stroke-width:2\"><path d=\"M 378.6 29.9 L 405.5 65.3\" id=\"14,13\"></path><path d=\"M 378.6 29.9 L 351.7 63.9\" id=\"14,12\"></path><path d=\"M 405.5 65.3 L 395.4 94.2\" id=\"13,11\"></path><path d=\"M 351.7 63.9 L 363.4 94.8\" id=\"12,10\"></path><path d=\"M 351.7 63.9 L 340.1 94.4\" id=\"12,9\"></path><path d=\"M 395.4 94.2 L 386.6 121.9\" id=\"11,8\"></path><path d=\"M 405.5 65.3 L 415.7 152.9\" id=\"13,7\"></path><path d=\"M 395.4 94.2 L 404.1 152.9\" id=\"11,6\"></path><path d=\"M 386.6 121.9 L 392.4 152.9\" id=\"8,5\"></path><path d=\"M 386.6 121.9 L 380.8 152.9\" id=\"8,4\"></path><path d=\"M 363.4 94.8 L 369.2 152.9\" id=\"10,3\"></path><path d=\"M 363.4 94.8 L 357.6 152.9\" id=\"10,2\"></path><path d=\"M 340.1 94.4 L 345.9 152.9\" id=\"9,1\"></path><path d=\"M 340.1 94.4 L 334.3 152.9\" id=\"9,0\"></path></g><g class=\"toytree-Nodes\" style=\"fill:rgb(40%,76.1%,64.7%);fill-opacity:1.0;stroke:rgb(14.9%,14.9%,14.9%);stroke-opacity:1.0;stroke-width:1\"><g id=\"node-0\" transform=\"translate(334.283,152.945)\"><circle r=\"3.0\"></circle></g><g id=\"node-1\" transform=\"translate(345.917,152.945)\"><circle r=\"3.0\"></circle></g><g id=\"node-2\" transform=\"translate(357.550,152.945)\"><circle r=\"3.0\"></circle></g><g id=\"node-3\" transform=\"translate(369.183,152.945)\"><circle r=\"3.0\"></circle></g><g id=\"node-4\" transform=\"translate(380.817,152.945)\"><circle r=\"3.0\"></circle></g><g id=\"node-5\" transform=\"translate(392.450,152.945)\"><circle r=\"3.0\"></circle></g><g id=\"node-6\" transform=\"translate(404.083,152.945)\"><circle r=\"3.0\"></circle></g><g id=\"node-7\" transform=\"translate(415.717,152.945)\"><circle r=\"3.0\"></circle></g><g id=\"node-8\" transform=\"translate(386.633,121.923)\"><circle r=\"3.0\"></circle></g><g id=\"node-9\" transform=\"translate(340.100,94.438)\"><circle r=\"3.0\"></circle></g><g id=\"node-10\" transform=\"translate(363.367,94.808)\"><circle r=\"3.0\"></circle></g><g id=\"node-11\" transform=\"translate(395.358,94.190)\"><circle r=\"3.0\"></circle></g><g id=\"node-12\" transform=\"translate(351.733,63.872)\"><circle r=\"3.0\"></circle></g><g id=\"node-13\" transform=\"translate(405.537,65.335)\"><circle r=\"3.0\"></circle></g><g id=\"node-14\" transform=\"translate(378.635,29.921)\"><circle r=\"3.0\"></circle></g></g><g class=\"toytree-NodeLabels\" style=\"fill:rgb(14.9%,14.9%,14.9%);fill-opacity:1.0;font-size:9px;stroke:none\"><g transform=\"translate(331.78,155.24)\"><text>0</text></g><g transform=\"translate(343.41,155.24)\"><text>1</text></g><g transform=\"translate(355.05,155.24)\"><text>2</text></g><g transform=\"translate(366.68,155.24)\"><text>3</text></g><g transform=\"translate(378.31,155.24)\"><text>4</text></g><g transform=\"translate(389.95,155.24)\"><text>5</text></g><g transform=\"translate(401.58,155.24)\"><text>6</text></g><g transform=\"translate(413.21,155.24)\"><text>7</text></g><g transform=\"translate(384.13,124.22)\"><text>8</text></g><g transform=\"translate(337.60,96.74)\"><text>9</text></g><g transform=\"translate(358.36,97.11)\"><text>10</text></g><g transform=\"translate(390.35,96.49)\"><text>11</text></g><g transform=\"translate(346.73,66.17)\"><text>12</text></g><g transform=\"translate(400.53,67.63)\"><text>13</text></g><g transform=\"translate(373.63,32.22)\"><text>14</text></g></g><g class=\"toytree-TipLabels\" style=\"fill:rgb(14.9%,14.9%,14.9%);fill-opacity:1.0;font-family:helvetica;font-size:9px;font-weight:normal;stroke:none;white-space:pre\"><g transform=\"translate(334.28,152.94)rotate(-90)\"><text x=\"-18.00\" y=\"2.30\" style=\"\">r3</text></g><g transform=\"translate(345.92,152.94)rotate(-90)\"><text x=\"-18.00\" y=\"2.30\" style=\"\">r2</text></g><g transform=\"translate(357.55,152.94)rotate(-90)\"><text x=\"-18.00\" y=\"2.30\" style=\"\">r1</text></g><g transform=\"translate(369.18,152.94)rotate(-90)\"><text x=\"-18.00\" y=\"2.30\" style=\"\">r0</text></g><g transform=\"translate(380.82,152.95)rotate(-90)\"><text x=\"-18.00\" y=\"2.30\" style=\"\">r5</text></g><g transform=\"translate(392.45,152.95)rotate(-90)\"><text x=\"-18.00\" y=\"2.30\" style=\"\">r4</text></g><g transform=\"translate(404.08,152.94)rotate(-90)\"><text x=\"-18.00\" y=\"2.30\" style=\"\">r6</text></g><g transform=\"translate(415.72,152.94)rotate(-90)\"><text x=\"-18.00\" y=\"2.30\" style=\"\">r7</text></g></g></g></g></g><g class=\"toyplot-coordinates-Cartesian\" id=\"t0a75a79bfcc74f3586d1bb8ce2ea7daa\"><clipPath id=\"t8f2fb68536354767b70b65bf30db3725\"><rect x=\"465.0\" y=\"15.0\" width=\"120.0\" height=\"170.0\"></rect></clipPath><g clip-path=\"url(#t8f2fb68536354767b70b65bf30db3725)\"><g class=\"toytree-mark-Toytree\" id=\"t1556c53de2d9416dbf59d7959b246860\"><g class=\"toytree-Edges\" style=\"fill:none;stroke:rgb(14.9%,14.9%,14.9%);stroke-linecap:round;stroke-opacity:1;stroke-width:2\"><path d=\"M 528.6 29.9 L 555.5 61.4\" id=\"14,13\"></path><path d=\"M 528.6 29.9 L 501.7 57.5\" id=\"14,12\"></path><path d=\"M 555.5 61.4 L 545.4 90.4\" id=\"13,11\"></path><path d=\"M 501.7 57.5 L 513.4 91.8\" id=\"12,10\"></path><path d=\"M 501.7 57.5 L 490.1 81.9\" id=\"12,9\"></path><path d=\"M 545.4 90.4 L 536.6 122.3\" id=\"11,8\"></path><path d=\"M 555.5 61.4 L 565.7 152.9\" id=\"13,7\"></path><path d=\"M 545.4 90.4 L 554.1 152.9\" id=\"11,6\"></path><path d=\"M 536.6 122.3 L 542.4 152.9\" id=\"8,5\"></path><path d=\"M 536.6 122.3 L 530.8 152.9\" id=\"8,4\"></path><path d=\"M 513.4 91.8 L 519.2 152.9\" id=\"10,3\"></path><path d=\"M 513.4 91.8 L 507.6 152.9\" id=\"10,2\"></path><path d=\"M 490.1 81.9 L 495.9 152.9\" id=\"9,1\"></path><path d=\"M 490.1 81.9 L 484.3 152.9\" id=\"9,0\"></path></g><g class=\"toytree-Nodes\" style=\"fill:rgb(40%,76.1%,64.7%);fill-opacity:1.0;stroke:rgb(14.9%,14.9%,14.9%);stroke-opacity:1.0;stroke-width:1\"><g id=\"node-0\" transform=\"translate(484.283,152.945)\"><circle r=\"3.0\"></circle></g><g id=\"node-1\" transform=\"translate(495.917,152.945)\"><circle r=\"3.0\"></circle></g><g id=\"node-2\" transform=\"translate(507.550,152.945)\"><circle r=\"3.0\"></circle></g><g id=\"node-3\" transform=\"translate(519.183,152.945)\"><circle r=\"3.0\"></circle></g><g id=\"node-4\" transform=\"translate(530.817,152.945)\"><circle r=\"3.0\"></circle></g><g id=\"node-5\" transform=\"translate(542.450,152.945)\"><circle r=\"3.0\"></circle></g><g id=\"node-6\" transform=\"translate(554.083,152.945)\"><circle r=\"3.0\"></circle></g><g id=\"node-7\" transform=\"translate(565.717,152.945)\"><circle r=\"3.0\"></circle></g><g id=\"node-8\" transform=\"translate(536.633,122.260)\"><circle r=\"3.0\"></circle></g><g id=\"node-9\" transform=\"translate(490.100,81.923)\"><circle r=\"3.0\"></circle></g><g id=\"node-10\" transform=\"translate(513.367,91.815)\"><circle r=\"3.0\"></circle></g><g id=\"node-11\" transform=\"translate(545.358,90.398)\"><circle r=\"3.0\"></circle></g><g id=\"node-12\" transform=\"translate(501.733,57.535)\"><circle r=\"3.0\"></circle></g><g id=\"node-13\" transform=\"translate(555.537,61.396)\"><circle r=\"3.0\"></circle></g><g id=\"node-14\" transform=\"translate(528.635,29.921)\"><circle r=\"3.0\"></circle></g></g><g class=\"toytree-NodeLabels\" style=\"fill:rgb(14.9%,14.9%,14.9%);fill-opacity:1.0;font-size:9px;stroke:none\"><g transform=\"translate(481.78,155.24)\"><text>0</text></g><g transform=\"translate(493.41,155.24)\"><text>1</text></g><g transform=\"translate(505.05,155.24)\"><text>2</text></g><g transform=\"translate(516.68,155.24)\"><text>3</text></g><g transform=\"translate(528.31,155.24)\"><text>4</text></g><g transform=\"translate(539.95,155.24)\"><text>5</text></g><g transform=\"translate(551.58,155.24)\"><text>6</text></g><g transform=\"translate(563.21,155.24)\"><text>7</text></g><g transform=\"translate(534.13,124.56)\"><text>8</text></g><g transform=\"translate(487.60,84.22)\"><text>9</text></g><g transform=\"translate(508.36,94.11)\"><text>10</text></g><g transform=\"translate(540.35,92.70)\"><text>11</text></g><g transform=\"translate(496.73,59.83)\"><text>12</text></g><g transform=\"translate(550.53,63.70)\"><text>13</text></g><g transform=\"translate(523.63,32.22)\"><text>14</text></g></g><g class=\"toytree-TipLabels\" style=\"fill:rgb(14.9%,14.9%,14.9%);fill-opacity:1.0;font-family:helvetica;font-size:9px;font-weight:normal;stroke:none;white-space:pre\"><g transform=\"translate(484.28,152.94)rotate(-90)\"><text x=\"-18.00\" y=\"2.30\" style=\"\">r3</text></g><g transform=\"translate(495.92,152.94)rotate(-90)\"><text x=\"-18.00\" y=\"2.30\" style=\"\">r2</text></g><g transform=\"translate(507.55,152.95)rotate(-90)\"><text x=\"-18.00\" y=\"2.30\" style=\"\">r1</text></g><g transform=\"translate(519.18,152.95)rotate(-90)\"><text x=\"-18.00\" y=\"2.30\" style=\"\">r0</text></g><g transform=\"translate(530.82,152.95)rotate(-90)\"><text x=\"-18.00\" y=\"2.30\" style=\"\">r5</text></g><g transform=\"translate(542.45,152.95)rotate(-90)\"><text x=\"-18.00\" y=\"2.30\" style=\"\">r4</text></g><g transform=\"translate(554.08,152.95)rotate(-90)\"><text x=\"-18.00\" y=\"2.30\" style=\"\">r6</text></g><g transform=\"translate(565.72,152.95)rotate(-90)\"><text x=\"-18.00\" y=\"2.30\" style=\"\">r7</text></g></g></g></g></g></svg><div class=\"toyplot-behavior\"><script>(function()\n",
       "{\n",
       "var modules={};\n",
       "})();</script></div></div>"
      ]
     },
     "metadata": {},
     "output_type": "display_data"
    }
   ],
   "source": [
    "#create two models\n",
    "model1 = ipcoal.Model(tree=tree1, mut=1e-8, Ne=1e4)\n",
    "model2 = ipcoal.Model(tree=tree1, mut=1e-10, Ne=1e4)\n",
    "\n",
    "# simulate n genealogies for each model\n",
    "model1.sim_trees(10)\n",
    "model2.sim_trees(10)\n",
    "\n",
    "#draw the species tree\n",
    "tree1.draw(tree_style='p')\n",
    "# draw a grid of trees from model 1\n",
    "toytree.mtree(model1.df.genealogy).draw(**kwargs);\n",
    "# draw a grid of trees from model 2\n",
    "toytree.mtree(model2.df.genealogy).draw(**kwargs);"
   ]
  },
  {
   "cell_type": "markdown",
   "id": "8719a4fb",
   "metadata": {},
   "source": [
    "### Admixture\n",
    "\n",
    "Admixture (sometimes called **introgression**) occurs when two species hybridize, passing genes between branches of a species tree. First, let's visualize what admixture looks like:"
   ]
  },
  {
   "cell_type": "code",
   "execution_count": 20,
   "id": "ca5b0f69",
   "metadata": {},
   "outputs": [
    {
     "data": {
      "text/plain": [
       "(<toyplot.canvas.Canvas at 0x13b2ac940>,\n",
       " <toyplot.coordinates.Cartesian at 0x13b0b95e0>,\n",
       " <toytree.Render.ToytreeMark at 0x13b299670>)"
      ]
     },
     "execution_count": 20,
     "metadata": {},
     "output_type": "execute_result"
    },
    {
     "data": {
      "text/html": [
       "<div class=\"toyplot\" id=\"t0cff9b6672e34a569307f0b908dd2858\" style=\"text-align:center\"><svg class=\"toyplot-canvas-Canvas\" xmlns:toyplot=\"http://www.sandia.gov/toyplot\" xmlns:xlink=\"http://www.w3.org/1999/xlink\" xmlns=\"http://www.w3.org/2000/svg\" width=\"260.0px\" height=\"275.0px\" viewBox=\"0 0 260.0 275.0\" preserveAspectRatio=\"xMidYMid meet\" style=\"background-color:transparent;border-color:#292724;border-style:none;border-width:1.0;fill:rgb(16.1%,15.3%,14.1%);fill-opacity:1.0;font-family:Helvetica;font-size:12px;opacity:1.0;stroke:rgb(16.1%,15.3%,14.1%);stroke-opacity:1.0;stroke-width:1.0\" id=\"t63a1f207b4534efa872edbcde8b284cb\"><g class=\"toyplot-coordinates-Cartesian\" id=\"tf381c75ca74540939779ce4953fdb351\"><clipPath id=\"t0942453ef89f4bf292816bfb775a8090\"><rect x=\"30.0\" y=\"30.0\" width=\"200.0\" height=\"215.0\"></rect></clipPath><g clip-path=\"url(#t0942453ef89f4bf292816bfb775a8090)\"><g class=\"toytree-mark-Toytree\" id=\"t7c236b3b7aaa44c0959ab13897622f0f\"><g class=\"toytree-Edges\" style=\"fill:none;stroke:rgb(14.9%,14.9%,14.9%);stroke-linecap:round;stroke-opacity:1;stroke-width:2\"><path d=\"M 62.4 130.8 L 62.4 81.5 L 95.4 81.5\" id=\"14,13\"></path><path d=\"M 62.4 130.8 L 62.4 180.2 L 128.5 180.2\" id=\"14,12\"></path><path d=\"M 95.4 81.5 L 95.4 100.2 L 128.5 100.2\" id=\"13,11\"></path><path d=\"M 128.5 180.2 L 128.5 158.8 L 161.5 158.8\" id=\"12,10\"></path><path d=\"M 128.5 180.2 L 128.5 201.5 L 161.5 201.5\" id=\"12,9\"></path><path d=\"M 128.5 100.2 L 128.5 116.2 L 161.5 116.2\" id=\"11,8\"></path><path d=\"M 95.4 81.5 L 95.4 62.8 L 194.6 62.8\" id=\"13,7\"></path><path d=\"M 128.5 100.2 L 128.5 84.1 L 194.6 84.1\" id=\"11,6\"></path><path d=\"M 161.5 116.2 L 161.5 105.5 L 194.6 105.5\" id=\"8,5\"></path><path d=\"M 161.5 116.2 L 161.5 126.8 L 194.6 126.8\" id=\"8,4\"></path><path d=\"M 161.5 158.8 L 161.5 148.2 L 194.6 148.2\" id=\"10,3\"></path><path d=\"M 161.5 158.8 L 161.5 169.5 L 194.6 169.5\" id=\"10,2\"></path><path d=\"M 161.5 201.5 L 161.5 190.9 L 194.6 190.9\" id=\"9,1\"></path><path d=\"M 161.5 201.5 L 161.5 212.2 L 194.6 212.2\" id=\"9,0\"></path></g><g class=\"toytree-AdmixEdges\" style=\"fill:none;font-size:14px;stroke:rgba(90.6%,54.1%,76.5%,1.000);stroke-linecap:round;stroke-opacity:0.6;stroke-width:5\"><path d=\"M 194.6 148.2 L 178.1 148.2 L 145.0 116.2 L 128.5 116.2\" style=\"stroke:rgb(98.8%,55.3%,38.4%);stroke-opacity:0.7\"></path></g><g class=\"toytree-Nodes\" style=\"fill:rgb(82.7%,82.7%,82.7%);fill-opacity:1.0;stroke:rgb(14.9%,14.9%,14.9%);stroke-opacity:1.0;stroke-width:1.5\"><g id=\"node-0\" transform=\"translate(194.577,212.195)\"><circle r=\"7.5\"></circle></g><g id=\"node-1\" transform=\"translate(194.577,190.854)\"><circle r=\"7.5\"></circle></g><g id=\"node-2\" transform=\"translate(194.577,169.512)\"><circle r=\"7.5\"></circle></g><g id=\"node-3\" transform=\"translate(194.577,148.171)\"><circle r=\"7.5\"></circle></g><g id=\"node-4\" transform=\"translate(194.577,126.829)\"><circle r=\"7.5\"></circle></g><g id=\"node-5\" transform=\"translate(194.577,105.488)\"><circle r=\"7.5\"></circle></g><g id=\"node-6\" transform=\"translate(194.577,84.146)\"><circle r=\"7.5\"></circle></g><g id=\"node-7\" transform=\"translate(194.577,62.805)\"><circle r=\"7.5\"></circle></g><g id=\"node-8\" transform=\"translate(161.530,116.159)\"><circle r=\"7.5\"></circle></g><g id=\"node-9\" transform=\"translate(161.530,201.524)\"><circle r=\"7.5\"></circle></g><g id=\"node-10\" transform=\"translate(161.530,158.841)\"><circle r=\"7.5\"></circle></g><g id=\"node-11\" transform=\"translate(128.484,100.152)\"><circle r=\"7.5\"></circle></g><g id=\"node-12\" transform=\"translate(128.484,180.183)\"><circle r=\"7.5\"></circle></g><g id=\"node-13\" transform=\"translate(95.438,81.479)\"><circle r=\"7.5\"></circle></g><g id=\"node-14\" transform=\"translate(62.392,130.831)\"><circle r=\"7.5\"></circle></g></g><g class=\"toytree-NodeLabels\" style=\"fill:rgb(14.9%,14.9%,14.9%);fill-opacity:1.0;font-size:9px;stroke:none\"><g transform=\"translate(192.07,214.49)\"><text>0</text></g><g transform=\"translate(192.07,193.15)\"><text>1</text></g><g transform=\"translate(192.07,171.81)\"><text>2</text></g><g transform=\"translate(192.07,150.47)\"><text>3</text></g><g transform=\"translate(192.07,129.13)\"><text>4</text></g><g transform=\"translate(192.07,107.79)\"><text>5</text></g><g transform=\"translate(192.07,86.45)\"><text>6</text></g><g transform=\"translate(192.07,65.10)\"><text>7</text></g><g transform=\"translate(159.03,118.46)\"><text>8</text></g><g transform=\"translate(159.03,203.82)\"><text>9</text></g><g transform=\"translate(156.53,161.14)\"><text>10</text></g><g transform=\"translate(123.48,102.45)\"><text>11</text></g><g transform=\"translate(123.48,182.48)\"><text>12</text></g><g transform=\"translate(90.43,83.78)\"><text>13</text></g><g transform=\"translate(57.39,133.13)\"><text>14</text></g></g><g class=\"toytree-TipLabels\" style=\"fill:rgb(14.9%,14.9%,14.9%);fill-opacity:1.0;font-family:helvetica;font-size:11px;font-weight:normal;stroke:none;white-space:pre\"><g transform=\"translate(194.58,212.20)rotate(0)\"><text x=\"15.00\" y=\"2.81\" style=\"\">r0</text></g><g transform=\"translate(194.58,190.85)rotate(0)\"><text x=\"15.00\" y=\"2.81\" style=\"\">r1</text></g><g transform=\"translate(194.58,169.51)rotate(0)\"><text x=\"15.00\" y=\"2.81\" style=\"\">r2</text></g><g transform=\"translate(194.58,148.17)rotate(0)\"><text x=\"15.00\" y=\"2.81\" style=\"\">r3</text></g><g transform=\"translate(194.58,126.83)rotate(0)\"><text x=\"15.00\" y=\"2.81\" style=\"\">r4</text></g><g transform=\"translate(194.58,105.49)rotate(0)\"><text x=\"15.00\" y=\"2.81\" style=\"\">r5</text></g><g transform=\"translate(194.58,84.15)rotate(0)\"><text x=\"15.00\" y=\"2.81\" style=\"\">r6</text></g><g transform=\"translate(194.58,62.80)rotate(0)\"><text x=\"15.00\" y=\"2.81\" style=\"\">r7</text></g></g></g></g></g></svg><div class=\"toyplot-behavior\"><script>(function()\n",
       "{\n",
       "var modules={};\n",
       "})();</script></div></div>"
      ]
     },
     "metadata": {},
     "output_type": "display_data"
    }
   ],
   "source": [
    "tree1.draw(ts='s', admixture_edges=[(3,8)])"
   ]
  },
  {
   "cell_type": "markdown",
   "id": "df6537a3",
   "metadata": {},
   "source": [
    "That orange line is called an **admixture edge**, and it indicates a hybridization event between the branch leading to node 8 and the branch leading to tip 3. How does this affect gene tree discordance?"
   ]
  },
  {
   "cell_type": "markdown",
   "id": "cdbf48ba",
   "metadata": {},
   "source": [
    "First, let's create simulations that include admixture. I'm creating a simple admixture edge where there is a single migration even that occurs backwards in time corresponding to the middle of each of branches 3 and 8. This can be adjusted. If you're interested in how to further customize admixture in an ipcoal simulation, click your cursor into the ipcoal.Model parentheses, hold down 'shift' and double click 'tab', this will allow you to scroll through the documentation of this function.\n",
    "\n",
    "Once you've run the below simulation, you are welcome to play around with it. Change the admixture edges: make them closer or farther away. Add in Ne or mutation rate! What does admixture do to gene tree discordance? Does this make sense to you? Why or why not? Record your observations in the observation cell below. "
   ]
  },
  {
   "cell_type": "code",
   "execution_count": 22,
   "id": "b4a86ad0",
   "metadata": {},
   "outputs": [
    {
     "name": "stdout",
     "output_type": "stream",
     "text": [
      "unrecognized arguments skipped: ['shared_axis']\n",
      "check the docs, argument names may have changed.\n",
      "unrecognized arguments skipped: ['shared_axis']\n",
      "check the docs, argument names may have changed.\n",
      "unrecognized arguments skipped: ['shared_axis']\n",
      "check the docs, argument names may have changed.\n",
      "unrecognized arguments skipped: ['shared_axis']\n",
      "check the docs, argument names may have changed.\n"
     ]
    },
    {
     "data": {
      "text/html": [
       "<div class=\"toyplot\" id=\"t9f59d4ee1eb341e783b9000d4865076e\" style=\"text-align:center\"><svg class=\"toyplot-canvas-Canvas\" xmlns:toyplot=\"http://www.sandia.gov/toyplot\" xmlns:xlink=\"http://www.w3.org/1999/xlink\" xmlns=\"http://www.w3.org/2000/svg\" width=\"350.0px\" height=\"260.0px\" viewBox=\"0 0 350.0 260.0\" preserveAspectRatio=\"xMidYMid meet\" style=\"background-color:transparent;border-color:#292724;border-style:none;border-width:1.0;fill:rgb(16.1%,15.3%,14.1%);fill-opacity:1.0;font-family:Helvetica;font-size:12px;opacity:1.0;stroke:rgb(16.1%,15.3%,14.1%);stroke-opacity:1.0;stroke-width:1.0\" id=\"t913543ae417249318596a7374058502e\"><g class=\"toyplot-coordinates-Cartesian\" id=\"t40d2cdd18c09400ba78967aa29bfdc03\"><clipPath id=\"tef192254b215457c8ce282eb2872a677\"><rect x=\"30.0\" y=\"30.0\" width=\"290.0\" height=\"200.0\"></rect></clipPath><g clip-path=\"url(#tef192254b215457c8ce282eb2872a677)\"><g class=\"toytree-mark-Toytree\" id=\"t6b52af2630354d18a1fca7e6fa166933\"><g class=\"toytree-Edges\" style=\"fill:none;stroke:rgb(14.9%,14.9%,14.9%);stroke-linecap:round;stroke-opacity:1;stroke-width:2\"><path d=\"M 185.0 61.5 L 258.7 92.2\" id=\"14,13\"></path><path d=\"M 185.0 61.5 L 111.2 92.2\" id=\"14,12\"></path><path d=\"M 258.7 92.2 L 230.8 122.8\" id=\"13,11\"></path><path d=\"M 111.2 92.2 L 143.1 122.8\" id=\"12,10\"></path><path d=\"M 111.2 92.2 L 79.3 122.8\" id=\"12,9\"></path><path d=\"M 230.8 122.8 L 206.9 153.5\" id=\"11,8\"></path><path d=\"M 258.7 92.2 L 286.6 184.2\" id=\"13,7\"></path><path d=\"M 230.8 122.8 L 254.7 184.2\" id=\"11,6\"></path><path d=\"M 206.9 153.5 L 222.8 184.2\" id=\"8,5\"></path><path d=\"M 206.9 153.5 L 190.9 184.2\" id=\"8,4\"></path><path d=\"M 143.1 122.8 L 159.1 184.2\" id=\"10,3\"></path><path d=\"M 143.1 122.8 L 127.2 184.2\" id=\"10,2\"></path><path d=\"M 79.3 122.8 L 95.3 184.2\" id=\"9,1\"></path><path d=\"M 79.3 122.8 L 63.4 184.2\" id=\"9,0\"></path></g><g class=\"toytree-Nodes\" style=\"fill:rgb(40%,76.1%,64.7%);fill-opacity:1.0;stroke:rgb(14.9%,14.9%,14.9%);stroke-opacity:1.0;stroke-width:1\"><g id=\"node-0\" transform=\"translate(63.393,184.184)\"><circle r=\"7.5\"></circle></g><g id=\"node-1\" transform=\"translate(95.281,184.184)\"><circle r=\"7.5\"></circle></g><g id=\"node-2\" transform=\"translate(127.168,184.184)\"><circle r=\"7.5\"></circle></g><g id=\"node-3\" transform=\"translate(159.056,184.184)\"><circle r=\"7.5\"></circle></g><g id=\"node-4\" transform=\"translate(190.944,184.184)\"><circle r=\"7.5\"></circle></g><g id=\"node-5\" transform=\"translate(222.832,184.184)\"><circle r=\"7.5\"></circle></g><g id=\"node-6\" transform=\"translate(254.719,184.184)\"><circle r=\"7.5\"></circle></g><g id=\"node-7\" transform=\"translate(286.607,184.184)\"><circle r=\"7.5\"></circle></g><g id=\"node-8\" transform=\"translate(206.888,153.513)\"><circle r=\"7.5\"></circle></g><g id=\"node-9\" transform=\"translate(79.337,122.843)\"><circle r=\"7.5\"></circle></g><g id=\"node-10\" transform=\"translate(143.112,122.843)\"><circle r=\"7.5\"></circle></g><g id=\"node-11\" transform=\"translate(230.804,122.843)\"><circle r=\"7.5\"></circle></g><g id=\"node-12\" transform=\"translate(111.224,92.172)\"><circle r=\"7.5\"></circle></g><g id=\"node-13\" transform=\"translate(258.705,92.172)\"><circle r=\"7.5\"></circle></g><g id=\"node-14\" transform=\"translate(184.965,61.501)\"><circle r=\"7.5\"></circle></g></g><g class=\"toytree-NodeLabels\" style=\"fill:rgb(14.9%,14.9%,14.9%);fill-opacity:1.0;font-size:9px;stroke:none\"><g transform=\"translate(60.89,186.48)\"><text>0</text></g><g transform=\"translate(92.78,186.48)\"><text>1</text></g><g transform=\"translate(124.67,186.48)\"><text>2</text></g><g transform=\"translate(156.55,186.48)\"><text>3</text></g><g transform=\"translate(188.44,186.48)\"><text>4</text></g><g transform=\"translate(220.33,186.48)\"><text>5</text></g><g transform=\"translate(252.22,186.48)\"><text>6</text></g><g transform=\"translate(284.11,186.48)\"><text>7</text></g><g transform=\"translate(204.39,155.81)\"><text>8</text></g><g transform=\"translate(76.83,125.14)\"><text>9</text></g><g transform=\"translate(138.11,125.14)\"><text>10</text></g><g transform=\"translate(225.80,125.14)\"><text>11</text></g><g transform=\"translate(106.22,94.47)\"><text>12</text></g><g transform=\"translate(253.70,94.47)\"><text>13</text></g><g transform=\"translate(179.96,63.80)\"><text>14</text></g></g><g class=\"toytree-TipLabels\" style=\"fill:rgb(14.9%,14.9%,14.9%);fill-opacity:1.0;font-family:helvetica;font-size:11px;font-weight:normal;stroke:none;white-space:pre\"><g transform=\"translate(63.39,184.18)rotate(-90)\"><text x=\"-24.78\" y=\"2.81\" style=\"\">r0</text></g><g transform=\"translate(95.28,184.18)rotate(-90)\"><text x=\"-24.78\" y=\"2.81\" style=\"\">r1</text></g><g transform=\"translate(127.17,184.18)rotate(-90)\"><text x=\"-24.78\" y=\"2.81\" style=\"\">r2</text></g><g transform=\"translate(159.06,184.18)rotate(-90)\"><text x=\"-24.78\" y=\"2.81\" style=\"\">r3</text></g><g transform=\"translate(190.94,184.18)rotate(-90)\"><text x=\"-24.78\" y=\"2.81\" style=\"\">r4</text></g><g transform=\"translate(222.83,184.18)rotate(-90)\"><text x=\"-24.78\" y=\"2.81\" style=\"\">r5</text></g><g transform=\"translate(254.72,184.18)rotate(-90)\"><text x=\"-24.78\" y=\"2.81\" style=\"\">r6</text></g><g transform=\"translate(286.61,184.18)rotate(-90)\"><text x=\"-24.78\" y=\"2.81\" style=\"\">r7</text></g></g></g></g><g class=\"toyplot-coordinates-Axis\" id=\"t59fd48f3783e4fc68484c683024f893a\" transform=\"translate(50.0,210.0)rotate(-90.0)translate(0,-20.0)\"><line x1=\"25.81619694348465\" y1=\"0\" x2=\"148.4985311665844\" y2=\"0\" style=\"\"></line><g><line x1=\"25.81619694348465\" y1=\"0\" x2=\"25.81619694348465\" y2=\"5\" style=\"\"></line><line x1=\"87.1573640550345\" y1=\"0\" x2=\"87.1573640550345\" y2=\"5\" style=\"\"></line><line x1=\"148.4985311665844\" y1=\"0\" x2=\"148.4985311665844\" y2=\"5\" style=\"\"></line></g><g><g transform=\"translate(25.81619694348465,-6)\"><text x=\"-2.78\" y=\"-4.440892098500626e-16\" style=\"fill:rgb(16.1%,15.3%,14.1%);fill-opacity:1.0;font-family:helvetica;font-size:10.0px;font-weight:normal;stroke:none;vertical-align:baseline;white-space:pre\">0</text></g><g transform=\"translate(87.1573640550345,-6)\"><text x=\"-16.68\" y=\"-4.440892098500626e-16\" style=\"fill:rgb(16.1%,15.3%,14.1%);fill-opacity:1.0;font-family:helvetica;font-size:10.0px;font-weight:normal;stroke:none;vertical-align:baseline;white-space:pre\">500000</text></g><g transform=\"translate(148.4985311665844,-6)\"><text x=\"-19.459999999999997\" y=\"-4.440892098500626e-16\" style=\"fill:rgb(16.1%,15.3%,14.1%);fill-opacity:1.0;font-family:helvetica;font-size:10.0px;font-weight:normal;stroke:none;vertical-align:baseline;white-space:pre\">1000000</text></g></g><g class=\"toyplot-coordinates-Axis-coordinates\" style=\"visibility:hidden\" transform=\"\"><line x1=\"0\" x2=\"0\" y1=\"3.0\" y2=\"-4.5\" style=\"stroke:rgb(43.9%,50.2%,56.5%);stroke-opacity:1.0;stroke-width:1.0\"></line><text x=\"0\" y=\"6\" style=\"alignment-baseline:hanging;fill:rgb(43.9%,50.2%,56.5%);fill-opacity:1.0;font-size:10px;font-weight:normal;stroke:none;text-anchor:middle\"></text></g></g></g></svg><div class=\"toyplot-behavior\"><script>(function()\n",
       "{\n",
       "var modules={};\n",
       "modules[\"toyplot/canvas/id\"] = \"t913543ae417249318596a7374058502e\";\n",
       "modules[\"toyplot/canvas\"] = (function(canvas_id)\n",
       "    {\n",
       "        return document.querySelector(\"#\" + canvas_id);\n",
       "    })(modules[\"toyplot/canvas/id\"]);\n",
       "modules[\"toyplot.coordinates.Axis\"] = (\n",
       "        function(canvas)\n",
       "        {\n",
       "            function sign(x)\n",
       "            {\n",
       "                return x < 0 ? -1 : x > 0 ? 1 : 0;\n",
       "            }\n",
       "\n",
       "            function mix(a, b, amount)\n",
       "            {\n",
       "                return ((1.0 - amount) * a) + (amount * b);\n",
       "            }\n",
       "\n",
       "            function log(x, base)\n",
       "            {\n",
       "                return Math.log(Math.abs(x)) / Math.log(base);\n",
       "            }\n",
       "\n",
       "            function in_range(a, x, b)\n",
       "            {\n",
       "                var left = Math.min(a, b);\n",
       "                var right = Math.max(a, b);\n",
       "                return left <= x && x <= right;\n",
       "            }\n",
       "\n",
       "            function inside(range, projection)\n",
       "            {\n",
       "                for(var i = 0; i != projection.length; ++i)\n",
       "                {\n",
       "                    var segment = projection[i];\n",
       "                    if(in_range(segment.range.min, range, segment.range.max))\n",
       "                        return true;\n",
       "                }\n",
       "                return false;\n",
       "            }\n",
       "\n",
       "            function to_domain(range, projection)\n",
       "            {\n",
       "                for(var i = 0; i != projection.length; ++i)\n",
       "                {\n",
       "                    var segment = projection[i];\n",
       "                    if(in_range(segment.range.bounds.min, range, segment.range.bounds.max))\n",
       "                    {\n",
       "                        if(segment.scale == \"linear\")\n",
       "                        {\n",
       "                            var amount = (range - segment.range.min) / (segment.range.max - segment.range.min);\n",
       "                            return mix(segment.domain.min, segment.domain.max, amount)\n",
       "                        }\n",
       "                        else if(segment.scale[0] == \"log\")\n",
       "                        {\n",
       "                            var amount = (range - segment.range.min) / (segment.range.max - segment.range.min);\n",
       "                            var base = segment.scale[1];\n",
       "                            return sign(segment.domain.min) * Math.pow(base, mix(log(segment.domain.min, base), log(segment.domain.max, base), amount));\n",
       "                        }\n",
       "                    }\n",
       "                }\n",
       "            }\n",
       "\n",
       "            var axes = {};\n",
       "\n",
       "            function display_coordinates(e)\n",
       "            {\n",
       "                var current = canvas.createSVGPoint();\n",
       "                current.x = e.clientX;\n",
       "                current.y = e.clientY;\n",
       "\n",
       "                for(var axis_id in axes)\n",
       "                {\n",
       "                    var axis = document.querySelector(\"#\" + axis_id);\n",
       "                    var coordinates = axis.querySelector(\".toyplot-coordinates-Axis-coordinates\");\n",
       "                    if(coordinates)\n",
       "                    {\n",
       "                        var projection = axes[axis_id];\n",
       "                        var local = current.matrixTransform(axis.getScreenCTM().inverse());\n",
       "                        if(inside(local.x, projection))\n",
       "                        {\n",
       "                            var domain = to_domain(local.x, projection);\n",
       "                            coordinates.style.visibility = \"visible\";\n",
       "                            coordinates.setAttribute(\"transform\", \"translate(\" + local.x + \")\");\n",
       "                            var text = coordinates.querySelector(\"text\");\n",
       "                            text.textContent = domain.toFixed(2);\n",
       "                        }\n",
       "                        else\n",
       "                        {\n",
       "                            coordinates.style.visibility= \"hidden\";\n",
       "                        }\n",
       "                    }\n",
       "                }\n",
       "            }\n",
       "\n",
       "            canvas.addEventListener(\"click\", display_coordinates);\n",
       "\n",
       "            var module = {};\n",
       "            module.show_coordinates = function(axis_id, projection)\n",
       "            {\n",
       "                axes[axis_id] = projection;\n",
       "            }\n",
       "\n",
       "            return module;\n",
       "        })(modules[\"toyplot/canvas\"]);\n",
       "(function(axis, axis_id, projection)\n",
       "        {\n",
       "            axis.show_coordinates(axis_id, projection);\n",
       "        })(modules[\"toyplot.coordinates.Axis\"],\"t59fd48f3783e4fc68484c683024f893a\",[{\"domain\": {\"bounds\": {\"max\": Infinity, \"min\": -Infinity}, \"max\": 1093750.0, \"min\": -210431.2499999999}, \"range\": {\"bounds\": {\"max\": Infinity, \"min\": -Infinity}, \"max\": 160.0, \"min\": 0.0}, \"scale\": \"linear\"}]);\n",
       "})();</script></div></div>"
      ]
     },
     "metadata": {},
     "output_type": "display_data"
    },
    {
     "data": {
      "text/html": [
       "<div class=\"toyplot\" id=\"t1601396d9c3a49d783e3d6ac88c57c95\" style=\"text-align:center\"><svg class=\"toyplot-canvas-Canvas\" xmlns:toyplot=\"http://www.sandia.gov/toyplot\" xmlns:xlink=\"http://www.w3.org/1999/xlink\" xmlns=\"http://www.w3.org/2000/svg\" width=\"600.0px\" height=\"200.0px\" viewBox=\"0 0 600.0 200.0\" preserveAspectRatio=\"xMidYMid meet\" style=\"background-color:transparent;border-color:#292724;border-style:none;border-width:1.0;fill:rgb(16.1%,15.3%,14.1%);fill-opacity:1.0;font-family:Helvetica;font-size:12px;opacity:1.0;stroke:rgb(16.1%,15.3%,14.1%);stroke-opacity:1.0;stroke-width:1.0\" id=\"t63cad8a0c42d4f838733a0795fdf676b\"><g class=\"toyplot-coordinates-Cartesian\" id=\"tcd3973ffd11c4df28dbc23c1920f8dca\"><clipPath id=\"t9ef7439b6c53406c8b1bb862247f032b\"><rect x=\"15.0\" y=\"15.0\" width=\"120.0\" height=\"170.0\"></rect></clipPath><g clip-path=\"url(#t9ef7439b6c53406c8b1bb862247f032b)\"><g class=\"toytree-mark-Toytree\" id=\"t69c97d47fba04106a4c5fb2dc604bffe\"><g class=\"toytree-Edges\" style=\"fill:none;stroke:rgb(14.9%,14.9%,14.9%);stroke-linecap:round;stroke-opacity:1;stroke-width:2\"><path d=\"M 78.6 29.9 L 98.3 60.7\" id=\"14,13\"></path><path d=\"M 78.6 29.9 L 59.0 60.1\" id=\"14,12\"></path><path d=\"M 98.3 60.7 L 109.9 90.8\" id=\"13,11\"></path><path d=\"M 98.3 60.7 L 86.6 90.7\" id=\"13,10\"></path><path d=\"M 59.0 60.1 L 48.8 87.9\" id=\"12,9\"></path><path d=\"M 48.8 87.9 L 40.1 122.0\" id=\"9,8\"></path><path d=\"M 109.9 90.8 L 115.7 152.9\" id=\"11,7\"></path><path d=\"M 109.9 90.8 L 104.1 152.9\" id=\"11,6\"></path><path d=\"M 86.6 90.7 L 92.4 152.9\" id=\"10,5\"></path><path d=\"M 86.6 90.7 L 80.8 152.9\" id=\"10,4\"></path><path d=\"M 59.0 60.1 L 69.2 152.9\" id=\"12,3\"></path><path d=\"M 48.8 87.9 L 57.6 152.9\" id=\"9,2\"></path><path d=\"M 40.1 122.0 L 45.9 152.9\" id=\"8,1\"></path><path d=\"M 40.1 122.0 L 34.3 152.9\" id=\"8,0\"></path></g><g class=\"toytree-Nodes\" style=\"fill:rgb(40%,76.1%,64.7%);fill-opacity:1.0;stroke:rgb(14.9%,14.9%,14.9%);stroke-opacity:1.0;stroke-width:1\"><g id=\"node-0\" transform=\"translate(34.283,152.945)\"><circle r=\"3.0\"></circle></g><g id=\"node-1\" transform=\"translate(45.917,152.945)\"><circle r=\"3.0\"></circle></g><g id=\"node-2\" transform=\"translate(57.550,152.945)\"><circle r=\"3.0\"></circle></g><g id=\"node-3\" transform=\"translate(69.183,152.945)\"><circle r=\"3.0\"></circle></g><g id=\"node-4\" transform=\"translate(80.817,152.945)\"><circle r=\"3.0\"></circle></g><g id=\"node-5\" transform=\"translate(92.450,152.945)\"><circle r=\"3.0\"></circle></g><g id=\"node-6\" transform=\"translate(104.083,152.945)\"><circle r=\"3.0\"></circle></g><g id=\"node-7\" transform=\"translate(115.717,152.945)\"><circle r=\"3.0\"></circle></g><g id=\"node-8\" transform=\"translate(40.100,122.033)\"><circle r=\"3.0\"></circle></g><g id=\"node-9\" transform=\"translate(48.825,87.912)\"><circle r=\"3.0\"></circle></g><g id=\"node-10\" transform=\"translate(86.633,90.703)\"><circle r=\"3.0\"></circle></g><g id=\"node-11\" transform=\"translate(109.900,90.850)\"><circle r=\"3.0\"></circle></g><g id=\"node-12\" transform=\"translate(59.004,60.120)\"><circle r=\"3.0\"></circle></g><g id=\"node-13\" transform=\"translate(98.267,60.728)\"><circle r=\"3.0\"></circle></g><g id=\"node-14\" transform=\"translate(78.635,29.921)\"><circle r=\"3.0\"></circle></g></g><g class=\"toytree-NodeLabels\" style=\"fill:rgb(14.9%,14.9%,14.9%);fill-opacity:1.0;font-size:9px;stroke:none\"><g transform=\"translate(31.78,155.24)\"><text>0</text></g><g transform=\"translate(43.41,155.24)\"><text>1</text></g><g transform=\"translate(55.05,155.24)\"><text>2</text></g><g transform=\"translate(66.68,155.24)\"><text>3</text></g><g transform=\"translate(78.31,155.24)\"><text>4</text></g><g transform=\"translate(89.95,155.24)\"><text>5</text></g><g transform=\"translate(101.58,155.24)\"><text>6</text></g><g transform=\"translate(113.21,155.24)\"><text>7</text></g><g transform=\"translate(37.60,124.33)\"><text>8</text></g><g transform=\"translate(46.32,90.21)\"><text>9</text></g><g transform=\"translate(81.63,93.00)\"><text>10</text></g><g transform=\"translate(104.90,93.15)\"><text>11</text></g><g transform=\"translate(54.00,62.42)\"><text>12</text></g><g transform=\"translate(93.26,63.03)\"><text>13</text></g><g transform=\"translate(73.63,32.22)\"><text>14</text></g></g><g class=\"toytree-TipLabels\" style=\"fill:rgb(14.9%,14.9%,14.9%);fill-opacity:1.0;font-family:helvetica;font-size:9px;font-weight:normal;stroke:none;white-space:pre\"><g transform=\"translate(34.28,152.95)rotate(-90)\"><text x=\"-18.00\" y=\"2.30\" style=\"\">r5</text></g><g transform=\"translate(45.92,152.95)rotate(-90)\"><text x=\"-18.00\" y=\"2.30\" style=\"\">r4</text></g><g transform=\"translate(57.55,152.94)rotate(-90)\"><text x=\"-18.00\" y=\"2.30\" style=\"\">r6</text></g><g transform=\"translate(69.18,152.94)rotate(-90)\"><text x=\"-18.00\" y=\"2.30\" style=\"\">r7</text></g><g transform=\"translate(80.82,152.95)rotate(-90)\"><text x=\"-18.00\" y=\"2.30\" style=\"\">r1</text></g><g transform=\"translate(92.45,152.95)rotate(-90)\"><text x=\"-18.00\" y=\"2.30\" style=\"\">r0</text></g><g transform=\"translate(104.08,152.94)rotate(-90)\"><text x=\"-18.00\" y=\"2.30\" style=\"\">r3</text></g><g transform=\"translate(115.72,152.94)rotate(-90)\"><text x=\"-18.00\" y=\"2.30\" style=\"\">r2</text></g></g></g></g></g><g class=\"toyplot-coordinates-Cartesian\" id=\"t03bdbb77bf04467ca925f348311f3171\"><clipPath id=\"tc09ba25018ad4dbca09ef67eae30f354\"><rect x=\"165.0\" y=\"15.0\" width=\"120.0\" height=\"170.0\"></rect></clipPath><g clip-path=\"url(#tc09ba25018ad4dbca09ef67eae30f354)\"><g class=\"toytree-mark-Toytree\" id=\"t085c2f754dfa451a8fa8403ad422d733\"><g class=\"toytree-Edges\" style=\"fill:none;stroke:rgb(14.9%,14.9%,14.9%);stroke-linecap:round;stroke-opacity:1;stroke-width:2\"><path d=\"M 238.5 29.9 L 257.0 62.1\" id=\"14,13\"></path><path d=\"M 238.5 29.9 L 219.9 52.0\" id=\"14,12\"></path><path d=\"M 257.0 62.1 L 248.3 92.5\" id=\"13,11\"></path><path d=\"M 219.9 52.0 L 209.0 92.8\" id=\"12,10\"></path><path d=\"M 209.0 92.8 L 198.8 106.8\" id=\"10,9\"></path><path d=\"M 198.8 106.8 L 190.1 122.2\" id=\"9,8\"></path><path d=\"M 257.0 62.1 L 265.7 152.9\" id=\"13,7\"></path><path d=\"M 248.3 92.5 L 254.1 152.9\" id=\"11,6\"></path><path d=\"M 248.3 92.5 L 242.4 152.9\" id=\"11,5\"></path><path d=\"M 219.9 52.0 L 230.8 152.9\" id=\"12,4\"></path><path d=\"M 209.0 92.8 L 219.2 152.9\" id=\"10,3\"></path><path d=\"M 198.8 106.8 L 207.6 152.9\" id=\"9,2\"></path><path d=\"M 190.1 122.2 L 195.9 152.9\" id=\"8,1\"></path><path d=\"M 190.1 122.2 L 184.3 152.9\" id=\"8,0\"></path></g><g class=\"toytree-Nodes\" style=\"fill:rgb(40%,76.1%,64.7%);fill-opacity:1.0;stroke:rgb(14.9%,14.9%,14.9%);stroke-opacity:1.0;stroke-width:1\"><g id=\"node-0\" transform=\"translate(184.283,152.945)\"><circle r=\"3.0\"></circle></g><g id=\"node-1\" transform=\"translate(195.917,152.945)\"><circle r=\"3.0\"></circle></g><g id=\"node-2\" transform=\"translate(207.550,152.945)\"><circle r=\"3.0\"></circle></g><g id=\"node-3\" transform=\"translate(219.183,152.945)\"><circle r=\"3.0\"></circle></g><g id=\"node-4\" transform=\"translate(230.817,152.945)\"><circle r=\"3.0\"></circle></g><g id=\"node-5\" transform=\"translate(242.450,152.945)\"><circle r=\"3.0\"></circle></g><g id=\"node-6\" transform=\"translate(254.083,152.945)\"><circle r=\"3.0\"></circle></g><g id=\"node-7\" transform=\"translate(265.717,152.945)\"><circle r=\"3.0\"></circle></g><g id=\"node-8\" transform=\"translate(190.100,122.227)\"><circle r=\"3.0\"></circle></g><g id=\"node-9\" transform=\"translate(198.825,106.774)\"><circle r=\"3.0\"></circle></g><g id=\"node-10\" transform=\"translate(209.004,92.834)\"><circle r=\"3.0\"></circle></g><g id=\"node-11\" transform=\"translate(248.267,92.484)\"><circle r=\"3.0\"></circle></g><g id=\"node-12\" transform=\"translate(219.910,52.028)\"><circle r=\"3.0\"></circle></g><g id=\"node-13\" transform=\"translate(256.992,62.059)\"><circle r=\"3.0\"></circle></g><g id=\"node-14\" transform=\"translate(238.451,29.921)\"><circle r=\"3.0\"></circle></g></g><g class=\"toytree-NodeLabels\" style=\"fill:rgb(14.9%,14.9%,14.9%);fill-opacity:1.0;font-size:9px;stroke:none\"><g transform=\"translate(181.78,155.24)\"><text>0</text></g><g transform=\"translate(193.41,155.24)\"><text>1</text></g><g transform=\"translate(205.05,155.24)\"><text>2</text></g><g transform=\"translate(216.68,155.24)\"><text>3</text></g><g transform=\"translate(228.31,155.24)\"><text>4</text></g><g transform=\"translate(239.95,155.24)\"><text>5</text></g><g transform=\"translate(251.58,155.24)\"><text>6</text></g><g transform=\"translate(263.21,155.24)\"><text>7</text></g><g transform=\"translate(187.60,124.53)\"><text>8</text></g><g transform=\"translate(196.32,109.07)\"><text>9</text></g><g transform=\"translate(204.00,95.13)\"><text>10</text></g><g transform=\"translate(243.26,94.78)\"><text>11</text></g><g transform=\"translate(214.91,54.33)\"><text>12</text></g><g transform=\"translate(251.99,64.36)\"><text>13</text></g><g transform=\"translate(233.45,32.22)\"><text>14</text></g></g><g class=\"toytree-TipLabels\" style=\"fill:rgb(14.9%,14.9%,14.9%);fill-opacity:1.0;font-family:helvetica;font-size:9px;font-weight:normal;stroke:none;white-space:pre\"><g transform=\"translate(184.28,152.95)rotate(-90)\"><text x=\"-18.00\" y=\"2.30\" style=\"\">r5</text></g><g transform=\"translate(195.92,152.95)rotate(-90)\"><text x=\"-18.00\" y=\"2.30\" style=\"\">r4</text></g><g transform=\"translate(207.55,152.95)rotate(-90)\"><text x=\"-18.00\" y=\"2.30\" style=\"\">r3</text></g><g transform=\"translate(219.18,152.94)rotate(-90)\"><text x=\"-18.00\" y=\"2.30\" style=\"\">r6</text></g><g transform=\"translate(230.82,152.94)rotate(-90)\"><text x=\"-18.00\" y=\"2.30\" style=\"\">r7</text></g><g transform=\"translate(242.45,152.94)rotate(-90)\"><text x=\"-18.00\" y=\"2.30\" style=\"\">r1</text></g><g transform=\"translate(254.08,152.94)rotate(-90)\"><text x=\"-18.00\" y=\"2.30\" style=\"\">r0</text></g><g transform=\"translate(265.72,152.94)rotate(-90)\"><text x=\"-18.00\" y=\"2.30\" style=\"\">r2</text></g></g></g></g></g><g class=\"toyplot-coordinates-Cartesian\" id=\"t2ce1cd46710a4ca6a308b5cb2bd5304c\"><clipPath id=\"td157945d8b954d8ab92897c08e898a40\"><rect x=\"315.0\" y=\"15.0\" width=\"120.0\" height=\"170.0\"></rect></clipPath><g clip-path=\"url(#td157945d8b954d8ab92897c08e898a40)\"><g class=\"toytree-mark-Toytree\" id=\"t91ef9be02c9344859d0e186fa902c84d\"><g class=\"toytree-Edges\" style=\"fill:none;stroke:rgb(14.9%,14.9%,14.9%);stroke-linecap:round;stroke-opacity:1;stroke-width:2\"><path d=\"M 378.6 29.9 L 405.5 61.1\" id=\"14,13\"></path><path d=\"M 378.6 29.9 L 351.7 60.5\" id=\"14,12\"></path><path d=\"M 405.5 61.1 L 395.4 91.7\" id=\"13,11\"></path><path d=\"M 351.7 60.5 L 363.4 91.0\" id=\"12,10\"></path><path d=\"M 351.7 60.5 L 340.1 89.6\" id=\"12,9\"></path><path d=\"M 395.4 91.7 L 386.6 122.3\" id=\"11,8\"></path><path d=\"M 405.5 61.1 L 415.7 152.9\" id=\"13,7\"></path><path d=\"M 395.4 91.7 L 404.1 152.9\" id=\"11,6\"></path><path d=\"M 386.6 122.3 L 392.4 152.9\" id=\"8,5\"></path><path d=\"M 386.6 122.3 L 380.8 152.9\" id=\"8,4\"></path><path d=\"M 363.4 91.0 L 369.2 152.9\" id=\"10,3\"></path><path d=\"M 363.4 91.0 L 357.6 152.9\" id=\"10,2\"></path><path d=\"M 340.1 89.6 L 345.9 152.9\" id=\"9,1\"></path><path d=\"M 340.1 89.6 L 334.3 152.9\" id=\"9,0\"></path></g><g class=\"toytree-Nodes\" style=\"fill:rgb(40%,76.1%,64.7%);fill-opacity:1.0;stroke:rgb(14.9%,14.9%,14.9%);stroke-opacity:1.0;stroke-width:1\"><g id=\"node-0\" transform=\"translate(334.283,152.945)\"><circle r=\"3.0\"></circle></g><g id=\"node-1\" transform=\"translate(345.917,152.945)\"><circle r=\"3.0\"></circle></g><g id=\"node-2\" transform=\"translate(357.550,152.945)\"><circle r=\"3.0\"></circle></g><g id=\"node-3\" transform=\"translate(369.183,152.945)\"><circle r=\"3.0\"></circle></g><g id=\"node-4\" transform=\"translate(380.817,152.945)\"><circle r=\"3.0\"></circle></g><g id=\"node-5\" transform=\"translate(392.450,152.945)\"><circle r=\"3.0\"></circle></g><g id=\"node-6\" transform=\"translate(404.083,152.945)\"><circle r=\"3.0\"></circle></g><g id=\"node-7\" transform=\"translate(415.717,152.945)\"><circle r=\"3.0\"></circle></g><g id=\"node-8\" transform=\"translate(386.633,122.259)\"><circle r=\"3.0\"></circle></g><g id=\"node-9\" transform=\"translate(340.100,89.614)\"><circle r=\"3.0\"></circle></g><g id=\"node-10\" transform=\"translate(363.367,91.018)\"><circle r=\"3.0\"></circle></g><g id=\"node-11\" transform=\"translate(395.358,91.664)\"><circle r=\"3.0\"></circle></g><g id=\"node-12\" transform=\"translate(351.733,60.543)\"><circle r=\"3.0\"></circle></g><g id=\"node-13\" transform=\"translate(405.537,61.095)\"><circle r=\"3.0\"></circle></g><g id=\"node-14\" transform=\"translate(378.635,29.921)\"><circle r=\"3.0\"></circle></g></g><g class=\"toytree-NodeLabels\" style=\"fill:rgb(14.9%,14.9%,14.9%);fill-opacity:1.0;font-size:9px;stroke:none\"><g transform=\"translate(331.78,155.24)\"><text>0</text></g><g transform=\"translate(343.41,155.24)\"><text>1</text></g><g transform=\"translate(355.05,155.24)\"><text>2</text></g><g transform=\"translate(366.68,155.24)\"><text>3</text></g><g transform=\"translate(378.31,155.24)\"><text>4</text></g><g transform=\"translate(389.95,155.24)\"><text>5</text></g><g transform=\"translate(401.58,155.24)\"><text>6</text></g><g transform=\"translate(413.21,155.24)\"><text>7</text></g><g transform=\"translate(384.13,124.56)\"><text>8</text></g><g transform=\"translate(337.60,91.91)\"><text>9</text></g><g transform=\"translate(358.36,93.32)\"><text>10</text></g><g transform=\"translate(390.35,93.96)\"><text>11</text></g><g transform=\"translate(346.73,62.84)\"><text>12</text></g><g transform=\"translate(400.53,63.39)\"><text>13</text></g><g transform=\"translate(373.63,32.22)\"><text>14</text></g></g><g class=\"toytree-TipLabels\" style=\"fill:rgb(14.9%,14.9%,14.9%);fill-opacity:1.0;font-family:helvetica;font-size:9px;font-weight:normal;stroke:none;white-space:pre\"><g transform=\"translate(334.28,152.94)rotate(-90)\"><text x=\"-18.00\" y=\"2.30\" style=\"\">r1</text></g><g transform=\"translate(345.92,152.94)rotate(-90)\"><text x=\"-18.00\" y=\"2.30\" style=\"\">r0</text></g><g transform=\"translate(357.55,152.94)rotate(-90)\"><text x=\"-18.00\" y=\"2.30\" style=\"\">r3</text></g><g transform=\"translate(369.18,152.94)rotate(-90)\"><text x=\"-18.00\" y=\"2.30\" style=\"\">r2</text></g><g transform=\"translate(380.82,152.95)rotate(-90)\"><text x=\"-18.00\" y=\"2.30\" style=\"\">r5</text></g><g transform=\"translate(392.45,152.95)rotate(-90)\"><text x=\"-18.00\" y=\"2.30\" style=\"\">r4</text></g><g transform=\"translate(404.08,152.95)rotate(-90)\"><text x=\"-18.00\" y=\"2.30\" style=\"\">r6</text></g><g transform=\"translate(415.72,152.94)rotate(-90)\"><text x=\"-18.00\" y=\"2.30\" style=\"\">r7</text></g></g></g></g></g><g class=\"toyplot-coordinates-Cartesian\" id=\"t473718422af44628a6167694d3b6ec62\"><clipPath id=\"t5c874490067b4ec7886d4707fd471384\"><rect x=\"465.0\" y=\"15.0\" width=\"120.0\" height=\"170.0\"></rect></clipPath><g clip-path=\"url(#t5c874490067b4ec7886d4707fd471384)\"><g class=\"toytree-mark-Toytree\" id=\"td71b0b51557344cdbce1fe3fabd70240\"><g class=\"toytree-Edges\" style=\"fill:none;stroke:rgb(14.9%,14.9%,14.9%);stroke-linecap:round;stroke-opacity:1;stroke-width:2\"><path d=\"M 538.5 29.9 L 557.0 61.7\" id=\"14,13\"></path><path d=\"M 538.5 29.9 L 519.9 60.0\" id=\"14,12\"></path><path d=\"M 557.0 61.7 L 548.3 88.1\" id=\"13,11\"></path><path d=\"M 519.9 60.0 L 509.0 92.0\" id=\"12,10\"></path><path d=\"M 509.0 92.0 L 498.8 106.2\" id=\"10,9\"></path><path d=\"M 498.8 106.2 L 490.1 112.0\" id=\"9,8\"></path><path d=\"M 557.0 61.7 L 565.7 152.9\" id=\"13,7\"></path><path d=\"M 548.3 88.1 L 554.1 152.9\" id=\"11,6\"></path><path d=\"M 548.3 88.1 L 542.4 152.9\" id=\"11,5\"></path><path d=\"M 519.9 60.0 L 530.8 152.9\" id=\"12,4\"></path><path d=\"M 509.0 92.0 L 519.2 152.9\" id=\"10,3\"></path><path d=\"M 498.8 106.2 L 507.6 152.9\" id=\"9,2\"></path><path d=\"M 490.1 112.0 L 495.9 152.9\" id=\"8,1\"></path><path d=\"M 490.1 112.0 L 484.3 152.9\" id=\"8,0\"></path></g><g class=\"toytree-Nodes\" style=\"fill:rgb(40%,76.1%,64.7%);fill-opacity:1.0;stroke:rgb(14.9%,14.9%,14.9%);stroke-opacity:1.0;stroke-width:1\"><g id=\"node-0\" transform=\"translate(484.283,152.945)\"><circle r=\"3.0\"></circle></g><g id=\"node-1\" transform=\"translate(495.917,152.945)\"><circle r=\"3.0\"></circle></g><g id=\"node-2\" transform=\"translate(507.550,152.945)\"><circle r=\"3.0\"></circle></g><g id=\"node-3\" transform=\"translate(519.183,152.945)\"><circle r=\"3.0\"></circle></g><g id=\"node-4\" transform=\"translate(530.817,152.945)\"><circle r=\"3.0\"></circle></g><g id=\"node-5\" transform=\"translate(542.450,152.945)\"><circle r=\"3.0\"></circle></g><g id=\"node-6\" transform=\"translate(554.083,152.945)\"><circle r=\"3.0\"></circle></g><g id=\"node-7\" transform=\"translate(565.717,152.945)\"><circle r=\"3.0\"></circle></g><g id=\"node-8\" transform=\"translate(490.100,112.017)\"><circle r=\"3.0\"></circle></g><g id=\"node-9\" transform=\"translate(498.825,106.226)\"><circle r=\"3.0\"></circle></g><g id=\"node-10\" transform=\"translate(509.004,92.015)\"><circle r=\"3.0\"></circle></g><g id=\"node-11\" transform=\"translate(548.267,88.059)\"><circle r=\"3.0\"></circle></g><g id=\"node-12\" transform=\"translate(519.910,60.038)\"><circle r=\"3.0\"></circle></g><g id=\"node-13\" transform=\"translate(556.992,61.656)\"><circle r=\"3.0\"></circle></g><g id=\"node-14\" transform=\"translate(538.451,29.921)\"><circle r=\"3.0\"></circle></g></g><g class=\"toytree-NodeLabels\" style=\"fill:rgb(14.9%,14.9%,14.9%);fill-opacity:1.0;font-size:9px;stroke:none\"><g transform=\"translate(481.78,155.24)\"><text>0</text></g><g transform=\"translate(493.41,155.24)\"><text>1</text></g><g transform=\"translate(505.05,155.24)\"><text>2</text></g><g transform=\"translate(516.68,155.24)\"><text>3</text></g><g transform=\"translate(528.31,155.24)\"><text>4</text></g><g transform=\"translate(539.95,155.24)\"><text>5</text></g><g transform=\"translate(551.58,155.24)\"><text>6</text></g><g transform=\"translate(563.21,155.24)\"><text>7</text></g><g transform=\"translate(487.60,114.32)\"><text>8</text></g><g transform=\"translate(496.32,108.53)\"><text>9</text></g><g transform=\"translate(504.00,94.31)\"><text>10</text></g><g transform=\"translate(543.26,90.36)\"><text>11</text></g><g transform=\"translate(514.91,62.34)\"><text>12</text></g><g transform=\"translate(551.99,63.96)\"><text>13</text></g><g transform=\"translate(533.45,32.22)\"><text>14</text></g></g><g class=\"toytree-TipLabels\" style=\"fill:rgb(14.9%,14.9%,14.9%);fill-opacity:1.0;font-family:helvetica;font-size:9px;font-weight:normal;stroke:none;white-space:pre\"><g transform=\"translate(484.28,152.94)rotate(-90)\"><text x=\"-18.00\" y=\"2.30\" style=\"\">r5</text></g><g transform=\"translate(495.92,152.94)rotate(-90)\"><text x=\"-18.00\" y=\"2.30\" style=\"\">r4</text></g><g transform=\"translate(507.55,152.94)rotate(-90)\"><text x=\"-18.00\" y=\"2.30\" style=\"\">r3</text></g><g transform=\"translate(519.18,152.95)rotate(-90)\"><text x=\"-18.00\" y=\"2.30\" style=\"\">r6</text></g><g transform=\"translate(530.82,152.94)rotate(-90)\"><text x=\"-18.00\" y=\"2.30\" style=\"\">r7</text></g><g transform=\"translate(542.45,152.94)rotate(-90)\"><text x=\"-18.00\" y=\"2.30\" style=\"\">r1</text></g><g transform=\"translate(554.08,152.94)rotate(-90)\"><text x=\"-18.00\" y=\"2.30\" style=\"\">r0</text></g><g transform=\"translate(565.72,152.94)rotate(-90)\"><text x=\"-18.00\" y=\"2.30\" style=\"\">r2</text></g></g></g></g></g></svg><div class=\"toyplot-behavior\"><script>(function()\n",
       "{\n",
       "var modules={};\n",
       "})();</script></div></div>"
      ]
     },
     "metadata": {},
     "output_type": "display_data"
    }
   ],
   "source": [
    "#create a model with an admixture edge\n",
    "model1 = ipcoal.Model(tree=tree1, mut=1e-8, Ne=1e4, admixture_edges=[(3, 8, 0.5, 0.5)])\n",
    "\n",
    "# simulate n genealogies for each model\n",
    "model1.sim_trees(10)\n",
    "\n",
    "#draw the species tree\n",
    "tree1.draw(tree_style='p')\n",
    "# draw a grid of trees from model 1\n",
    "toytree.mtree(model1.df.genealogy).draw(**kwargs);"
   ]
  },
  {
   "cell_type": "markdown",
   "id": "79a35c7b",
   "metadata": {},
   "source": [
    "# My observations:\n",
    "\n",
    "## Double click into this cell and record your observations from the above activities.\n"
   ]
  },
  {
   "cell_type": "markdown",
   "id": "2fe39a46",
   "metadata": {},
   "source": [
    "<div class=\"alert alert-success\">\n",
    "<b>Submitting the assignment</b>\n",
    "<br /> When you are finished with a notebook and ready to submit it, download as an HTML version of the notebook to submit. To do this, go to the 'File Menu', then 'Download as', and select HTML. Upload the HTML notebook to the 'Phylogenetics Jupyter Notebook' assignment in the In-class assigbments part of the Courseworks to submit your assignment. \n",
    "<div>"
   ]
  }
 ],
 "metadata": {
  "kernelspec": {
   "display_name": "Python 3 (ipykernel)",
   "language": "python",
   "name": "python3"
  },
  "language_info": {
   "codemirror_mode": {
    "name": "ipython",
    "version": 3
   },
   "file_extension": ".py",
   "mimetype": "text/x-python",
   "name": "python",
   "nbconvert_exporter": "python",
   "pygments_lexer": "ipython3",
   "version": "3.9.5"
  }
 },
 "nbformat": 4,
 "nbformat_minor": 5
}
